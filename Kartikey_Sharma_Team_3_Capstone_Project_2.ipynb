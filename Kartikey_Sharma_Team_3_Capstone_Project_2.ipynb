{
  "nbformat": 4,
  "nbformat_minor": 0,
  "metadata": {
    "kernelspec": {
      "display_name": "Python 3",
      "language": "python",
      "name": "python3"
    },
    "language_info": {
      "codemirror_mode": {
        "name": "ipython",
        "version": 3
      },
      "file_extension": ".py",
      "mimetype": "text/x-python",
      "name": "python",
      "nbconvert_exporter": "python",
      "pygments_lexer": "ipython3",
      "version": "3.6.6"
    },
    "colab": {
      "name": "Kartikey Sharma - Team 3 - Capstone Project 2.ipynb",
      "provenance": [],
      "collapsed_sections": [],
      "include_colab_link": true
    }
  },
  "cells": [
    {
      "cell_type": "markdown",
      "metadata": {
        "id": "view-in-github",
        "colab_type": "text"
      },
      "source": [
        "<a href=\"https://colab.research.google.com/github/kronze1996/Taxi-trip-time-Prediction/blob/main/Kartikey_Sharma_Team_3_Capstone_Project_2.ipynb\" target=\"_parent\"><img src=\"https://colab.research.google.com/assets/colab-badge.svg\" alt=\"Open In Colab\"/></a>"
      ]
    },
    {
      "cell_type": "markdown",
      "metadata": {
        "id": "tOGC-qoyhJeX"
      },
      "source": [
        "# <b><u> Project Title : Taxi trip time Prediction : Predicting total ride duration of taxi trips in New York City</u></b>"
      ]
    },
    {
      "cell_type": "markdown",
      "metadata": {
        "id": "Y06xIdG26kRF"
      },
      "source": [
        "## <b> Problem Description </b>\n",
        "\n",
        "### Your task is to build a model that predicts the total ride duration of taxi trips in New York City. Your primary dataset is one released by the NYC Taxi and Limousine Commission, which includes pickup time, geo-coordinates, number of passengers, and several other variables."
      ]
    },
    {
      "cell_type": "markdown",
      "metadata": {
        "id": "WWeU1f9bwqQq"
      },
      "source": [
        "## <b> Data Description </b>\r\n",
        "\r\n",
        "### The dataset is based on the 2016 NYC Yellow Cab trip record data made available in Big Query on Google Cloud Platform. The data was originally published by the NYC Taxi and Limousine Commission (TLC). The data was sampled and cleaned for the purposes of this project. Based on individual trip attributes, you should predict the duration of each trip in the test set.\r\n",
        "\r\n",
        "### <b>NYC Taxi Data.csv</b> - the training set (contains 1458644 trip records)\r\n",
        "\r\n",
        "\r\n",
        "### Data fields\r\n",
        "* #### id - a unique identifier for each trip\r\n",
        "* #### vendor_id - a code indicating the provider associated with the trip record\r\n",
        "* #### pickup_datetime - date and time when the meter was engaged\r\n",
        "* #### dropoff_datetime - date and time when the meter was disengaged\r\n",
        "* #### passenger_count - the number of passengers in the vehicle (driver entered value)\r\n",
        "* #### pickup_longitude - the longitude where the meter was engaged\r\n",
        "* #### pickup_latitude - the latitude where the meter was engaged\r\n",
        "* #### dropoff_longitude - the longitude where the meter was disengaged\r\n",
        "* #### dropoff_latitude - the latitude where the meter was disengaged\r\n",
        "* #### store_and_fwd_flag - This flag indicates whether the trip record was held in vehicle memory before sending to the vendor because the vehicle did not have a connection to the server - Y=store and forward; N=not a store and forward trip\r\n",
        "* #### trip_duration - duration of the trip in seconds"
      ]
    },
    {
      "cell_type": "code",
      "metadata": {
        "colab": {
          "base_uri": "https://localhost:8080/"
        },
        "id": "UtfKasQ7HJdR",
        "outputId": "29f3038d-508c-456a-d289-07875e74ff80"
      },
      "source": [
        "from google.colab import drive\n",
        "drive.mount('/content/drive')"
      ],
      "execution_count": 1,
      "outputs": [
        {
          "output_type": "stream",
          "text": [
            "Mounted at /content/drive\n"
          ],
          "name": "stdout"
        }
      ]
    },
    {
      "cell_type": "markdown",
      "metadata": {
        "id": "mKQc5MRtJEZj"
      },
      "source": [
        "#Exploratory Data Analysis"
      ]
    },
    {
      "cell_type": "markdown",
      "metadata": {
        "id": "ETccr0S4JNS-"
      },
      "source": [
        "Let's first import all the libraries we will need and fetch the data."
      ]
    },
    {
      "cell_type": "code",
      "metadata": {
        "id": "dByMsuzT8Tnw"
      },
      "source": [
        "# Importing the libraries\r\n",
        "import pandas as pd\r\n",
        "import numpy as np\r\n",
        "import matplotlib.pyplot as plt\r\n",
        "import seaborn as sns\r\n",
        "\r\n",
        "from sklearn.model_selection import train_test_split\r\n",
        "from sklearn.preprocessing import OneHotEncoder\r\n",
        "from sklearn.model_selection import GridSearchCV\r\n",
        "from sklearn.model_selection import RandomizedSearchCV\r\n",
        "from sklearn.model_selection import train_test_split\r\n",
        "from sklearn.metrics import accuracy_score, auc\r\n",
        "from sklearn.tree import DecisionTreeClassifier\r\n",
        "from sklearn import ensemble\r\n",
        "\r\n",
        "from sklearn.preprocessing import MinMaxScaler\r\n",
        "from sklearn.linear_model import LinearRegression\r\n",
        "from sklearn.metrics import r2_score\r\n",
        "from sklearn.metrics import mean_squared_error\r\n",
        "import seaborn as sns\r\n",
        "import matplotlib.pyplot as plt\r\n",
        "import warnings\r\n",
        "warnings.filterwarnings('ignore')"
      ],
      "execution_count": 18,
      "outputs": []
    },
    {
      "cell_type": "markdown",
      "metadata": {
        "id": "66zfgM9ZJdK_"
      },
      "source": [
        "Reading the dataset we have."
      ]
    },
    {
      "cell_type": "code",
      "metadata": {
        "id": "nFk_T_bVHJ0P"
      },
      "source": [
        "path = \"/content/drive/MyDrive/AlmaBetter/Cohort Aravali/Module 4/Week 1/NYC Taxi Data.csv\"\r\n",
        "df = pd.read_csv(path)"
      ],
      "execution_count": 19,
      "outputs": []
    },
    {
      "cell_type": "code",
      "metadata": {
        "colab": {
          "base_uri": "https://localhost:8080/",
          "height": 309
        },
        "id": "SaBgSjpCHxa5",
        "outputId": "93a7065b-e7b1-4337-b7ec-5b6c3a631dac"
      },
      "source": [
        "df.head()"
      ],
      "execution_count": 71,
      "outputs": [
        {
          "output_type": "execute_result",
          "data": {
            "text/html": [
              "<div>\n",
              "<style scoped>\n",
              "    .dataframe tbody tr th:only-of-type {\n",
              "        vertical-align: middle;\n",
              "    }\n",
              "\n",
              "    .dataframe tbody tr th {\n",
              "        vertical-align: top;\n",
              "    }\n",
              "\n",
              "    .dataframe thead th {\n",
              "        text-align: right;\n",
              "    }\n",
              "</style>\n",
              "<table border=\"1\" class=\"dataframe\">\n",
              "  <thead>\n",
              "    <tr style=\"text-align: right;\">\n",
              "      <th></th>\n",
              "      <th>id</th>\n",
              "      <th>vendor_id</th>\n",
              "      <th>pickup_datetime</th>\n",
              "      <th>dropoff_datetime</th>\n",
              "      <th>passenger_count</th>\n",
              "      <th>pickup_longitude</th>\n",
              "      <th>pickup_latitude</th>\n",
              "      <th>dropoff_longitude</th>\n",
              "      <th>dropoff_latitude</th>\n",
              "      <th>store_and_fwd_flag</th>\n",
              "      <th>trip_duration</th>\n",
              "      <th>DayOfWeek</th>\n",
              "      <th>distance</th>\n",
              "    </tr>\n",
              "  </thead>\n",
              "  <tbody>\n",
              "    <tr>\n",
              "      <th>0</th>\n",
              "      <td>id2875421</td>\n",
              "      <td>2</td>\n",
              "      <td>2016-03-14 17:24:55</td>\n",
              "      <td>2016-03-14 17:32:30</td>\n",
              "      <td>1</td>\n",
              "      <td>-73.982155</td>\n",
              "      <td>40.767937</td>\n",
              "      <td>-73.964630</td>\n",
              "      <td>40.765602</td>\n",
              "      <td>N</td>\n",
              "      <td>455</td>\n",
              "      <td>Monday</td>\n",
              "      <td>1.498991</td>\n",
              "    </tr>\n",
              "    <tr>\n",
              "      <th>1</th>\n",
              "      <td>id2377394</td>\n",
              "      <td>1</td>\n",
              "      <td>2016-06-12 00:43:35</td>\n",
              "      <td>2016-06-12 00:54:38</td>\n",
              "      <td>1</td>\n",
              "      <td>-73.980415</td>\n",
              "      <td>40.738564</td>\n",
              "      <td>-73.999481</td>\n",
              "      <td>40.731152</td>\n",
              "      <td>N</td>\n",
              "      <td>663</td>\n",
              "      <td>Sunday</td>\n",
              "      <td>1.806074</td>\n",
              "    </tr>\n",
              "    <tr>\n",
              "      <th>2</th>\n",
              "      <td>id3858529</td>\n",
              "      <td>2</td>\n",
              "      <td>2016-01-19 11:35:24</td>\n",
              "      <td>2016-01-19 12:10:48</td>\n",
              "      <td>1</td>\n",
              "      <td>-73.979027</td>\n",
              "      <td>40.763939</td>\n",
              "      <td>-74.005333</td>\n",
              "      <td>40.710087</td>\n",
              "      <td>N</td>\n",
              "      <td>2124</td>\n",
              "      <td>Tuesday</td>\n",
              "      <td>6.387103</td>\n",
              "    </tr>\n",
              "    <tr>\n",
              "      <th>3</th>\n",
              "      <td>id3504673</td>\n",
              "      <td>2</td>\n",
              "      <td>2016-04-06 19:32:31</td>\n",
              "      <td>2016-04-06 19:39:40</td>\n",
              "      <td>1</td>\n",
              "      <td>-74.010040</td>\n",
              "      <td>40.719971</td>\n",
              "      <td>-74.012268</td>\n",
              "      <td>40.706718</td>\n",
              "      <td>N</td>\n",
              "      <td>429</td>\n",
              "      <td>Wednesday</td>\n",
              "      <td>1.485965</td>\n",
              "    </tr>\n",
              "    <tr>\n",
              "      <th>4</th>\n",
              "      <td>id2181028</td>\n",
              "      <td>2</td>\n",
              "      <td>2016-03-26 13:30:55</td>\n",
              "      <td>2016-03-26 13:38:10</td>\n",
              "      <td>1</td>\n",
              "      <td>-73.973053</td>\n",
              "      <td>40.793209</td>\n",
              "      <td>-73.972923</td>\n",
              "      <td>40.782520</td>\n",
              "      <td>N</td>\n",
              "      <td>435</td>\n",
              "      <td>Saturday</td>\n",
              "      <td>1.188962</td>\n",
              "    </tr>\n",
              "  </tbody>\n",
              "</table>\n",
              "</div>"
            ],
            "text/plain": [
              "          id  vendor_id     pickup_datetime  ... trip_duration  DayOfWeek  distance\n",
              "0  id2875421          2 2016-03-14 17:24:55  ...           455     Monday  1.498991\n",
              "1  id2377394          1 2016-06-12 00:43:35  ...           663     Sunday  1.806074\n",
              "2  id3858529          2 2016-01-19 11:35:24  ...          2124    Tuesday  6.387103\n",
              "3  id3504673          2 2016-04-06 19:32:31  ...           429  Wednesday  1.485965\n",
              "4  id2181028          2 2016-03-26 13:30:55  ...           435   Saturday  1.188962\n",
              "\n",
              "[5 rows x 13 columns]"
            ]
          },
          "metadata": {
            "tags": []
          },
          "execution_count": 71
        }
      ]
    },
    {
      "cell_type": "code",
      "metadata": {
        "colab": {
          "base_uri": "https://localhost:8080/",
          "height": 1000
        },
        "id": "tsiDKI3JQ_ck",
        "outputId": "c6d7fa5f-a02b-474d-95ce-286df0762b11"
      },
      "source": [
        "df[df['passenger_count']==0]"
      ],
      "execution_count": 72,
      "outputs": [
        {
          "output_type": "execute_result",
          "data": {
            "text/html": [
              "<div>\n",
              "<style scoped>\n",
              "    .dataframe tbody tr th:only-of-type {\n",
              "        vertical-align: middle;\n",
              "    }\n",
              "\n",
              "    .dataframe tbody tr th {\n",
              "        vertical-align: top;\n",
              "    }\n",
              "\n",
              "    .dataframe thead th {\n",
              "        text-align: right;\n",
              "    }\n",
              "</style>\n",
              "<table border=\"1\" class=\"dataframe\">\n",
              "  <thead>\n",
              "    <tr style=\"text-align: right;\">\n",
              "      <th></th>\n",
              "      <th>id</th>\n",
              "      <th>vendor_id</th>\n",
              "      <th>pickup_datetime</th>\n",
              "      <th>dropoff_datetime</th>\n",
              "      <th>passenger_count</th>\n",
              "      <th>pickup_longitude</th>\n",
              "      <th>pickup_latitude</th>\n",
              "      <th>dropoff_longitude</th>\n",
              "      <th>dropoff_latitude</th>\n",
              "      <th>store_and_fwd_flag</th>\n",
              "      <th>trip_duration</th>\n",
              "      <th>DayOfWeek</th>\n",
              "      <th>distance</th>\n",
              "    </tr>\n",
              "  </thead>\n",
              "  <tbody>\n",
              "    <tr>\n",
              "      <th>62744</th>\n",
              "      <td>id3917283</td>\n",
              "      <td>2</td>\n",
              "      <td>2016-06-06 16:39:09</td>\n",
              "      <td>2016-06-07 16:30:50</td>\n",
              "      <td>0</td>\n",
              "      <td>-73.776367</td>\n",
              "      <td>40.645248</td>\n",
              "      <td>-73.776360</td>\n",
              "      <td>40.645260</td>\n",
              "      <td>N</td>\n",
              "      <td>85901</td>\n",
              "      <td>Monday</td>\n",
              "      <td>0.001427</td>\n",
              "    </tr>\n",
              "    <tr>\n",
              "      <th>136519</th>\n",
              "      <td>id3645383</td>\n",
              "      <td>2</td>\n",
              "      <td>2016-01-01 05:01:32</td>\n",
              "      <td>2016-01-01 05:01:36</td>\n",
              "      <td>0</td>\n",
              "      <td>-73.993134</td>\n",
              "      <td>40.757473</td>\n",
              "      <td>-73.993294</td>\n",
              "      <td>40.757538</td>\n",
              "      <td>N</td>\n",
              "      <td>4</td>\n",
              "      <td>Friday</td>\n",
              "      <td>0.015305</td>\n",
              "    </tr>\n",
              "    <tr>\n",
              "      <th>194288</th>\n",
              "      <td>id2840829</td>\n",
              "      <td>2</td>\n",
              "      <td>2016-02-21 01:33:52</td>\n",
              "      <td>2016-02-21 01:36:27</td>\n",
              "      <td>0</td>\n",
              "      <td>-73.946243</td>\n",
              "      <td>40.772903</td>\n",
              "      <td>-73.946770</td>\n",
              "      <td>40.774841</td>\n",
              "      <td>N</td>\n",
              "      <td>155</td>\n",
              "      <td>Sunday</td>\n",
              "      <td>0.220062</td>\n",
              "    </tr>\n",
              "    <tr>\n",
              "      <th>217765</th>\n",
              "      <td>id3762593</td>\n",
              "      <td>1</td>\n",
              "      <td>2016-01-04 12:24:17</td>\n",
              "      <td>2016-01-04 13:01:48</td>\n",
              "      <td>0</td>\n",
              "      <td>-73.815224</td>\n",
              "      <td>40.700081</td>\n",
              "      <td>-73.950699</td>\n",
              "      <td>40.755222</td>\n",
              "      <td>N</td>\n",
              "      <td>2251</td>\n",
              "      <td>Monday</td>\n",
              "      <td>12.962369</td>\n",
              "    </tr>\n",
              "    <tr>\n",
              "      <th>263809</th>\n",
              "      <td>id2154895</td>\n",
              "      <td>1</td>\n",
              "      <td>2016-05-23 23:37:37</td>\n",
              "      <td>2016-05-23 23:37:45</td>\n",
              "      <td>0</td>\n",
              "      <td>-73.861633</td>\n",
              "      <td>40.705029</td>\n",
              "      <td>-73.861633</td>\n",
              "      <td>40.705029</td>\n",
              "      <td>N</td>\n",
              "      <td>8</td>\n",
              "      <td>Monday</td>\n",
              "      <td>0.000000</td>\n",
              "    </tr>\n",
              "    <tr>\n",
              "      <th>278290</th>\n",
              "      <td>id0796773</td>\n",
              "      <td>1</td>\n",
              "      <td>2016-02-07 17:23:48</td>\n",
              "      <td>2016-02-07 17:23:57</td>\n",
              "      <td>0</td>\n",
              "      <td>-73.954941</td>\n",
              "      <td>40.687866</td>\n",
              "      <td>-73.954742</td>\n",
              "      <td>40.687862</td>\n",
              "      <td>N</td>\n",
              "      <td>9</td>\n",
              "      <td>Sunday</td>\n",
              "      <td>0.016736</td>\n",
              "    </tr>\n",
              "    <tr>\n",
              "      <th>301600</th>\n",
              "      <td>id2091096</td>\n",
              "      <td>2</td>\n",
              "      <td>2016-01-01 23:52:46</td>\n",
              "      <td>2016-01-02 00:27:18</td>\n",
              "      <td>0</td>\n",
              "      <td>-73.993652</td>\n",
              "      <td>40.757046</td>\n",
              "      <td>-73.918869</td>\n",
              "      <td>40.757793</td>\n",
              "      <td>N</td>\n",
              "      <td>2072</td>\n",
              "      <td>Friday</td>\n",
              "      <td>6.301375</td>\n",
              "    </tr>\n",
              "    <tr>\n",
              "      <th>303133</th>\n",
              "      <td>id0414625</td>\n",
              "      <td>2</td>\n",
              "      <td>2016-01-05 18:52:20</td>\n",
              "      <td>2016-01-05 18:52:35</td>\n",
              "      <td>0</td>\n",
              "      <td>-73.985291</td>\n",
              "      <td>40.738335</td>\n",
              "      <td>-73.985352</td>\n",
              "      <td>40.738361</td>\n",
              "      <td>N</td>\n",
              "      <td>15</td>\n",
              "      <td>Tuesday</td>\n",
              "      <td>0.005940</td>\n",
              "    </tr>\n",
              "    <tr>\n",
              "      <th>337809</th>\n",
              "      <td>id0271506</td>\n",
              "      <td>2</td>\n",
              "      <td>2016-05-22 00:23:15</td>\n",
              "      <td>2016-05-22 00:23:56</td>\n",
              "      <td>0</td>\n",
              "      <td>-73.956718</td>\n",
              "      <td>40.777142</td>\n",
              "      <td>-73.956764</td>\n",
              "      <td>40.776958</td>\n",
              "      <td>N</td>\n",
              "      <td>41</td>\n",
              "      <td>Sunday</td>\n",
              "      <td>0.020729</td>\n",
              "    </tr>\n",
              "    <tr>\n",
              "      <th>375972</th>\n",
              "      <td>id3176865</td>\n",
              "      <td>2</td>\n",
              "      <td>2016-05-31 05:10:23</td>\n",
              "      <td>2016-05-31 05:10:38</td>\n",
              "      <td>0</td>\n",
              "      <td>-73.982468</td>\n",
              "      <td>40.727974</td>\n",
              "      <td>-73.982468</td>\n",
              "      <td>40.728001</td>\n",
              "      <td>N</td>\n",
              "      <td>15</td>\n",
              "      <td>Tuesday</td>\n",
              "      <td>0.002970</td>\n",
              "    </tr>\n",
              "    <tr>\n",
              "      <th>383407</th>\n",
              "      <td>id3493269</td>\n",
              "      <td>2</td>\n",
              "      <td>2016-01-14 19:09:41</td>\n",
              "      <td>2016-01-14 19:09:48</td>\n",
              "      <td>0</td>\n",
              "      <td>-73.904709</td>\n",
              "      <td>40.758099</td>\n",
              "      <td>-73.904716</td>\n",
              "      <td>40.758148</td>\n",
              "      <td>N</td>\n",
              "      <td>7</td>\n",
              "      <td>Thursday</td>\n",
              "      <td>0.005553</td>\n",
              "    </tr>\n",
              "    <tr>\n",
              "      <th>412172</th>\n",
              "      <td>id2247129</td>\n",
              "      <td>2</td>\n",
              "      <td>2016-01-13 11:50:12</td>\n",
              "      <td>2016-01-13 12:16:08</td>\n",
              "      <td>0</td>\n",
              "      <td>-73.965027</td>\n",
              "      <td>40.775269</td>\n",
              "      <td>-73.973450</td>\n",
              "      <td>40.840618</td>\n",
              "      <td>N</td>\n",
              "      <td>1556</td>\n",
              "      <td>Wednesday</td>\n",
              "      <td>7.303331</td>\n",
              "    </tr>\n",
              "    <tr>\n",
              "      <th>415843</th>\n",
              "      <td>id1794493</td>\n",
              "      <td>2</td>\n",
              "      <td>2016-03-20 01:25:42</td>\n",
              "      <td>2016-03-20 01:26:04</td>\n",
              "      <td>0</td>\n",
              "      <td>-73.995094</td>\n",
              "      <td>40.760296</td>\n",
              "      <td>-73.995064</td>\n",
              "      <td>40.760284</td>\n",
              "      <td>N</td>\n",
              "      <td>22</td>\n",
              "      <td>Sunday</td>\n",
              "      <td>0.002869</td>\n",
              "    </tr>\n",
              "    <tr>\n",
              "      <th>437735</th>\n",
              "      <td>id2891366</td>\n",
              "      <td>1</td>\n",
              "      <td>2016-02-18 21:26:15</td>\n",
              "      <td>2016-02-18 21:28:00</td>\n",
              "      <td>0</td>\n",
              "      <td>-73.983543</td>\n",
              "      <td>40.716404</td>\n",
              "      <td>-73.983543</td>\n",
              "      <td>40.716404</td>\n",
              "      <td>N</td>\n",
              "      <td>105</td>\n",
              "      <td>Thursday</td>\n",
              "      <td>0.000000</td>\n",
              "    </tr>\n",
              "    <tr>\n",
              "      <th>447838</th>\n",
              "      <td>id1253169</td>\n",
              "      <td>1</td>\n",
              "      <td>2016-02-28 01:08:48</td>\n",
              "      <td>2016-02-28 01:09:01</td>\n",
              "      <td>0</td>\n",
              "      <td>-74.035942</td>\n",
              "      <td>40.736488</td>\n",
              "      <td>-74.035942</td>\n",
              "      <td>40.736492</td>\n",
              "      <td>N</td>\n",
              "      <td>13</td>\n",
              "      <td>Sunday</td>\n",
              "      <td>0.000424</td>\n",
              "    </tr>\n",
              "    <tr>\n",
              "      <th>521316</th>\n",
              "      <td>id2571672</td>\n",
              "      <td>1</td>\n",
              "      <td>2016-03-06 05:24:55</td>\n",
              "      <td>2016-03-06 05:25:00</td>\n",
              "      <td>0</td>\n",
              "      <td>-73.979698</td>\n",
              "      <td>40.761196</td>\n",
              "      <td>-73.979698</td>\n",
              "      <td>40.761196</td>\n",
              "      <td>Y</td>\n",
              "      <td>5</td>\n",
              "      <td>Sunday</td>\n",
              "      <td>0.000000</td>\n",
              "    </tr>\n",
              "    <tr>\n",
              "      <th>553862</th>\n",
              "      <td>id1822284</td>\n",
              "      <td>1</td>\n",
              "      <td>2016-04-10 20:20:43</td>\n",
              "      <td>2016-04-10 20:20:47</td>\n",
              "      <td>0</td>\n",
              "      <td>-73.991020</td>\n",
              "      <td>40.733791</td>\n",
              "      <td>-73.991066</td>\n",
              "      <td>40.733501</td>\n",
              "      <td>N</td>\n",
              "      <td>4</td>\n",
              "      <td>Sunday</td>\n",
              "      <td>0.032477</td>\n",
              "    </tr>\n",
              "    <tr>\n",
              "      <th>582469</th>\n",
              "      <td>id0663459</td>\n",
              "      <td>2</td>\n",
              "      <td>2016-06-11 01:24:47</td>\n",
              "      <td>2016-06-11 01:25:36</td>\n",
              "      <td>0</td>\n",
              "      <td>-73.996506</td>\n",
              "      <td>40.644638</td>\n",
              "      <td>-73.996521</td>\n",
              "      <td>40.644650</td>\n",
              "      <td>N</td>\n",
              "      <td>49</td>\n",
              "      <td>Saturday</td>\n",
              "      <td>0.001811</td>\n",
              "    </tr>\n",
              "    <tr>\n",
              "      <th>621221</th>\n",
              "      <td>id1039576</td>\n",
              "      <td>1</td>\n",
              "      <td>2016-05-13 12:08:39</td>\n",
              "      <td>2016-05-13 12:08:45</td>\n",
              "      <td>0</td>\n",
              "      <td>-73.801979</td>\n",
              "      <td>40.664188</td>\n",
              "      <td>-73.801888</td>\n",
              "      <td>40.665359</td>\n",
              "      <td>N</td>\n",
              "      <td>6</td>\n",
              "      <td>Friday</td>\n",
              "      <td>0.130491</td>\n",
              "    </tr>\n",
              "    <tr>\n",
              "      <th>649337</th>\n",
              "      <td>id3347660</td>\n",
              "      <td>2</td>\n",
              "      <td>2016-05-29 01:26:30</td>\n",
              "      <td>2016-05-29 01:26:49</td>\n",
              "      <td>0</td>\n",
              "      <td>-73.932732</td>\n",
              "      <td>40.856438</td>\n",
              "      <td>-73.932762</td>\n",
              "      <td>40.856438</td>\n",
              "      <td>N</td>\n",
              "      <td>19</td>\n",
              "      <td>Sunday</td>\n",
              "      <td>0.002567</td>\n",
              "    </tr>\n",
              "    <tr>\n",
              "      <th>676906</th>\n",
              "      <td>id0878599</td>\n",
              "      <td>1</td>\n",
              "      <td>2016-01-25 08:46:58</td>\n",
              "      <td>2016-01-25 09:41:01</td>\n",
              "      <td>0</td>\n",
              "      <td>-73.928078</td>\n",
              "      <td>40.736412</td>\n",
              "      <td>-73.985519</td>\n",
              "      <td>40.758972</td>\n",
              "      <td>N</td>\n",
              "      <td>3243</td>\n",
              "      <td>Monday</td>\n",
              "      <td>5.452211</td>\n",
              "    </tr>\n",
              "    <tr>\n",
              "      <th>718163</th>\n",
              "      <td>id1610720</td>\n",
              "      <td>2</td>\n",
              "      <td>2016-03-13 14:08:20</td>\n",
              "      <td>2016-03-13 14:08:28</td>\n",
              "      <td>0</td>\n",
              "      <td>-73.922081</td>\n",
              "      <td>40.636040</td>\n",
              "      <td>-73.922081</td>\n",
              "      <td>40.636040</td>\n",
              "      <td>N</td>\n",
              "      <td>8</td>\n",
              "      <td>Sunday</td>\n",
              "      <td>0.000000</td>\n",
              "    </tr>\n",
              "    <tr>\n",
              "      <th>722399</th>\n",
              "      <td>id1593144</td>\n",
              "      <td>1</td>\n",
              "      <td>2016-01-08 21:55:27</td>\n",
              "      <td>2016-01-08 22:01:52</td>\n",
              "      <td>0</td>\n",
              "      <td>-73.980957</td>\n",
              "      <td>40.742142</td>\n",
              "      <td>-73.986122</td>\n",
              "      <td>40.729488</td>\n",
              "      <td>N</td>\n",
              "      <td>385</td>\n",
              "      <td>Friday</td>\n",
              "      <td>1.473216</td>\n",
              "    </tr>\n",
              "    <tr>\n",
              "      <th>727514</th>\n",
              "      <td>id1857858</td>\n",
              "      <td>2</td>\n",
              "      <td>2016-01-09 01:53:24</td>\n",
              "      <td>2016-01-09 01:53:26</td>\n",
              "      <td>0</td>\n",
              "      <td>-73.956123</td>\n",
              "      <td>40.668156</td>\n",
              "      <td>-73.956085</td>\n",
              "      <td>40.668110</td>\n",
              "      <td>N</td>\n",
              "      <td>2</td>\n",
              "      <td>Saturday</td>\n",
              "      <td>0.006024</td>\n",
              "    </tr>\n",
              "    <tr>\n",
              "      <th>776276</th>\n",
              "      <td>id3066152</td>\n",
              "      <td>1</td>\n",
              "      <td>2016-02-01 00:27:13</td>\n",
              "      <td>2016-02-01 00:27:58</td>\n",
              "      <td>0</td>\n",
              "      <td>-74.014488</td>\n",
              "      <td>40.708229</td>\n",
              "      <td>-74.014488</td>\n",
              "      <td>40.708229</td>\n",
              "      <td>N</td>\n",
              "      <td>45</td>\n",
              "      <td>Monday</td>\n",
              "      <td>0.000000</td>\n",
              "    </tr>\n",
              "    <tr>\n",
              "      <th>777319</th>\n",
              "      <td>id3364866</td>\n",
              "      <td>1</td>\n",
              "      <td>2016-02-13 14:04:20</td>\n",
              "      <td>2016-02-13 14:21:29</td>\n",
              "      <td>0</td>\n",
              "      <td>-73.990479</td>\n",
              "      <td>40.742004</td>\n",
              "      <td>-73.989243</td>\n",
              "      <td>40.763680</td>\n",
              "      <td>N</td>\n",
              "      <td>1029</td>\n",
              "      <td>Saturday</td>\n",
              "      <td>2.413167</td>\n",
              "    </tr>\n",
              "    <tr>\n",
              "      <th>796361</th>\n",
              "      <td>id3494250</td>\n",
              "      <td>1</td>\n",
              "      <td>2016-04-02 02:32:10</td>\n",
              "      <td>2016-04-02 02:50:51</td>\n",
              "      <td>0</td>\n",
              "      <td>-74.005089</td>\n",
              "      <td>40.729038</td>\n",
              "      <td>-74.032486</td>\n",
              "      <td>40.619579</td>\n",
              "      <td>N</td>\n",
              "      <td>1121</td>\n",
              "      <td>Saturday</td>\n",
              "      <td>12.392527</td>\n",
              "    </tr>\n",
              "    <tr>\n",
              "      <th>827485</th>\n",
              "      <td>id2029944</td>\n",
              "      <td>1</td>\n",
              "      <td>2016-03-11 09:38:54</td>\n",
              "      <td>2016-03-11 09:38:57</td>\n",
              "      <td>0</td>\n",
              "      <td>-73.790398</td>\n",
              "      <td>40.655457</td>\n",
              "      <td>-73.790398</td>\n",
              "      <td>40.655457</td>\n",
              "      <td>N</td>\n",
              "      <td>3</td>\n",
              "      <td>Friday</td>\n",
              "      <td>0.000000</td>\n",
              "    </tr>\n",
              "    <tr>\n",
              "      <th>875056</th>\n",
              "      <td>id3533680</td>\n",
              "      <td>1</td>\n",
              "      <td>2016-01-10 04:17:21</td>\n",
              "      <td>2016-01-10 04:17:24</td>\n",
              "      <td>0</td>\n",
              "      <td>-73.993195</td>\n",
              "      <td>40.598701</td>\n",
              "      <td>-73.993195</td>\n",
              "      <td>40.598701</td>\n",
              "      <td>N</td>\n",
              "      <td>3</td>\n",
              "      <td>Sunday</td>\n",
              "      <td>0.000000</td>\n",
              "    </tr>\n",
              "    <tr>\n",
              "      <th>904688</th>\n",
              "      <td>id3563937</td>\n",
              "      <td>1</td>\n",
              "      <td>2016-02-13 16:52:38</td>\n",
              "      <td>2016-02-13 16:57:48</td>\n",
              "      <td>0</td>\n",
              "      <td>-73.962097</td>\n",
              "      <td>40.776146</td>\n",
              "      <td>-73.958160</td>\n",
              "      <td>40.767014</td>\n",
              "      <td>N</td>\n",
              "      <td>310</td>\n",
              "      <td>Saturday</td>\n",
              "      <td>1.068554</td>\n",
              "    </tr>\n",
              "    <tr>\n",
              "      <th>911071</th>\n",
              "      <td>id0959777</td>\n",
              "      <td>2</td>\n",
              "      <td>2016-03-01 19:11:26</td>\n",
              "      <td>2016-03-01 19:11:30</td>\n",
              "      <td>0</td>\n",
              "      <td>-74.003777</td>\n",
              "      <td>40.738186</td>\n",
              "      <td>-74.003807</td>\n",
              "      <td>40.738174</td>\n",
              "      <td>N</td>\n",
              "      <td>4</td>\n",
              "      <td>Tuesday</td>\n",
              "      <td>0.002870</td>\n",
              "    </tr>\n",
              "    <tr>\n",
              "      <th>914211</th>\n",
              "      <td>id1656232</td>\n",
              "      <td>1</td>\n",
              "      <td>2016-04-21 06:04:56</td>\n",
              "      <td>2016-04-21 06:05:18</td>\n",
              "      <td>0</td>\n",
              "      <td>-73.978149</td>\n",
              "      <td>40.750183</td>\n",
              "      <td>-73.978104</td>\n",
              "      <td>40.750477</td>\n",
              "      <td>N</td>\n",
              "      <td>22</td>\n",
              "      <td>Thursday</td>\n",
              "      <td>0.032899</td>\n",
              "    </tr>\n",
              "    <tr>\n",
              "      <th>919750</th>\n",
              "      <td>id1880173</td>\n",
              "      <td>1</td>\n",
              "      <td>2016-02-17 21:17:45</td>\n",
              "      <td>2016-02-17 21:27:46</td>\n",
              "      <td>0</td>\n",
              "      <td>-73.976921</td>\n",
              "      <td>40.755753</td>\n",
              "      <td>-73.994186</td>\n",
              "      <td>40.746025</td>\n",
              "      <td>N</td>\n",
              "      <td>601</td>\n",
              "      <td>Wednesday</td>\n",
              "      <td>1.813064</td>\n",
              "    </tr>\n",
              "    <tr>\n",
              "      <th>921640</th>\n",
              "      <td>id1325601</td>\n",
              "      <td>2</td>\n",
              "      <td>2016-05-05 02:00:31</td>\n",
              "      <td>2016-05-05 02:00:45</td>\n",
              "      <td>0</td>\n",
              "      <td>-73.995796</td>\n",
              "      <td>40.720516</td>\n",
              "      <td>-73.995667</td>\n",
              "      <td>40.720551</td>\n",
              "      <td>N</td>\n",
              "      <td>14</td>\n",
              "      <td>Thursday</td>\n",
              "      <td>0.011582</td>\n",
              "    </tr>\n",
              "    <tr>\n",
              "      <th>934078</th>\n",
              "      <td>id3251852</td>\n",
              "      <td>1</td>\n",
              "      <td>2016-02-01 01:26:36</td>\n",
              "      <td>2016-02-01 01:27:03</td>\n",
              "      <td>0</td>\n",
              "      <td>-73.988678</td>\n",
              "      <td>40.721344</td>\n",
              "      <td>-73.988670</td>\n",
              "      <td>40.721344</td>\n",
              "      <td>N</td>\n",
              "      <td>27</td>\n",
              "      <td>Monday</td>\n",
              "      <td>0.000643</td>\n",
              "    </tr>\n",
              "    <tr>\n",
              "      <th>954696</th>\n",
              "      <td>id2613392</td>\n",
              "      <td>2</td>\n",
              "      <td>2016-03-31 22:25:35</td>\n",
              "      <td>2016-03-31 22:25:42</td>\n",
              "      <td>0</td>\n",
              "      <td>-74.010307</td>\n",
              "      <td>40.718697</td>\n",
              "      <td>-74.010330</td>\n",
              "      <td>40.718651</td>\n",
              "      <td>N</td>\n",
              "      <td>7</td>\n",
              "      <td>Thursday</td>\n",
              "      <td>0.005445</td>\n",
              "    </tr>\n",
              "    <tr>\n",
              "      <th>986189</th>\n",
              "      <td>id1376024</td>\n",
              "      <td>1</td>\n",
              "      <td>2016-04-01 16:10:32</td>\n",
              "      <td>2016-04-01 16:11:01</td>\n",
              "      <td>0</td>\n",
              "      <td>-73.951973</td>\n",
              "      <td>40.733479</td>\n",
              "      <td>-73.951996</td>\n",
              "      <td>40.733471</td>\n",
              "      <td>N</td>\n",
              "      <td>29</td>\n",
              "      <td>Friday</td>\n",
              "      <td>0.002108</td>\n",
              "    </tr>\n",
              "    <tr>\n",
              "      <th>1025067</th>\n",
              "      <td>id2063256</td>\n",
              "      <td>1</td>\n",
              "      <td>2016-03-25 17:45:27</td>\n",
              "      <td>2016-03-25 17:46:55</td>\n",
              "      <td>0</td>\n",
              "      <td>-73.994804</td>\n",
              "      <td>40.720661</td>\n",
              "      <td>-73.995125</td>\n",
              "      <td>40.720715</td>\n",
              "      <td>N</td>\n",
              "      <td>88</td>\n",
              "      <td>Friday</td>\n",
              "      <td>0.027658</td>\n",
              "    </tr>\n",
              "    <tr>\n",
              "      <th>1032513</th>\n",
              "      <td>id1992999</td>\n",
              "      <td>2</td>\n",
              "      <td>2016-01-18 23:15:34</td>\n",
              "      <td>2016-01-18 23:15:37</td>\n",
              "      <td>0</td>\n",
              "      <td>-73.987083</td>\n",
              "      <td>40.757889</td>\n",
              "      <td>-73.988220</td>\n",
              "      <td>40.759033</td>\n",
              "      <td>N</td>\n",
              "      <td>3</td>\n",
              "      <td>Monday</td>\n",
              "      <td>0.159300</td>\n",
              "    </tr>\n",
              "    <tr>\n",
              "      <th>1049209</th>\n",
              "      <td>id1846091</td>\n",
              "      <td>2</td>\n",
              "      <td>2016-01-16 00:50:18</td>\n",
              "      <td>2016-01-16 00:51:36</td>\n",
              "      <td>0</td>\n",
              "      <td>-73.919167</td>\n",
              "      <td>40.686878</td>\n",
              "      <td>-73.919151</td>\n",
              "      <td>40.686874</td>\n",
              "      <td>N</td>\n",
              "      <td>78</td>\n",
              "      <td>Saturday</td>\n",
              "      <td>0.001355</td>\n",
              "    </tr>\n",
              "    <tr>\n",
              "      <th>1092678</th>\n",
              "      <td>id2957383</td>\n",
              "      <td>1</td>\n",
              "      <td>2016-05-20 03:22:01</td>\n",
              "      <td>2016-05-20 03:23:09</td>\n",
              "      <td>0</td>\n",
              "      <td>-74.005341</td>\n",
              "      <td>40.871922</td>\n",
              "      <td>-74.006096</td>\n",
              "      <td>40.872318</td>\n",
              "      <td>Y</td>\n",
              "      <td>68</td>\n",
              "      <td>Friday</td>\n",
              "      <td>0.077351</td>\n",
              "    </tr>\n",
              "    <tr>\n",
              "      <th>1101359</th>\n",
              "      <td>id2535067</td>\n",
              "      <td>1</td>\n",
              "      <td>2016-06-13 05:59:07</td>\n",
              "      <td>2016-06-13 05:59:16</td>\n",
              "      <td>0</td>\n",
              "      <td>-73.947174</td>\n",
              "      <td>40.826153</td>\n",
              "      <td>-73.947220</td>\n",
              "      <td>40.826084</td>\n",
              "      <td>Y</td>\n",
              "      <td>9</td>\n",
              "      <td>Monday</td>\n",
              "      <td>0.008554</td>\n",
              "    </tr>\n",
              "    <tr>\n",
              "      <th>1122417</th>\n",
              "      <td>id0593652</td>\n",
              "      <td>2</td>\n",
              "      <td>2016-06-08 19:34:25</td>\n",
              "      <td>2016-06-08 19:34:55</td>\n",
              "      <td>0</td>\n",
              "      <td>-73.964203</td>\n",
              "      <td>40.773273</td>\n",
              "      <td>-73.964218</td>\n",
              "      <td>40.773182</td>\n",
              "      <td>N</td>\n",
              "      <td>30</td>\n",
              "      <td>Wednesday</td>\n",
              "      <td>0.010264</td>\n",
              "    </tr>\n",
              "    <tr>\n",
              "      <th>1131166</th>\n",
              "      <td>id1688347</td>\n",
              "      <td>2</td>\n",
              "      <td>2016-05-19 19:55:58</td>\n",
              "      <td>2016-05-19 19:56:23</td>\n",
              "      <td>0</td>\n",
              "      <td>-73.972145</td>\n",
              "      <td>40.747833</td>\n",
              "      <td>-73.972130</td>\n",
              "      <td>40.747982</td>\n",
              "      <td>N</td>\n",
              "      <td>25</td>\n",
              "      <td>Thursday</td>\n",
              "      <td>0.016598</td>\n",
              "    </tr>\n",
              "    <tr>\n",
              "      <th>1144278</th>\n",
              "      <td>id1220914</td>\n",
              "      <td>2</td>\n",
              "      <td>2016-01-17 20:51:55</td>\n",
              "      <td>2016-01-17 20:52:43</td>\n",
              "      <td>0</td>\n",
              "      <td>-73.959999</td>\n",
              "      <td>40.766861</td>\n",
              "      <td>-73.960106</td>\n",
              "      <td>40.766911</td>\n",
              "      <td>N</td>\n",
              "      <td>48</td>\n",
              "      <td>Sunday</td>\n",
              "      <td>0.010554</td>\n",
              "    </tr>\n",
              "    <tr>\n",
              "      <th>1211269</th>\n",
              "      <td>id0662963</td>\n",
              "      <td>2</td>\n",
              "      <td>2016-02-13 04:41:13</td>\n",
              "      <td>2016-02-13 04:41:22</td>\n",
              "      <td>0</td>\n",
              "      <td>-73.945633</td>\n",
              "      <td>40.803673</td>\n",
              "      <td>-73.945625</td>\n",
              "      <td>40.803661</td>\n",
              "      <td>N</td>\n",
              "      <td>9</td>\n",
              "      <td>Saturday</td>\n",
              "      <td>0.001426</td>\n",
              "    </tr>\n",
              "    <tr>\n",
              "      <th>1257574</th>\n",
              "      <td>id1205792</td>\n",
              "      <td>1</td>\n",
              "      <td>2016-03-11 12:33:17</td>\n",
              "      <td>2016-03-11 13:09:48</td>\n",
              "      <td>0</td>\n",
              "      <td>-73.982063</td>\n",
              "      <td>40.763798</td>\n",
              "      <td>-74.188072</td>\n",
              "      <td>40.694042</td>\n",
              "      <td>N</td>\n",
              "      <td>2191</td>\n",
              "      <td>Friday</td>\n",
              "      <td>19.019191</td>\n",
              "    </tr>\n",
              "    <tr>\n",
              "      <th>1262950</th>\n",
              "      <td>id1038365</td>\n",
              "      <td>1</td>\n",
              "      <td>2016-04-02 22:03:27</td>\n",
              "      <td>2016-04-02 22:03:36</td>\n",
              "      <td>0</td>\n",
              "      <td>-73.954437</td>\n",
              "      <td>40.765739</td>\n",
              "      <td>-73.954445</td>\n",
              "      <td>40.765759</td>\n",
              "      <td>N</td>\n",
              "      <td>9</td>\n",
              "      <td>Saturday</td>\n",
              "      <td>0.002217</td>\n",
              "    </tr>\n",
              "    <tr>\n",
              "      <th>1265736</th>\n",
              "      <td>id0483580</td>\n",
              "      <td>2</td>\n",
              "      <td>2016-01-16 20:37:35</td>\n",
              "      <td>2016-01-16 20:37:38</td>\n",
              "      <td>0</td>\n",
              "      <td>-73.968964</td>\n",
              "      <td>40.801743</td>\n",
              "      <td>-73.968903</td>\n",
              "      <td>40.801853</td>\n",
              "      <td>N</td>\n",
              "      <td>3</td>\n",
              "      <td>Saturday</td>\n",
              "      <td>0.013335</td>\n",
              "    </tr>\n",
              "    <tr>\n",
              "      <th>1276436</th>\n",
              "      <td>id1392994</td>\n",
              "      <td>1</td>\n",
              "      <td>2016-04-07 23:37:19</td>\n",
              "      <td>2016-04-07 23:37:21</td>\n",
              "      <td>0</td>\n",
              "      <td>-74.042969</td>\n",
              "      <td>40.719540</td>\n",
              "      <td>-74.042961</td>\n",
              "      <td>40.719536</td>\n",
              "      <td>N</td>\n",
              "      <td>2</td>\n",
              "      <td>Thursday</td>\n",
              "      <td>0.000771</td>\n",
              "    </tr>\n",
              "    <tr>\n",
              "      <th>1280443</th>\n",
              "      <td>id3267095</td>\n",
              "      <td>2</td>\n",
              "      <td>2016-02-13 01:33:02</td>\n",
              "      <td>2016-02-13 01:33:06</td>\n",
              "      <td>0</td>\n",
              "      <td>-73.979118</td>\n",
              "      <td>40.760181</td>\n",
              "      <td>-73.979111</td>\n",
              "      <td>40.760159</td>\n",
              "      <td>N</td>\n",
              "      <td>4</td>\n",
              "      <td>Saturday</td>\n",
              "      <td>0.002626</td>\n",
              "    </tr>\n",
              "    <tr>\n",
              "      <th>1293792</th>\n",
              "      <td>id1119951</td>\n",
              "      <td>2</td>\n",
              "      <td>2016-03-24 21:50:50</td>\n",
              "      <td>2016-03-24 21:50:57</td>\n",
              "      <td>0</td>\n",
              "      <td>-73.958786</td>\n",
              "      <td>40.780354</td>\n",
              "      <td>-73.958740</td>\n",
              "      <td>40.780338</td>\n",
              "      <td>N</td>\n",
              "      <td>7</td>\n",
              "      <td>Thursday</td>\n",
              "      <td>0.004213</td>\n",
              "    </tr>\n",
              "    <tr>\n",
              "      <th>1296239</th>\n",
              "      <td>id0948644</td>\n",
              "      <td>2</td>\n",
              "      <td>2016-02-22 00:40:25</td>\n",
              "      <td>2016-02-22 00:40:26</td>\n",
              "      <td>0</td>\n",
              "      <td>-73.987595</td>\n",
              "      <td>40.719997</td>\n",
              "      <td>-73.987595</td>\n",
              "      <td>40.720005</td>\n",
              "      <td>N</td>\n",
              "      <td>1</td>\n",
              "      <td>Monday</td>\n",
              "      <td>0.000849</td>\n",
              "    </tr>\n",
              "    <tr>\n",
              "      <th>1364548</th>\n",
              "      <td>id1699275</td>\n",
              "      <td>1</td>\n",
              "      <td>2016-04-04 19:44:41</td>\n",
              "      <td>2016-04-04 19:50:16</td>\n",
              "      <td>0</td>\n",
              "      <td>-73.981979</td>\n",
              "      <td>40.752281</td>\n",
              "      <td>-73.992676</td>\n",
              "      <td>40.737278</td>\n",
              "      <td>N</td>\n",
              "      <td>335</td>\n",
              "      <td>Monday</td>\n",
              "      <td>1.896685</td>\n",
              "    </tr>\n",
              "    <tr>\n",
              "      <th>1368627</th>\n",
              "      <td>id3368191</td>\n",
              "      <td>1</td>\n",
              "      <td>2016-05-08 23:38:09</td>\n",
              "      <td>2016-05-08 23:38:21</td>\n",
              "      <td>0</td>\n",
              "      <td>-73.934937</td>\n",
              "      <td>40.740841</td>\n",
              "      <td>-73.934929</td>\n",
              "      <td>40.740837</td>\n",
              "      <td>N</td>\n",
              "      <td>12</td>\n",
              "      <td>Sunday</td>\n",
              "      <td>0.000770</td>\n",
              "    </tr>\n",
              "    <tr>\n",
              "      <th>1371117</th>\n",
              "      <td>id3378693</td>\n",
              "      <td>1</td>\n",
              "      <td>2016-05-15 15:31:07</td>\n",
              "      <td>2016-05-15 15:31:13</td>\n",
              "      <td>0</td>\n",
              "      <td>-73.783173</td>\n",
              "      <td>40.643848</td>\n",
              "      <td>-73.783173</td>\n",
              "      <td>40.643848</td>\n",
              "      <td>N</td>\n",
              "      <td>6</td>\n",
              "      <td>Sunday</td>\n",
              "      <td>0.000000</td>\n",
              "    </tr>\n",
              "    <tr>\n",
              "      <th>1414111</th>\n",
              "      <td>id2684721</td>\n",
              "      <td>2</td>\n",
              "      <td>2016-04-01 14:42:10</td>\n",
              "      <td>2016-04-01 14:42:58</td>\n",
              "      <td>0</td>\n",
              "      <td>-73.981316</td>\n",
              "      <td>40.746635</td>\n",
              "      <td>-73.981651</td>\n",
              "      <td>40.746811</td>\n",
              "      <td>N</td>\n",
              "      <td>48</td>\n",
              "      <td>Friday</td>\n",
              "      <td>0.034368</td>\n",
              "    </tr>\n",
              "    <tr>\n",
              "      <th>1433427</th>\n",
              "      <td>id3485118</td>\n",
              "      <td>1</td>\n",
              "      <td>2016-05-11 19:15:57</td>\n",
              "      <td>2016-05-11 19:32:18</td>\n",
              "      <td>0</td>\n",
              "      <td>-73.987572</td>\n",
              "      <td>40.754566</td>\n",
              "      <td>-73.972031</td>\n",
              "      <td>40.762836</td>\n",
              "      <td>N</td>\n",
              "      <td>981</td>\n",
              "      <td>Wednesday</td>\n",
              "      <td>1.600216</td>\n",
              "    </tr>\n",
              "    <tr>\n",
              "      <th>1443353</th>\n",
              "      <td>id0355830</td>\n",
              "      <td>1</td>\n",
              "      <td>2016-03-05 05:33:52</td>\n",
              "      <td>2016-03-05 05:34:27</td>\n",
              "      <td>0</td>\n",
              "      <td>-73.991791</td>\n",
              "      <td>40.731197</td>\n",
              "      <td>-73.993408</td>\n",
              "      <td>40.729328</td>\n",
              "      <td>N</td>\n",
              "      <td>35</td>\n",
              "      <td>Saturday</td>\n",
              "      <td>0.248623</td>\n",
              "    </tr>\n",
              "    <tr>\n",
              "      <th>1444936</th>\n",
              "      <td>id1175754</td>\n",
              "      <td>2</td>\n",
              "      <td>2016-05-14 00:25:33</td>\n",
              "      <td>2016-05-14 00:25:37</td>\n",
              "      <td>0</td>\n",
              "      <td>-73.904610</td>\n",
              "      <td>40.753483</td>\n",
              "      <td>-73.904602</td>\n",
              "      <td>40.753456</td>\n",
              "      <td>N</td>\n",
              "      <td>4</td>\n",
              "      <td>Saturday</td>\n",
              "      <td>0.003039</td>\n",
              "    </tr>\n",
              "  </tbody>\n",
              "</table>\n",
              "</div>"
            ],
            "text/plain": [
              "                id  vendor_id  ...  DayOfWeek   distance\n",
              "62744    id3917283          2  ...     Monday   0.001427\n",
              "136519   id3645383          2  ...     Friday   0.015305\n",
              "194288   id2840829          2  ...     Sunday   0.220062\n",
              "217765   id3762593          1  ...     Monday  12.962369\n",
              "263809   id2154895          1  ...     Monday   0.000000\n",
              "278290   id0796773          1  ...     Sunday   0.016736\n",
              "301600   id2091096          2  ...     Friday   6.301375\n",
              "303133   id0414625          2  ...    Tuesday   0.005940\n",
              "337809   id0271506          2  ...     Sunday   0.020729\n",
              "375972   id3176865          2  ...    Tuesday   0.002970\n",
              "383407   id3493269          2  ...   Thursday   0.005553\n",
              "412172   id2247129          2  ...  Wednesday   7.303331\n",
              "415843   id1794493          2  ...     Sunday   0.002869\n",
              "437735   id2891366          1  ...   Thursday   0.000000\n",
              "447838   id1253169          1  ...     Sunday   0.000424\n",
              "521316   id2571672          1  ...     Sunday   0.000000\n",
              "553862   id1822284          1  ...     Sunday   0.032477\n",
              "582469   id0663459          2  ...   Saturday   0.001811\n",
              "621221   id1039576          1  ...     Friday   0.130491\n",
              "649337   id3347660          2  ...     Sunday   0.002567\n",
              "676906   id0878599          1  ...     Monday   5.452211\n",
              "718163   id1610720          2  ...     Sunday   0.000000\n",
              "722399   id1593144          1  ...     Friday   1.473216\n",
              "727514   id1857858          2  ...   Saturday   0.006024\n",
              "776276   id3066152          1  ...     Monday   0.000000\n",
              "777319   id3364866          1  ...   Saturday   2.413167\n",
              "796361   id3494250          1  ...   Saturday  12.392527\n",
              "827485   id2029944          1  ...     Friday   0.000000\n",
              "875056   id3533680          1  ...     Sunday   0.000000\n",
              "904688   id3563937          1  ...   Saturday   1.068554\n",
              "911071   id0959777          2  ...    Tuesday   0.002870\n",
              "914211   id1656232          1  ...   Thursday   0.032899\n",
              "919750   id1880173          1  ...  Wednesday   1.813064\n",
              "921640   id1325601          2  ...   Thursday   0.011582\n",
              "934078   id3251852          1  ...     Monday   0.000643\n",
              "954696   id2613392          2  ...   Thursday   0.005445\n",
              "986189   id1376024          1  ...     Friday   0.002108\n",
              "1025067  id2063256          1  ...     Friday   0.027658\n",
              "1032513  id1992999          2  ...     Monday   0.159300\n",
              "1049209  id1846091          2  ...   Saturday   0.001355\n",
              "1092678  id2957383          1  ...     Friday   0.077351\n",
              "1101359  id2535067          1  ...     Monday   0.008554\n",
              "1122417  id0593652          2  ...  Wednesday   0.010264\n",
              "1131166  id1688347          2  ...   Thursday   0.016598\n",
              "1144278  id1220914          2  ...     Sunday   0.010554\n",
              "1211269  id0662963          2  ...   Saturday   0.001426\n",
              "1257574  id1205792          1  ...     Friday  19.019191\n",
              "1262950  id1038365          1  ...   Saturday   0.002217\n",
              "1265736  id0483580          2  ...   Saturday   0.013335\n",
              "1276436  id1392994          1  ...   Thursday   0.000771\n",
              "1280443  id3267095          2  ...   Saturday   0.002626\n",
              "1293792  id1119951          2  ...   Thursday   0.004213\n",
              "1296239  id0948644          2  ...     Monday   0.000849\n",
              "1364548  id1699275          1  ...     Monday   1.896685\n",
              "1368627  id3368191          1  ...     Sunday   0.000770\n",
              "1371117  id3378693          1  ...     Sunday   0.000000\n",
              "1414111  id2684721          2  ...     Friday   0.034368\n",
              "1433427  id3485118          1  ...  Wednesday   1.600216\n",
              "1443353  id0355830          1  ...   Saturday   0.248623\n",
              "1444936  id1175754          2  ...   Saturday   0.003039\n",
              "\n",
              "[60 rows x 13 columns]"
            ]
          },
          "metadata": {
            "tags": []
          },
          "execution_count": 72
        }
      ]
    },
    {
      "cell_type": "code",
      "metadata": {
        "id": "2SXfUwUXR_ww",
        "colab": {
          "base_uri": "https://localhost:8080/"
        },
        "outputId": "a43e3b8f-400e-4b4d-ffcf-e6e8910e6119"
      },
      "source": [
        "df['passenger_count'].value_counts()"
      ],
      "execution_count": 73,
      "outputs": [
        {
          "output_type": "execute_result",
          "data": {
            "text/plain": [
              "1    1033540\n",
              "2     210318\n",
              "5      78088\n",
              "3      59896\n",
              "6      48333\n",
              "4      28404\n",
              "0         60\n",
              "7          3\n",
              "9          1\n",
              "8          1\n",
              "Name: passenger_count, dtype: int64"
            ]
          },
          "metadata": {
            "tags": []
          },
          "execution_count": 73
        }
      ]
    },
    {
      "cell_type": "code",
      "metadata": {
        "colab": {
          "base_uri": "https://localhost:8080/"
        },
        "id": "htvOPMEPQstV",
        "outputId": "f8bc093a-0df7-450a-ff95-d2855510d2fb"
      },
      "source": [
        "df['vendor_id'].value_counts()"
      ],
      "execution_count": 74,
      "outputs": [
        {
          "output_type": "execute_result",
          "data": {
            "text/plain": [
              "2    780302\n",
              "1    678342\n",
              "Name: vendor_id, dtype: int64"
            ]
          },
          "metadata": {
            "tags": []
          },
          "execution_count": 74
        }
      ]
    },
    {
      "cell_type": "code",
      "metadata": {
        "colab": {
          "base_uri": "https://localhost:8080/"
        },
        "id": "KSV16N99P2gu",
        "outputId": "23d522f4-92c5-4b95-943e-66e370decb7f"
      },
      "source": [
        "663/60"
      ],
      "execution_count": 75,
      "outputs": [
        {
          "output_type": "execute_result",
          "data": {
            "text/plain": [
              "11.05"
            ]
          },
          "metadata": {
            "tags": []
          },
          "execution_count": 75
        }
      ]
    },
    {
      "cell_type": "code",
      "metadata": {
        "colab": {
          "base_uri": "https://localhost:8080/"
        },
        "id": "GC8Ewxq5Pg0D",
        "outputId": "9e8ebdd1-2cbb-4f63-9114-b47af4877a2c"
      },
      "source": [
        "df[\"pickup_datetime\"][0]"
      ],
      "execution_count": 76,
      "outputs": [
        {
          "output_type": "execute_result",
          "data": {
            "text/plain": [
              "Timestamp('2016-03-14 17:24:55')"
            ]
          },
          "metadata": {
            "tags": []
          },
          "execution_count": 76
        }
      ]
    },
    {
      "cell_type": "markdown",
      "metadata": {
        "id": "5OeD-sINJmpV"
      },
      "source": [
        "*Okay, so the data looks fine for now let's explore it more and make some conclusions.*"
      ]
    },
    {
      "cell_type": "code",
      "metadata": {
        "colab": {
          "base_uri": "https://localhost:8080/"
        },
        "id": "YBS19E6-H-VL",
        "outputId": "cc4e66ab-c942-4ae0-832d-c9d76fbf8a1d"
      },
      "source": [
        "df.info()"
      ],
      "execution_count": 77,
      "outputs": [
        {
          "output_type": "stream",
          "text": [
            "<class 'pandas.core.frame.DataFrame'>\n",
            "RangeIndex: 1458644 entries, 0 to 1458643\n",
            "Data columns (total 13 columns):\n",
            " #   Column              Non-Null Count    Dtype         \n",
            "---  ------              --------------    -----         \n",
            " 0   id                  1458644 non-null  object        \n",
            " 1   vendor_id           1458644 non-null  int64         \n",
            " 2   pickup_datetime     1458644 non-null  datetime64[ns]\n",
            " 3   dropoff_datetime    1458644 non-null  datetime64[ns]\n",
            " 4   passenger_count     1458644 non-null  int64         \n",
            " 5   pickup_longitude    1458644 non-null  float64       \n",
            " 6   pickup_latitude     1458644 non-null  float64       \n",
            " 7   dropoff_longitude   1458644 non-null  float64       \n",
            " 8   dropoff_latitude    1458644 non-null  float64       \n",
            " 9   store_and_fwd_flag  1458644 non-null  object        \n",
            " 10  trip_duration       1458644 non-null  int64         \n",
            " 11  DayOfWeek           1458644 non-null  object        \n",
            " 12  distance            1458644 non-null  float64       \n",
            "dtypes: datetime64[ns](2), float64(5), int64(3), object(3)\n",
            "memory usage: 144.7+ MB\n"
          ],
          "name": "stdout"
        }
      ]
    },
    {
      "cell_type": "markdown",
      "metadata": {
        "id": "NItwl_HqJ2te"
      },
      "source": [
        ""
      ]
    },
    {
      "cell_type": "code",
      "metadata": {
        "colab": {
          "base_uri": "https://localhost:8080/",
          "height": 297
        },
        "id": "Io_c1dwXH8-W",
        "outputId": "fd67aa33-c502-4bbc-dfbe-3d3c52e9bfa1"
      },
      "source": [
        "df.describe()"
      ],
      "execution_count": 78,
      "outputs": [
        {
          "output_type": "execute_result",
          "data": {
            "text/html": [
              "<div>\n",
              "<style scoped>\n",
              "    .dataframe tbody tr th:only-of-type {\n",
              "        vertical-align: middle;\n",
              "    }\n",
              "\n",
              "    .dataframe tbody tr th {\n",
              "        vertical-align: top;\n",
              "    }\n",
              "\n",
              "    .dataframe thead th {\n",
              "        text-align: right;\n",
              "    }\n",
              "</style>\n",
              "<table border=\"1\" class=\"dataframe\">\n",
              "  <thead>\n",
              "    <tr style=\"text-align: right;\">\n",
              "      <th></th>\n",
              "      <th>vendor_id</th>\n",
              "      <th>passenger_count</th>\n",
              "      <th>pickup_longitude</th>\n",
              "      <th>pickup_latitude</th>\n",
              "      <th>dropoff_longitude</th>\n",
              "      <th>dropoff_latitude</th>\n",
              "      <th>trip_duration</th>\n",
              "      <th>distance</th>\n",
              "    </tr>\n",
              "  </thead>\n",
              "  <tbody>\n",
              "    <tr>\n",
              "      <th>count</th>\n",
              "      <td>1.458644e+06</td>\n",
              "      <td>1.458644e+06</td>\n",
              "      <td>1.458644e+06</td>\n",
              "      <td>1.458644e+06</td>\n",
              "      <td>1.458644e+06</td>\n",
              "      <td>1.458644e+06</td>\n",
              "      <td>1.458644e+06</td>\n",
              "      <td>1.458644e+06</td>\n",
              "    </tr>\n",
              "    <tr>\n",
              "      <th>mean</th>\n",
              "      <td>1.534950e+00</td>\n",
              "      <td>1.664530e+00</td>\n",
              "      <td>-7.397349e+01</td>\n",
              "      <td>4.075092e+01</td>\n",
              "      <td>-7.397342e+01</td>\n",
              "      <td>4.075180e+01</td>\n",
              "      <td>9.594923e+02</td>\n",
              "      <td>3.441944e+00</td>\n",
              "    </tr>\n",
              "    <tr>\n",
              "      <th>std</th>\n",
              "      <td>4.987772e-01</td>\n",
              "      <td>1.314242e+00</td>\n",
              "      <td>7.090186e-02</td>\n",
              "      <td>3.288119e-02</td>\n",
              "      <td>7.064327e-02</td>\n",
              "      <td>3.589056e-02</td>\n",
              "      <td>5.237432e+03</td>\n",
              "      <td>4.297887e+00</td>\n",
              "    </tr>\n",
              "    <tr>\n",
              "      <th>min</th>\n",
              "      <td>1.000000e+00</td>\n",
              "      <td>0.000000e+00</td>\n",
              "      <td>-1.219333e+02</td>\n",
              "      <td>3.435970e+01</td>\n",
              "      <td>-1.219333e+02</td>\n",
              "      <td>3.218114e+01</td>\n",
              "      <td>1.000000e+00</td>\n",
              "      <td>0.000000e+00</td>\n",
              "    </tr>\n",
              "    <tr>\n",
              "      <th>25%</th>\n",
              "      <td>1.000000e+00</td>\n",
              "      <td>1.000000e+00</td>\n",
              "      <td>-7.399187e+01</td>\n",
              "      <td>4.073735e+01</td>\n",
              "      <td>-7.399133e+01</td>\n",
              "      <td>4.073588e+01</td>\n",
              "      <td>3.970000e+02</td>\n",
              "      <td>1.232223e+00</td>\n",
              "    </tr>\n",
              "    <tr>\n",
              "      <th>50%</th>\n",
              "      <td>2.000000e+00</td>\n",
              "      <td>1.000000e+00</td>\n",
              "      <td>-7.398174e+01</td>\n",
              "      <td>4.075410e+01</td>\n",
              "      <td>-7.397975e+01</td>\n",
              "      <td>4.075452e+01</td>\n",
              "      <td>6.620000e+02</td>\n",
              "      <td>2.094374e+00</td>\n",
              "    </tr>\n",
              "    <tr>\n",
              "      <th>75%</th>\n",
              "      <td>2.000000e+00</td>\n",
              "      <td>2.000000e+00</td>\n",
              "      <td>-7.396733e+01</td>\n",
              "      <td>4.076836e+01</td>\n",
              "      <td>-7.396301e+01</td>\n",
              "      <td>4.076981e+01</td>\n",
              "      <td>1.075000e+03</td>\n",
              "      <td>3.876554e+00</td>\n",
              "    </tr>\n",
              "    <tr>\n",
              "      <th>max</th>\n",
              "      <td>2.000000e+00</td>\n",
              "      <td>9.000000e+00</td>\n",
              "      <td>-6.133553e+01</td>\n",
              "      <td>5.188108e+01</td>\n",
              "      <td>-6.133553e+01</td>\n",
              "      <td>4.392103e+01</td>\n",
              "      <td>3.526282e+06</td>\n",
              "      <td>1.241298e+03</td>\n",
              "    </tr>\n",
              "  </tbody>\n",
              "</table>\n",
              "</div>"
            ],
            "text/plain": [
              "          vendor_id  passenger_count  ...  trip_duration      distance\n",
              "count  1.458644e+06     1.458644e+06  ...   1.458644e+06  1.458644e+06\n",
              "mean   1.534950e+00     1.664530e+00  ...   9.594923e+02  3.441944e+00\n",
              "std    4.987772e-01     1.314242e+00  ...   5.237432e+03  4.297887e+00\n",
              "min    1.000000e+00     0.000000e+00  ...   1.000000e+00  0.000000e+00\n",
              "25%    1.000000e+00     1.000000e+00  ...   3.970000e+02  1.232223e+00\n",
              "50%    2.000000e+00     1.000000e+00  ...   6.620000e+02  2.094374e+00\n",
              "75%    2.000000e+00     2.000000e+00  ...   1.075000e+03  3.876554e+00\n",
              "max    2.000000e+00     9.000000e+00  ...   3.526282e+06  1.241298e+03\n",
              "\n",
              "[8 rows x 8 columns]"
            ]
          },
          "metadata": {
            "tags": []
          },
          "execution_count": 78
        }
      ]
    },
    {
      "cell_type": "markdown",
      "metadata": {
        "id": "smrsMUeqJ6Ht"
      },
      "source": [
        "Checking for our null values in the dependent variable"
      ]
    },
    {
      "cell_type": "code",
      "metadata": {
        "colab": {
          "base_uri": "https://localhost:8080/"
        },
        "id": "3b9JhP4NH_WW",
        "outputId": "929eba6f-e3f2-4de3-ce74-a6f21a85e0a6"
      },
      "source": [
        "df['trip_duration'].isnull().sum()"
      ],
      "execution_count": 79,
      "outputs": [
        {
          "output_type": "execute_result",
          "data": {
            "text/plain": [
              "0"
            ]
          },
          "metadata": {
            "tags": []
          },
          "execution_count": 79
        }
      ]
    },
    {
      "cell_type": "code",
      "metadata": {
        "colab": {
          "base_uri": "https://localhost:8080/"
        },
        "id": "dgZm3Mi3OhZM",
        "outputId": "2a00070f-02cf-40e1-b9f4-3da2aabc6ac6"
      },
      "source": [
        "df.shape"
      ],
      "execution_count": 80,
      "outputs": [
        {
          "output_type": "execute_result",
          "data": {
            "text/plain": [
              "(1458644, 13)"
            ]
          },
          "metadata": {
            "tags": []
          },
          "execution_count": 80
        }
      ]
    },
    {
      "cell_type": "code",
      "metadata": {
        "colab": {
          "base_uri": "https://localhost:8080/",
          "height": 297
        },
        "id": "30-CcA22MfPi",
        "outputId": "279cf16c-614f-4639-9d21-458b1b9a96d6"
      },
      "source": [
        "df.corr()"
      ],
      "execution_count": 81,
      "outputs": [
        {
          "output_type": "execute_result",
          "data": {
            "text/html": [
              "<div>\n",
              "<style scoped>\n",
              "    .dataframe tbody tr th:only-of-type {\n",
              "        vertical-align: middle;\n",
              "    }\n",
              "\n",
              "    .dataframe tbody tr th {\n",
              "        vertical-align: top;\n",
              "    }\n",
              "\n",
              "    .dataframe thead th {\n",
              "        text-align: right;\n",
              "    }\n",
              "</style>\n",
              "<table border=\"1\" class=\"dataframe\">\n",
              "  <thead>\n",
              "    <tr style=\"text-align: right;\">\n",
              "      <th></th>\n",
              "      <th>vendor_id</th>\n",
              "      <th>passenger_count</th>\n",
              "      <th>pickup_longitude</th>\n",
              "      <th>pickup_latitude</th>\n",
              "      <th>dropoff_longitude</th>\n",
              "      <th>dropoff_latitude</th>\n",
              "      <th>trip_duration</th>\n",
              "      <th>distance</th>\n",
              "    </tr>\n",
              "  </thead>\n",
              "  <tbody>\n",
              "    <tr>\n",
              "      <th>vendor_id</th>\n",
              "      <td>1.000000</td>\n",
              "      <td>0.287415</td>\n",
              "      <td>0.007820</td>\n",
              "      <td>0.001742</td>\n",
              "      <td>0.001528</td>\n",
              "      <td>0.004496</td>\n",
              "      <td>0.020304</td>\n",
              "      <td>0.008109</td>\n",
              "    </tr>\n",
              "    <tr>\n",
              "      <th>passenger_count</th>\n",
              "      <td>0.287415</td>\n",
              "      <td>1.000000</td>\n",
              "      <td>0.002169</td>\n",
              "      <td>-0.005125</td>\n",
              "      <td>-0.000343</td>\n",
              "      <td>-0.002762</td>\n",
              "      <td>0.008471</td>\n",
              "      <td>0.010306</td>\n",
              "    </tr>\n",
              "    <tr>\n",
              "      <th>pickup_longitude</th>\n",
              "      <td>0.007820</td>\n",
              "      <td>0.002169</td>\n",
              "      <td>1.000000</td>\n",
              "      <td>0.022568</td>\n",
              "      <td>0.783582</td>\n",
              "      <td>0.100190</td>\n",
              "      <td>0.026542</td>\n",
              "      <td>0.259780</td>\n",
              "    </tr>\n",
              "    <tr>\n",
              "      <th>pickup_latitude</th>\n",
              "      <td>0.001742</td>\n",
              "      <td>-0.005125</td>\n",
              "      <td>0.022568</td>\n",
              "      <td>1.000000</td>\n",
              "      <td>0.114884</td>\n",
              "      <td>0.494038</td>\n",
              "      <td>-0.029204</td>\n",
              "      <td>-0.210354</td>\n",
              "    </tr>\n",
              "    <tr>\n",
              "      <th>dropoff_longitude</th>\n",
              "      <td>0.001528</td>\n",
              "      <td>-0.000343</td>\n",
              "      <td>0.783582</td>\n",
              "      <td>0.114884</td>\n",
              "      <td>1.000000</td>\n",
              "      <td>0.124873</td>\n",
              "      <td>0.014678</td>\n",
              "      <td>0.134033</td>\n",
              "    </tr>\n",
              "    <tr>\n",
              "      <th>dropoff_latitude</th>\n",
              "      <td>0.004496</td>\n",
              "      <td>-0.002762</td>\n",
              "      <td>0.100190</td>\n",
              "      <td>0.494038</td>\n",
              "      <td>0.124873</td>\n",
              "      <td>1.000000</td>\n",
              "      <td>-0.020677</td>\n",
              "      <td>-0.142128</td>\n",
              "    </tr>\n",
              "    <tr>\n",
              "      <th>trip_duration</th>\n",
              "      <td>0.020304</td>\n",
              "      <td>0.008471</td>\n",
              "      <td>0.026542</td>\n",
              "      <td>-0.029204</td>\n",
              "      <td>0.014678</td>\n",
              "      <td>-0.020677</td>\n",
              "      <td>1.000000</td>\n",
              "      <td>0.094777</td>\n",
              "    </tr>\n",
              "    <tr>\n",
              "      <th>distance</th>\n",
              "      <td>0.008109</td>\n",
              "      <td>0.010306</td>\n",
              "      <td>0.259780</td>\n",
              "      <td>-0.210354</td>\n",
              "      <td>0.134033</td>\n",
              "      <td>-0.142128</td>\n",
              "      <td>0.094777</td>\n",
              "      <td>1.000000</td>\n",
              "    </tr>\n",
              "  </tbody>\n",
              "</table>\n",
              "</div>"
            ],
            "text/plain": [
              "                   vendor_id  passenger_count  ...  trip_duration  distance\n",
              "vendor_id           1.000000         0.287415  ...       0.020304  0.008109\n",
              "passenger_count     0.287415         1.000000  ...       0.008471  0.010306\n",
              "pickup_longitude    0.007820         0.002169  ...       0.026542  0.259780\n",
              "pickup_latitude     0.001742        -0.005125  ...      -0.029204 -0.210354\n",
              "dropoff_longitude   0.001528        -0.000343  ...       0.014678  0.134033\n",
              "dropoff_latitude    0.004496        -0.002762  ...      -0.020677 -0.142128\n",
              "trip_duration       0.020304         0.008471  ...       1.000000  0.094777\n",
              "distance            0.008109         0.010306  ...       0.094777  1.000000\n",
              "\n",
              "[8 rows x 8 columns]"
            ]
          },
          "metadata": {
            "tags": []
          },
          "execution_count": 81
        }
      ]
    },
    {
      "cell_type": "markdown",
      "metadata": {
        "id": "GO-StwAkJAds"
      },
      "source": [
        "Working on a sample from the huge amount of data"
      ]
    },
    {
      "cell_type": "code",
      "metadata": {
        "colab": {
          "base_uri": "https://localhost:8080/",
          "height": 364
        },
        "id": "8nc_hlxXMF3A",
        "outputId": "5f657e1d-358f-4c12-f532-993ecee6d820"
      },
      "source": [
        "sns.heatmap(df.corr())"
      ],
      "execution_count": 82,
      "outputs": [
        {
          "output_type": "execute_result",
          "data": {
            "text/plain": [
              "<matplotlib.axes._subplots.AxesSubplot at 0x7f8edcb2e668>"
            ]
          },
          "metadata": {
            "tags": []
          },
          "execution_count": 82
        },
        {
          "output_type": "display_data",
          "data": {
            "image/png": "[encoded data removed]",
            "text/plain": [
              "<Figure size 432x288 with 2 Axes>"
            ]
          },
          "metadata": {
            "tags": [],
            "needs_background": "light"
          }
        }
      ]
    },
    {
      "cell_type": "code",
      "metadata": {
        "colab": {
          "base_uri": "https://localhost:8080/",
          "height": 297
        },
        "id": "r2vU9xs3NKma",
        "outputId": "2f6549cd-0061-4f5a-d070-2c9eb073cbff"
      },
      "source": [
        "# Multicollinearity\r\n",
        "from statsmodels.stats.outliers_influence import variance_inflation_factor\r\n",
        "def calc_vif(X):\r\n",
        " \r\n",
        "   # Calculating VIF\r\n",
        "   vif = pd.DataFrame()\r\n",
        "   vif[\"variables\"] = X.columns\r\n",
        "   vif[\"VIF\"] = [variance_inflation_factor(X.values, i) for i in range(X.shape[1])]\r\n",
        " \r\n",
        "   return(vif)\r\n",
        "\r\n",
        "calc_vif(df[[i for i in df.describe().columns]])"
      ],
      "execution_count": 83,
      "outputs": [
        {
          "output_type": "execute_result",
          "data": {
            "text/html": [
              "<div>\n",
              "<style scoped>\n",
              "    .dataframe tbody tr th:only-of-type {\n",
              "        vertical-align: middle;\n",
              "    }\n",
              "\n",
              "    .dataframe tbody tr th {\n",
              "        vertical-align: top;\n",
              "    }\n",
              "\n",
              "    .dataframe thead th {\n",
              "        text-align: right;\n",
              "    }\n",
              "</style>\n",
              "<table border=\"1\" class=\"dataframe\">\n",
              "  <thead>\n",
              "    <tr style=\"text-align: right;\">\n",
              "      <th></th>\n",
              "      <th>variables</th>\n",
              "      <th>VIF</th>\n",
              "    </tr>\n",
              "  </thead>\n",
              "  <tbody>\n",
              "    <tr>\n",
              "      <th>0</th>\n",
              "      <td>vendor_id</td>\n",
              "      <td>1.141891e+01</td>\n",
              "    </tr>\n",
              "    <tr>\n",
              "      <th>1</th>\n",
              "      <td>passenger_count</td>\n",
              "      <td>2.838852e+00</td>\n",
              "    </tr>\n",
              "    <tr>\n",
              "      <th>2</th>\n",
              "      <td>pickup_longitude</td>\n",
              "      <td>2.920509e+06</td>\n",
              "    </tr>\n",
              "    <tr>\n",
              "      <th>3</th>\n",
              "      <td>pickup_latitude</td>\n",
              "      <td>1.681631e+06</td>\n",
              "    </tr>\n",
              "    <tr>\n",
              "      <th>4</th>\n",
              "      <td>dropoff_longitude</td>\n",
              "      <td>2.727702e+06</td>\n",
              "    </tr>\n",
              "    <tr>\n",
              "      <th>5</th>\n",
              "      <td>dropoff_latitude</td>\n",
              "      <td>1.477327e+06</td>\n",
              "    </tr>\n",
              "    <tr>\n",
              "      <th>6</th>\n",
              "      <td>trip_duration</td>\n",
              "      <td>1.043358e+00</td>\n",
              "    </tr>\n",
              "    <tr>\n",
              "      <th>7</th>\n",
              "      <td>distance</td>\n",
              "      <td>1.724018e+00</td>\n",
              "    </tr>\n",
              "  </tbody>\n",
              "</table>\n",
              "</div>"
            ],
            "text/plain": [
              "           variables           VIF\n",
              "0          vendor_id  1.141891e+01\n",
              "1    passenger_count  2.838852e+00\n",
              "2   pickup_longitude  2.920509e+06\n",
              "3    pickup_latitude  1.681631e+06\n",
              "4  dropoff_longitude  2.727702e+06\n",
              "5   dropoff_latitude  1.477327e+06\n",
              "6      trip_duration  1.043358e+00\n",
              "7           distance  1.724018e+00"
            ]
          },
          "metadata": {
            "tags": []
          },
          "execution_count": 83
        }
      ]
    },
    {
      "cell_type": "markdown",
      "metadata": {
        "id": "ubn5HJHAK-QA"
      },
      "source": [
        "Let's plot the boxplot graph of our dependet variable"
      ]
    },
    {
      "cell_type": "code",
      "metadata": {
        "colab": {
          "base_uri": "https://localhost:8080/",
          "height": 386
        },
        "id": "IrJWyzZH9mu-",
        "outputId": "7879baa8-4973-4428-b18e-e336f9a861ce"
      },
      "source": [
        "# plot a boxplot for the label by each categorical feature  \r\n",
        "fig = plt.figure(figsize=(9, 6))\r\n",
        "ax = fig.gca()\r\n",
        "df.boxplot(column = 'trip_duration', ax = ax)\r\n",
        "ax.set_ylabel(\"Trip Duration\")\r\n",
        "plt.show()"
      ],
      "execution_count": 84,
      "outputs": [
        {
          "output_type": "display_data",
          "data": {
            "image/png": "[encoded data removed]",
            "text/plain": [
              "<Figure size 648x432 with 1 Axes>"
            ]
          },
          "metadata": {
            "tags": [],
            "needs_background": "light"
          }
        }
      ]
    },
    {
      "cell_type": "code",
      "metadata": {
        "colab": {
          "base_uri": "https://localhost:8080/",
          "height": 634
        },
        "id": "mA3kHnmaIlTb",
        "outputId": "3955e615-89cc-4e37-d5ef-60b6ce46a626"
      },
      "source": [
        "# Dependent variable 'Response'\r\n",
        "plt.figure(figsize=(15,10))\r\n",
        "sns.distplot(df['trip_duration'],color=\"y\")"
      ],
      "execution_count": 85,
      "outputs": [
        {
          "output_type": "execute_result",
          "data": {
            "text/plain": [
              "<matplotlib.axes._subplots.AxesSubplot at 0x7f8edc952828>"
            ]
          },
          "metadata": {
            "tags": []
          },
          "execution_count": 85
        },
        {
          "output_type": "display_data",
          "data": {
            "image/png": "[encoded data removed]",
            "text/plain": [
              "<Figure size 1080x720 with 1 Axes>"
            ]
          },
          "metadata": {
            "tags": [],
            "needs_background": "light"
          }
        }
      ]
    },
    {
      "cell_type": "markdown",
      "metadata": {
        "id": "ZEE3IN_bRcmC"
      },
      "source": [
        "As we can see skewness in our data we can let's try to do log transform to normalize our data"
      ]
    },
    {
      "cell_type": "code",
      "metadata": {
        "colab": {
          "base_uri": "https://localhost:8080/",
          "height": 623
        },
        "id": "0Hc8yCI2RcIf",
        "outputId": "7d8dff01-1fac-4418-fdc4-884ad3218d41"
      },
      "source": [
        "plt.figure(figsize=(15,10))\r\n",
        "sns.distplot(np.log10(df['trip_duration']),color=\"Y\")"
      ],
      "execution_count": 86,
      "outputs": [
        {
          "output_type": "execute_result",
          "data": {
            "text/plain": [
              "<matplotlib.axes._subplots.AxesSubplot at 0x7f8ee4fadfd0>"
            ]
          },
          "metadata": {
            "tags": []
          },
          "execution_count": 86
        },
        {
          "output_type": "display_data",
          "data": {
            "image/png": "[encoded data removed]",
            "text/plain": [
              "<Figure size 1080x720 with 1 Axes>"
            ]
          },
          "metadata": {
            "tags": [],
            "needs_background": "light"
          }
        }
      ]
    },
    {
      "cell_type": "markdown",
      "metadata": {
        "id": "S97o1h0FD1Pw"
      },
      "source": [
        "Okay now that we have normalized our data we can further work on it and plot more graphs "
      ]
    },
    {
      "cell_type": "markdown",
      "metadata": {
        "id": "4nll5VzQCqy2"
      },
      "source": [
        "Plotting all the numerical features with respect to trip duration to check linear regression between our dependent and independent variables"
      ]
    },
    {
      "cell_type": "code",
      "metadata": {
        "colab": {
          "base_uri": "https://localhost:8080/",
          "height": 309
        },
        "id": "qSimXHYgDZ1o",
        "outputId": "cebdd461-a5f5-4b88-91c1-ee8aa4dfdfd5"
      },
      "source": [
        "df.head()"
      ],
      "execution_count": 87,
      "outputs": [
        {
          "output_type": "execute_result",
          "data": {
            "text/html": [
              "<div>\n",
              "<style scoped>\n",
              "    .dataframe tbody tr th:only-of-type {\n",
              "        vertical-align: middle;\n",
              "    }\n",
              "\n",
              "    .dataframe tbody tr th {\n",
              "        vertical-align: top;\n",
              "    }\n",
              "\n",
              "    .dataframe thead th {\n",
              "        text-align: right;\n",
              "    }\n",
              "</style>\n",
              "<table border=\"1\" class=\"dataframe\">\n",
              "  <thead>\n",
              "    <tr style=\"text-align: right;\">\n",
              "      <th></th>\n",
              "      <th>id</th>\n",
              "      <th>vendor_id</th>\n",
              "      <th>pickup_datetime</th>\n",
              "      <th>dropoff_datetime</th>\n",
              "      <th>passenger_count</th>\n",
              "      <th>pickup_longitude</th>\n",
              "      <th>pickup_latitude</th>\n",
              "      <th>dropoff_longitude</th>\n",
              "      <th>dropoff_latitude</th>\n",
              "      <th>store_and_fwd_flag</th>\n",
              "      <th>trip_duration</th>\n",
              "      <th>DayOfWeek</th>\n",
              "      <th>distance</th>\n",
              "    </tr>\n",
              "  </thead>\n",
              "  <tbody>\n",
              "    <tr>\n",
              "      <th>0</th>\n",
              "      <td>id2875421</td>\n",
              "      <td>2</td>\n",
              "      <td>2016-03-14 17:24:55</td>\n",
              "      <td>2016-03-14 17:32:30</td>\n",
              "      <td>1</td>\n",
              "      <td>-73.982155</td>\n",
              "      <td>40.767937</td>\n",
              "      <td>-73.964630</td>\n",
              "      <td>40.765602</td>\n",
              "      <td>N</td>\n",
              "      <td>455</td>\n",
              "      <td>Monday</td>\n",
              "      <td>1.498991</td>\n",
              "    </tr>\n",
              "    <tr>\n",
              "      <th>1</th>\n",
              "      <td>id2377394</td>\n",
              "      <td>1</td>\n",
              "      <td>2016-06-12 00:43:35</td>\n",
              "      <td>2016-06-12 00:54:38</td>\n",
              "      <td>1</td>\n",
              "      <td>-73.980415</td>\n",
              "      <td>40.738564</td>\n",
              "      <td>-73.999481</td>\n",
              "      <td>40.731152</td>\n",
              "      <td>N</td>\n",
              "      <td>663</td>\n",
              "      <td>Sunday</td>\n",
              "      <td>1.806074</td>\n",
              "    </tr>\n",
              "    <tr>\n",
              "      <th>2</th>\n",
              "      <td>id3858529</td>\n",
              "      <td>2</td>\n",
              "      <td>2016-01-19 11:35:24</td>\n",
              "      <td>2016-01-19 12:10:48</td>\n",
              "      <td>1</td>\n",
              "      <td>-73.979027</td>\n",
              "      <td>40.763939</td>\n",
              "      <td>-74.005333</td>\n",
              "      <td>40.710087</td>\n",
              "      <td>N</td>\n",
              "      <td>2124</td>\n",
              "      <td>Tuesday</td>\n",
              "      <td>6.387103</td>\n",
              "    </tr>\n",
              "    <tr>\n",
              "      <th>3</th>\n",
              "      <td>id3504673</td>\n",
              "      <td>2</td>\n",
              "      <td>2016-04-06 19:32:31</td>\n",
              "      <td>2016-04-06 19:39:40</td>\n",
              "      <td>1</td>\n",
              "      <td>-74.010040</td>\n",
              "      <td>40.719971</td>\n",
              "      <td>-74.012268</td>\n",
              "      <td>40.706718</td>\n",
              "      <td>N</td>\n",
              "      <td>429</td>\n",
              "      <td>Wednesday</td>\n",
              "      <td>1.485965</td>\n",
              "    </tr>\n",
              "    <tr>\n",
              "      <th>4</th>\n",
              "      <td>id2181028</td>\n",
              "      <td>2</td>\n",
              "      <td>2016-03-26 13:30:55</td>\n",
              "      <td>2016-03-26 13:38:10</td>\n",
              "      <td>1</td>\n",
              "      <td>-73.973053</td>\n",
              "      <td>40.793209</td>\n",
              "      <td>-73.972923</td>\n",
              "      <td>40.782520</td>\n",
              "      <td>N</td>\n",
              "      <td>435</td>\n",
              "      <td>Saturday</td>\n",
              "      <td>1.188962</td>\n",
              "    </tr>\n",
              "  </tbody>\n",
              "</table>\n",
              "</div>"
            ],
            "text/plain": [
              "          id  vendor_id     pickup_datetime  ... trip_duration  DayOfWeek  distance\n",
              "0  id2875421          2 2016-03-14 17:24:55  ...           455     Monday  1.498991\n",
              "1  id2377394          1 2016-06-12 00:43:35  ...           663     Sunday  1.806074\n",
              "2  id3858529          2 2016-01-19 11:35:24  ...          2124    Tuesday  6.387103\n",
              "3  id3504673          2 2016-04-06 19:32:31  ...           429  Wednesday  1.485965\n",
              "4  id2181028          2 2016-03-26 13:30:55  ...           435   Saturday  1.188962\n",
              "\n",
              "[5 rows x 13 columns]"
            ]
          },
          "metadata": {
            "tags": []
          },
          "execution_count": 87
        }
      ]
    },
    {
      "cell_type": "code",
      "metadata": {
        "colab": {
          "base_uri": "https://localhost:8080/"
        },
        "id": "FvrplkFCEbBr",
        "outputId": "3cbe7cb9-a811-45f7-d1e4-6d2b99545b55"
      },
      "source": [
        "type(df['pickup_datetime'][0])"
      ],
      "execution_count": 88,
      "outputs": [
        {
          "output_type": "execute_result",
          "data": {
            "text/plain": [
              "pandas._libs.tslibs.timestamps.Timestamp"
            ]
          },
          "metadata": {
            "tags": []
          },
          "execution_count": 88
        }
      ]
    },
    {
      "cell_type": "code",
      "metadata": {
        "colab": {
          "base_uri": "https://localhost:8080/"
        },
        "id": "GIqhYQo8E6s7",
        "outputId": "d577e8b4-02ab-48fe-f562-046f4380e515"
      },
      "source": [
        "df['pickup_datetime'][0]"
      ],
      "execution_count": 89,
      "outputs": [
        {
          "output_type": "execute_result",
          "data": {
            "text/plain": [
              "Timestamp('2016-03-14 17:24:55')"
            ]
          },
          "metadata": {
            "tags": []
          },
          "execution_count": 89
        }
      ]
    },
    {
      "cell_type": "markdown",
      "metadata": {
        "id": "17vmqPwCEawC"
      },
      "source": [
        "So as we can see our datetime is a string and not date time type we will convert it into date time format"
      ]
    },
    {
      "cell_type": "code",
      "metadata": {
        "id": "IeNqovxVE6ph"
      },
      "source": [
        "df['pickup_datetime']=pd.to_datetime(df['pickup_datetime'])"
      ],
      "execution_count": 90,
      "outputs": []
    },
    {
      "cell_type": "code",
      "metadata": {
        "colab": {
          "base_uri": "https://localhost:8080/",
          "height": 309
        },
        "id": "Csv-XXH4E6ml",
        "outputId": "e88712a1-4dab-409a-ace9-090c339e8ada"
      },
      "source": [
        "df.head()"
      ],
      "execution_count": 91,
      "outputs": [
        {
          "output_type": "execute_result",
          "data": {
            "text/html": [
              "<div>\n",
              "<style scoped>\n",
              "    .dataframe tbody tr th:only-of-type {\n",
              "        vertical-align: middle;\n",
              "    }\n",
              "\n",
              "    .dataframe tbody tr th {\n",
              "        vertical-align: top;\n",
              "    }\n",
              "\n",
              "    .dataframe thead th {\n",
              "        text-align: right;\n",
              "    }\n",
              "</style>\n",
              "<table border=\"1\" class=\"dataframe\">\n",
              "  <thead>\n",
              "    <tr style=\"text-align: right;\">\n",
              "      <th></th>\n",
              "      <th>id</th>\n",
              "      <th>vendor_id</th>\n",
              "      <th>pickup_datetime</th>\n",
              "      <th>dropoff_datetime</th>\n",
              "      <th>passenger_count</th>\n",
              "      <th>pickup_longitude</th>\n",
              "      <th>pickup_latitude</th>\n",
              "      <th>dropoff_longitude</th>\n",
              "      <th>dropoff_latitude</th>\n",
              "      <th>store_and_fwd_flag</th>\n",
              "      <th>trip_duration</th>\n",
              "      <th>DayOfWeek</th>\n",
              "      <th>distance</th>\n",
              "    </tr>\n",
              "  </thead>\n",
              "  <tbody>\n",
              "    <tr>\n",
              "      <th>0</th>\n",
              "      <td>id2875421</td>\n",
              "      <td>2</td>\n",
              "      <td>2016-03-14 17:24:55</td>\n",
              "      <td>2016-03-14 17:32:30</td>\n",
              "      <td>1</td>\n",
              "      <td>-73.982155</td>\n",
              "      <td>40.767937</td>\n",
              "      <td>-73.964630</td>\n",
              "      <td>40.765602</td>\n",
              "      <td>N</td>\n",
              "      <td>455</td>\n",
              "      <td>Monday</td>\n",
              "      <td>1.498991</td>\n",
              "    </tr>\n",
              "    <tr>\n",
              "      <th>1</th>\n",
              "      <td>id2377394</td>\n",
              "      <td>1</td>\n",
              "      <td>2016-06-12 00:43:35</td>\n",
              "      <td>2016-06-12 00:54:38</td>\n",
              "      <td>1</td>\n",
              "      <td>-73.980415</td>\n",
              "      <td>40.738564</td>\n",
              "      <td>-73.999481</td>\n",
              "      <td>40.731152</td>\n",
              "      <td>N</td>\n",
              "      <td>663</td>\n",
              "      <td>Sunday</td>\n",
              "      <td>1.806074</td>\n",
              "    </tr>\n",
              "    <tr>\n",
              "      <th>2</th>\n",
              "      <td>id3858529</td>\n",
              "      <td>2</td>\n",
              "      <td>2016-01-19 11:35:24</td>\n",
              "      <td>2016-01-19 12:10:48</td>\n",
              "      <td>1</td>\n",
              "      <td>-73.979027</td>\n",
              "      <td>40.763939</td>\n",
              "      <td>-74.005333</td>\n",
              "      <td>40.710087</td>\n",
              "      <td>N</td>\n",
              "      <td>2124</td>\n",
              "      <td>Tuesday</td>\n",
              "      <td>6.387103</td>\n",
              "    </tr>\n",
              "    <tr>\n",
              "      <th>3</th>\n",
              "      <td>id3504673</td>\n",
              "      <td>2</td>\n",
              "      <td>2016-04-06 19:32:31</td>\n",
              "      <td>2016-04-06 19:39:40</td>\n",
              "      <td>1</td>\n",
              "      <td>-74.010040</td>\n",
              "      <td>40.719971</td>\n",
              "      <td>-74.012268</td>\n",
              "      <td>40.706718</td>\n",
              "      <td>N</td>\n",
              "      <td>429</td>\n",
              "      <td>Wednesday</td>\n",
              "      <td>1.485965</td>\n",
              "    </tr>\n",
              "    <tr>\n",
              "      <th>4</th>\n",
              "      <td>id2181028</td>\n",
              "      <td>2</td>\n",
              "      <td>2016-03-26 13:30:55</td>\n",
              "      <td>2016-03-26 13:38:10</td>\n",
              "      <td>1</td>\n",
              "      <td>-73.973053</td>\n",
              "      <td>40.793209</td>\n",
              "      <td>-73.972923</td>\n",
              "      <td>40.782520</td>\n",
              "      <td>N</td>\n",
              "      <td>435</td>\n",
              "      <td>Saturday</td>\n",
              "      <td>1.188962</td>\n",
              "    </tr>\n",
              "  </tbody>\n",
              "</table>\n",
              "</div>"
            ],
            "text/plain": [
              "          id  vendor_id     pickup_datetime  ... trip_duration  DayOfWeek  distance\n",
              "0  id2875421          2 2016-03-14 17:24:55  ...           455     Monday  1.498991\n",
              "1  id2377394          1 2016-06-12 00:43:35  ...           663     Sunday  1.806074\n",
              "2  id3858529          2 2016-01-19 11:35:24  ...          2124    Tuesday  6.387103\n",
              "3  id3504673          2 2016-04-06 19:32:31  ...           429  Wednesday  1.485965\n",
              "4  id2181028          2 2016-03-26 13:30:55  ...           435   Saturday  1.188962\n",
              "\n",
              "[5 rows x 13 columns]"
            ]
          },
          "metadata": {
            "tags": []
          },
          "execution_count": 91
        }
      ]
    },
    {
      "cell_type": "code",
      "metadata": {
        "colab": {
          "base_uri": "https://localhost:8080/"
        },
        "id": "6wJB7ZNPE6YA",
        "outputId": "cdb57487-7b27-47a4-d3f4-4e70a4c469d2"
      },
      "source": [
        "df.info()"
      ],
      "execution_count": 92,
      "outputs": [
        {
          "output_type": "stream",
          "text": [
            "<class 'pandas.core.frame.DataFrame'>\n",
            "RangeIndex: 1458644 entries, 0 to 1458643\n",
            "Data columns (total 13 columns):\n",
            " #   Column              Non-Null Count    Dtype         \n",
            "---  ------              --------------    -----         \n",
            " 0   id                  1458644 non-null  object        \n",
            " 1   vendor_id           1458644 non-null  int64         \n",
            " 2   pickup_datetime     1458644 non-null  datetime64[ns]\n",
            " 3   dropoff_datetime    1458644 non-null  datetime64[ns]\n",
            " 4   passenger_count     1458644 non-null  int64         \n",
            " 5   pickup_longitude    1458644 non-null  float64       \n",
            " 6   pickup_latitude     1458644 non-null  float64       \n",
            " 7   dropoff_longitude   1458644 non-null  float64       \n",
            " 8   dropoff_latitude    1458644 non-null  float64       \n",
            " 9   store_and_fwd_flag  1458644 non-null  object        \n",
            " 10  trip_duration       1458644 non-null  int64         \n",
            " 11  DayOfWeek           1458644 non-null  object        \n",
            " 12  distance            1458644 non-null  float64       \n",
            "dtypes: datetime64[ns](2), float64(5), int64(3), object(3)\n",
            "memory usage: 144.7+ MB\n"
          ],
          "name": "stdout"
        }
      ]
    },
    {
      "cell_type": "code",
      "metadata": {
        "colab": {
          "base_uri": "https://localhost:8080/"
        },
        "id": "WiV8ePCgE6Si",
        "outputId": "4d4255e4-a3bb-4eca-9f00-ede23451337d"
      },
      "source": [
        "df['pickup_datetime']"
      ],
      "execution_count": 93,
      "outputs": [
        {
          "output_type": "execute_result",
          "data": {
            "text/plain": [
              "0         2016-03-14 17:24:55\n",
              "1         2016-06-12 00:43:35\n",
              "2         2016-01-19 11:35:24\n",
              "3         2016-04-06 19:32:31\n",
              "4         2016-03-26 13:30:55\n",
              "                  ...        \n",
              "1458639   2016-04-08 13:31:04\n",
              "1458640   2016-01-10 07:35:15\n",
              "1458641   2016-04-22 06:57:41\n",
              "1458642   2016-01-05 15:56:26\n",
              "1458643   2016-04-05 14:44:25\n",
              "Name: pickup_datetime, Length: 1458644, dtype: datetime64[ns]"
            ]
          },
          "metadata": {
            "tags": []
          },
          "execution_count": 93
        }
      ]
    },
    {
      "cell_type": "markdown",
      "metadata": {
        "id": "QBwAt5uYGAtZ"
      },
      "source": [
        "As we have converted our string to date time now let's do it for our drop off datetime as well"
      ]
    },
    {
      "cell_type": "code",
      "metadata": {
        "colab": {
          "base_uri": "https://localhost:8080/"
        },
        "id": "2CARSaEaE6N4",
        "outputId": "7c59594f-547d-4be9-e9db-caa67ca379fe"
      },
      "source": [
        "df['dropoff_datetime'][0]"
      ],
      "execution_count": 94,
      "outputs": [
        {
          "output_type": "execute_result",
          "data": {
            "text/plain": [
              "Timestamp('2016-03-14 17:32:30')"
            ]
          },
          "metadata": {
            "tags": []
          },
          "execution_count": 94
        }
      ]
    },
    {
      "cell_type": "code",
      "metadata": {
        "id": "wjMltxUdGPE1"
      },
      "source": [
        "df['dropoff_datetime']=pd.to_datetime(df['dropoff_datetime'])"
      ],
      "execution_count": 95,
      "outputs": []
    },
    {
      "cell_type": "code",
      "metadata": {
        "colab": {
          "base_uri": "https://localhost:8080/"
        },
        "id": "eEEeIEB_GO8D",
        "outputId": "8b7a0f7e-e076-4263-a564-fbb7fab4029c"
      },
      "source": [
        "df.info()"
      ],
      "execution_count": 96,
      "outputs": [
        {
          "output_type": "stream",
          "text": [
            "<class 'pandas.core.frame.DataFrame'>\n",
            "RangeIndex: 1458644 entries, 0 to 1458643\n",
            "Data columns (total 13 columns):\n",
            " #   Column              Non-Null Count    Dtype         \n",
            "---  ------              --------------    -----         \n",
            " 0   id                  1458644 non-null  object        \n",
            " 1   vendor_id           1458644 non-null  int64         \n",
            " 2   pickup_datetime     1458644 non-null  datetime64[ns]\n",
            " 3   dropoff_datetime    1458644 non-null  datetime64[ns]\n",
            " 4   passenger_count     1458644 non-null  int64         \n",
            " 5   pickup_longitude    1458644 non-null  float64       \n",
            " 6   pickup_latitude     1458644 non-null  float64       \n",
            " 7   dropoff_longitude   1458644 non-null  float64       \n",
            " 8   dropoff_latitude    1458644 non-null  float64       \n",
            " 9   store_and_fwd_flag  1458644 non-null  object        \n",
            " 10  trip_duration       1458644 non-null  int64         \n",
            " 11  DayOfWeek           1458644 non-null  object        \n",
            " 12  distance            1458644 non-null  float64       \n",
            "dtypes: datetime64[ns](2), float64(5), int64(3), object(3)\n",
            "memory usage: 144.7+ MB\n"
          ],
          "name": "stdout"
        }
      ]
    },
    {
      "cell_type": "code",
      "metadata": {
        "colab": {
          "base_uri": "https://localhost:8080/"
        },
        "id": "Ckt0oGE9E6KG",
        "outputId": "d54cf89b-9bf8-4793-f441-9e5be5a1d3a5"
      },
      "source": [
        "df['dropoff_datetime']"
      ],
      "execution_count": 97,
      "outputs": [
        {
          "output_type": "execute_result",
          "data": {
            "text/plain": [
              "0         2016-03-14 17:32:30\n",
              "1         2016-06-12 00:54:38\n",
              "2         2016-01-19 12:10:48\n",
              "3         2016-04-06 19:39:40\n",
              "4         2016-03-26 13:38:10\n",
              "                  ...        \n",
              "1458639   2016-04-08 13:44:02\n",
              "1458640   2016-01-10 07:46:10\n",
              "1458641   2016-04-22 07:10:25\n",
              "1458642   2016-01-05 16:02:39\n",
              "1458643   2016-04-05 14:47:43\n",
              "Name: dropoff_datetime, Length: 1458644, dtype: datetime64[ns]"
            ]
          },
          "metadata": {
            "tags": []
          },
          "execution_count": 97
        }
      ]
    },
    {
      "cell_type": "markdown",
      "metadata": {
        "id": "9s9oB-VLICNg"
      },
      "source": [
        "Defining numeric features and then we will plot the graph "
      ]
    },
    {
      "cell_type": "code",
      "metadata": {
        "colab": {
          "base_uri": "https://localhost:8080/"
        },
        "id": "uJLFSkqOEZvL",
        "outputId": "cf207ed8-4e14-41fd-e9ae-a81d1ccf7fe6"
      },
      "source": [
        "numeric_features = df.describe().columns\r\n",
        "numeric_features"
      ],
      "execution_count": 98,
      "outputs": [
        {
          "output_type": "execute_result",
          "data": {
            "text/plain": [
              "Index(['vendor_id', 'passenger_count', 'pickup_longitude', 'pickup_latitude',\n",
              "       'dropoff_longitude', 'dropoff_latitude', 'trip_duration', 'distance'],\n",
              "      dtype='object')"
            ]
          },
          "metadata": {
            "tags": []
          },
          "execution_count": 98
        }
      ]
    },
    {
      "cell_type": "code",
      "metadata": {
        "colab": {
          "base_uri": "https://localhost:8080/",
          "height": 1000
        },
        "id": "XMResGGWH1YC",
        "outputId": "dd239730-c358-4d74-b2a3-4e613659d845"
      },
      "source": [
        "# plot a bar plot for each categorical feature count\r\n",
        "for col in numeric_features:\r\n",
        "    fig = plt.figure(figsize=(9, 6))\r\n",
        "    ax = fig.gca()\r\n",
        "    feature = df[col]\r\n",
        "    feature.hist(bins=50, ax = ax)\r\n",
        "    ax.axvline(feature.mean(), color='magenta', linestyle='dashed', linewidth=2)\r\n",
        "    ax.axvline(feature.median(), color='cyan', linestyle='dashed', linewidth=2)    \r\n",
        "    ax.set_title(col)\r\n",
        "plt.show()"
      ],
      "execution_count": 99,
      "outputs": [
        {
          "output_type": "display_data",
          "data": {
            "image/png": "[encoded data removed]",
            "text/plain": [
              "<Figure size 648x432 with 1 Axes>"
            ]
          },
          "metadata": {
            "tags": [],
            "needs_background": "light"
          }
        },
        {
          "output_type": "display_data",
          "data": {
            "image/png": "[encoded data removed]",
            "text/plain": [
              "<Figure size 648x432 with 1 Axes>"
            ]
          },
          "metadata": {
            "tags": [],
            "needs_background": "light"
          }
        },
        {
          "output_type": "display_data",
          "data": {
            "image/png": "[encoded data removed]",
            "text/plain": [
              "<Figure size 648x432 with 1 Axes>"
            ]
          },
          "metadata": {
            "tags": [],
            "needs_background": "light"
          }
        },
        {
          "output_type": "display_data",
          "data": {
            "image/png": "[encoded data removed]",
            "text/plain": [
              "<Figure size 648x432 with 1 Axes>"
            ]
          },
          "metadata": {
            "tags": [],
            "needs_background": "light"
          }
        },
        {
          "output_type": "display_data",
          "data": {
            "image/png": "[encoded data removed]",
            "text/plain": [
              "<Figure size 648x432 with 1 Axes>"
            ]
          },
          "metadata": {
            "tags": [],
            "needs_background": "light"
          }
        },
        {
          "output_type": "display_data",
          "data": {
            "image/png": "[encoded data removed]",
            "text/plain": [
              "<Figure size 648x432 with 1 Axes>"
            ]
          },
          "metadata": {
            "tags": [],
            "needs_background": "light"
          }
        },
        {
          "output_type": "display_data",
          "data": {
            "image/png": "[encoded data removed]",
            "text/plain": [
              "<Figure size 648x432 with 1 Axes>"
            ]
          },
          "metadata": {
            "tags": [],
            "needs_background": "light"
          }
        },
        {
          "output_type": "display_data",
          "data": {
            "image/png": "[encoded data removed]",
            "text/plain": [
              "<Figure size 648x432 with 1 Axes>"
            ]
          },
          "metadata": {
            "tags": [],
            "needs_background": "light"
          }
        }
      ]
    },
    {
      "cell_type": "code",
      "metadata": {
        "id": "7VMibxrhI23-",
        "colab": {
          "base_uri": "https://localhost:8080/",
          "height": 1000
        },
        "outputId": "e9959030-b3cd-42f7-a7ef-3cd02f34845b"
      },
      "source": [
        "for col in numeric_features[1:-1]:\r\n",
        "    fig = plt.figure(figsize=(9, 6))\r\n",
        "    ax = fig.gca()\r\n",
        "    feature = df[col]\r\n",
        "    label = df['trip_duration']\r\n",
        "    correlation = feature.corr(label)\r\n",
        "    plt.scatter(x=feature, y=label)\r\n",
        "    plt.xlabel(col)\r\n",
        "    plt.ylabel('Trip duration')\r\n",
        "    ax.set_title('Trip duration vs ' + col + '- correlation: ' + str(correlation))\r\n",
        "    z = np.polyfit(df[col], df['trip_duration'], 1)\r\n",
        "    y_hat = np.poly1d(z)(df[col])\r\n",
        "\r\n",
        "    plt.plot(df[col], y_hat, \"r--\", lw=1)\r\n",
        "\r\n",
        "plt.show()"
      ],
      "execution_count": 100,
      "outputs": [
        {
          "output_type": "display_data",
          "data": {
            "image/png": "[encoded data removed]",
            "text/plain": [
              "<Figure size 648x432 with 1 Axes>"
            ]
          },
          "metadata": {
            "tags": [],
            "needs_background": "light"
          }
        },
        {
          "output_type": "display_data",
          "data": {
            "image/png": "[encoded data removed]",
            "text/plain": [
              "<Figure size 648x432 with 1 Axes>"
            ]
          },
          "metadata": {
            "tags": [],
            "needs_background": "light"
          }
        },
        {
          "output_type": "display_data",
          "data": {
            "image/png": "[encoded data removed]",
            "text/plain": [
              "<Figure size 648x432 with 1 Axes>"
            ]
          },
          "metadata": {
            "tags": [],
            "needs_background": "light"
          }
        },
        {
          "output_type": "display_data",
          "data": {
            "image/png": "[encoded data removed]",
            "text/plain": [
              "<Figure size 648x432 with 1 Axes>"
            ]
          },
          "metadata": {
            "tags": [],
            "needs_background": "light"
          }
        },
        {
          "output_type": "display_data",
          "data": {
            "image/png": "[encoded data removed]",
            "text/plain": [
              "<Figure size 648x432 with 1 Axes>"
            ]
          },
          "metadata": {
            "tags": [],
            "needs_background": "light"
          }
        },
        {
          "output_type": "display_data",
          "data": {
            "image/png": "[encoded data removed]",
            "text/plain": [
              "<Figure size 648x432 with 1 Axes>"
            ]
          },
          "metadata": {
            "tags": [],
            "needs_background": "light"
          }
        }
      ]
    },
    {
      "cell_type": "markdown",
      "metadata": {
        "id": "iwOeghZTJ-Sn"
      },
      "source": [
        "After looking how these independent variables are dependent on our dependent variable, we will do some feature engineering to build some more sensible features and make some prediction on our data.\r\n"
      ]
    },
    {
      "cell_type": "markdown",
      "metadata": {
        "id": "kXY_w1hhKkFc"
      },
      "source": [
        "So for our feature engineering task we will first need a variable that will give us the day of that particular pickup date"
      ]
    },
    {
      "cell_type": "code",
      "metadata": {
        "id": "6vy7iagiClz9"
      },
      "source": [
        "df['DayOfWeek'] = df['pickup_datetime'].dt.day_name()"
      ],
      "execution_count": 101,
      "outputs": []
    },
    {
      "cell_type": "code",
      "metadata": {
        "colab": {
          "base_uri": "https://localhost:8080/",
          "height": 309
        },
        "id": "DB7pke9pLoCD",
        "outputId": "5457973c-a3d1-4401-d9e2-e885843a7fc3"
      },
      "source": [
        "df.head()"
      ],
      "execution_count": 102,
      "outputs": [
        {
          "output_type": "execute_result",
          "data": {
            "text/html": [
              "<div>\n",
              "<style scoped>\n",
              "    .dataframe tbody tr th:only-of-type {\n",
              "        vertical-align: middle;\n",
              "    }\n",
              "\n",
              "    .dataframe tbody tr th {\n",
              "        vertical-align: top;\n",
              "    }\n",
              "\n",
              "    .dataframe thead th {\n",
              "        text-align: right;\n",
              "    }\n",
              "</style>\n",
              "<table border=\"1\" class=\"dataframe\">\n",
              "  <thead>\n",
              "    <tr style=\"text-align: right;\">\n",
              "      <th></th>\n",
              "      <th>id</th>\n",
              "      <th>vendor_id</th>\n",
              "      <th>pickup_datetime</th>\n",
              "      <th>dropoff_datetime</th>\n",
              "      <th>passenger_count</th>\n",
              "      <th>pickup_longitude</th>\n",
              "      <th>pickup_latitude</th>\n",
              "      <th>dropoff_longitude</th>\n",
              "      <th>dropoff_latitude</th>\n",
              "      <th>store_and_fwd_flag</th>\n",
              "      <th>trip_duration</th>\n",
              "      <th>DayOfWeek</th>\n",
              "      <th>distance</th>\n",
              "    </tr>\n",
              "  </thead>\n",
              "  <tbody>\n",
              "    <tr>\n",
              "      <th>0</th>\n",
              "      <td>id2875421</td>\n",
              "      <td>2</td>\n",
              "      <td>2016-03-14 17:24:55</td>\n",
              "      <td>2016-03-14 17:32:30</td>\n",
              "      <td>1</td>\n",
              "      <td>-73.982155</td>\n",
              "      <td>40.767937</td>\n",
              "      <td>-73.964630</td>\n",
              "      <td>40.765602</td>\n",
              "      <td>N</td>\n",
              "      <td>455</td>\n",
              "      <td>Monday</td>\n",
              "      <td>1.498991</td>\n",
              "    </tr>\n",
              "    <tr>\n",
              "      <th>1</th>\n",
              "      <td>id2377394</td>\n",
              "      <td>1</td>\n",
              "      <td>2016-06-12 00:43:35</td>\n",
              "      <td>2016-06-12 00:54:38</td>\n",
              "      <td>1</td>\n",
              "      <td>-73.980415</td>\n",
              "      <td>40.738564</td>\n",
              "      <td>-73.999481</td>\n",
              "      <td>40.731152</td>\n",
              "      <td>N</td>\n",
              "      <td>663</td>\n",
              "      <td>Sunday</td>\n",
              "      <td>1.806074</td>\n",
              "    </tr>\n",
              "    <tr>\n",
              "      <th>2</th>\n",
              "      <td>id3858529</td>\n",
              "      <td>2</td>\n",
              "      <td>2016-01-19 11:35:24</td>\n",
              "      <td>2016-01-19 12:10:48</td>\n",
              "      <td>1</td>\n",
              "      <td>-73.979027</td>\n",
              "      <td>40.763939</td>\n",
              "      <td>-74.005333</td>\n",
              "      <td>40.710087</td>\n",
              "      <td>N</td>\n",
              "      <td>2124</td>\n",
              "      <td>Tuesday</td>\n",
              "      <td>6.387103</td>\n",
              "    </tr>\n",
              "    <tr>\n",
              "      <th>3</th>\n",
              "      <td>id3504673</td>\n",
              "      <td>2</td>\n",
              "      <td>2016-04-06 19:32:31</td>\n",
              "      <td>2016-04-06 19:39:40</td>\n",
              "      <td>1</td>\n",
              "      <td>-74.010040</td>\n",
              "      <td>40.719971</td>\n",
              "      <td>-74.012268</td>\n",
              "      <td>40.706718</td>\n",
              "      <td>N</td>\n",
              "      <td>429</td>\n",
              "      <td>Wednesday</td>\n",
              "      <td>1.485965</td>\n",
              "    </tr>\n",
              "    <tr>\n",
              "      <th>4</th>\n",
              "      <td>id2181028</td>\n",
              "      <td>2</td>\n",
              "      <td>2016-03-26 13:30:55</td>\n",
              "      <td>2016-03-26 13:38:10</td>\n",
              "      <td>1</td>\n",
              "      <td>-73.973053</td>\n",
              "      <td>40.793209</td>\n",
              "      <td>-73.972923</td>\n",
              "      <td>40.782520</td>\n",
              "      <td>N</td>\n",
              "      <td>435</td>\n",
              "      <td>Saturday</td>\n",
              "      <td>1.188962</td>\n",
              "    </tr>\n",
              "  </tbody>\n",
              "</table>\n",
              "</div>"
            ],
            "text/plain": [
              "          id  vendor_id     pickup_datetime  ... trip_duration  DayOfWeek  distance\n",
              "0  id2875421          2 2016-03-14 17:24:55  ...           455     Monday  1.498991\n",
              "1  id2377394          1 2016-06-12 00:43:35  ...           663     Sunday  1.806074\n",
              "2  id3858529          2 2016-01-19 11:35:24  ...          2124    Tuesday  6.387103\n",
              "3  id3504673          2 2016-04-06 19:32:31  ...           429  Wednesday  1.485965\n",
              "4  id2181028          2 2016-03-26 13:30:55  ...           435   Saturday  1.188962\n",
              "\n",
              "[5 rows x 13 columns]"
            ]
          },
          "metadata": {
            "tags": []
          },
          "execution_count": 102
        }
      ]
    },
    {
      "cell_type": "markdown",
      "metadata": {
        "id": "6g55hWYgLt0w"
      },
      "source": [
        "Now that we have gotten the day let's see how it looks like"
      ]
    },
    {
      "cell_type": "code",
      "metadata": {
        "colab": {
          "base_uri": "https://localhost:8080/"
        },
        "id": "ZFbhWddqLpmL",
        "outputId": "ce0c3413-9d27-4a3e-ac49-e029dcc11288"
      },
      "source": [
        "df['DayOfWeek'].value_counts()"
      ],
      "execution_count": 103,
      "outputs": [
        {
          "output_type": "execute_result",
          "data": {
            "text/plain": [
              "Friday       223533\n",
              "Saturday     220868\n",
              "Thursday     218574\n",
              "Wednesday    210136\n",
              "Tuesday      202749\n",
              "Sunday       195366\n",
              "Monday       187418\n",
              "Name: DayOfWeek, dtype: int64"
            ]
          },
          "metadata": {
            "tags": []
          },
          "execution_count": 103
        }
      ]
    },
    {
      "cell_type": "markdown",
      "metadata": {
        "id": "Vi9BfC_uM7JI"
      },
      "source": [
        "After we have added our day feature now let's add something more useful"
      ]
    },
    {
      "cell_type": "markdown",
      "metadata": {
        "id": "IDVrwqWJNIBO"
      },
      "source": [
        "Now we will plot the distance travelled from one point to the other oint from the latitude and longitude given to us from the dataset.\r\n"
      ]
    },
    {
      "cell_type": "code",
      "metadata": {
        "id": "rLf-13TaMFjr"
      },
      "source": [
        "from math import sin, cos, sqrt, atan2, radians\r\n",
        "\r\n",
        "def get_distance(lon_1, lon_2, lat_1, lat_2):\r\n",
        "  # approximate radius of earth in km\r\n",
        "  R = 6373.0\r\n",
        "  lat1 = radians(lat_1)\r\n",
        "  lon1 = radians(lon_1)\r\n",
        "  lat2 = radians(lat_2)\r\n",
        "  lon2 = radians(lon_2)\r\n",
        "  dlon = lon2 - lon1\r\n",
        "  dlat = lat2 - lat1\r\n",
        "  a = sin(dlat / 2)**2 + cos(lat1) * cos(lat2) * sin(dlon / 2)**2\r\n",
        "  c = 2 * atan2(sqrt(a), sqrt(1 - a))\r\n",
        "  distance = R * c\r\n",
        "  return distance\r\n",
        "df[\"Distance(in km)\"] = df.apply(lambda x: get_distance(x[\"pickup_longitude\"],x[\"dropoff_longitude\"],x[\"pickup_latitude\"],x[\"dropoff_latitude\"]),axis=1)"
      ],
      "execution_count": 104,
      "outputs": []
    },
    {
      "cell_type": "code",
      "metadata": {
        "colab": {
          "base_uri": "https://localhost:8080/",
          "height": 326
        },
        "id": "2daFvt-VNVNB",
        "outputId": "16789f8f-c7ed-4236-8213-37a0b8e6014c"
      },
      "source": [
        "df.head()"
      ],
      "execution_count": 105,
      "outputs": [
        {
          "output_type": "execute_result",
          "data": {
            "text/html": [
              "<div>\n",
              "<style scoped>\n",
              "    .dataframe tbody tr th:only-of-type {\n",
              "        vertical-align: middle;\n",
              "    }\n",
              "\n",
              "    .dataframe tbody tr th {\n",
              "        vertical-align: top;\n",
              "    }\n",
              "\n",
              "    .dataframe thead th {\n",
              "        text-align: right;\n",
              "    }\n",
              "</style>\n",
              "<table border=\"1\" class=\"dataframe\">\n",
              "  <thead>\n",
              "    <tr style=\"text-align: right;\">\n",
              "      <th></th>\n",
              "      <th>id</th>\n",
              "      <th>vendor_id</th>\n",
              "      <th>pickup_datetime</th>\n",
              "      <th>dropoff_datetime</th>\n",
              "      <th>passenger_count</th>\n",
              "      <th>pickup_longitude</th>\n",
              "      <th>pickup_latitude</th>\n",
              "      <th>dropoff_longitude</th>\n",
              "      <th>dropoff_latitude</th>\n",
              "      <th>store_and_fwd_flag</th>\n",
              "      <th>trip_duration</th>\n",
              "      <th>DayOfWeek</th>\n",
              "      <th>distance</th>\n",
              "      <th>Distance(in km)</th>\n",
              "    </tr>\n",
              "  </thead>\n",
              "  <tbody>\n",
              "    <tr>\n",
              "      <th>0</th>\n",
              "      <td>id2875421</td>\n",
              "      <td>2</td>\n",
              "      <td>2016-03-14 17:24:55</td>\n",
              "      <td>2016-03-14 17:32:30</td>\n",
              "      <td>1</td>\n",
              "      <td>-73.982155</td>\n",
              "      <td>40.767937</td>\n",
              "      <td>-73.964630</td>\n",
              "      <td>40.765602</td>\n",
              "      <td>N</td>\n",
              "      <td>455</td>\n",
              "      <td>Monday</td>\n",
              "      <td>1.498991</td>\n",
              "      <td>1.498991</td>\n",
              "    </tr>\n",
              "    <tr>\n",
              "      <th>1</th>\n",
              "      <td>id2377394</td>\n",
              "      <td>1</td>\n",
              "      <td>2016-06-12 00:43:35</td>\n",
              "      <td>2016-06-12 00:54:38</td>\n",
              "      <td>1</td>\n",
              "      <td>-73.980415</td>\n",
              "      <td>40.738564</td>\n",
              "      <td>-73.999481</td>\n",
              "      <td>40.731152</td>\n",
              "      <td>N</td>\n",
              "      <td>663</td>\n",
              "      <td>Sunday</td>\n",
              "      <td>1.806074</td>\n",
              "      <td>1.806074</td>\n",
              "    </tr>\n",
              "    <tr>\n",
              "      <th>2</th>\n",
              "      <td>id3858529</td>\n",
              "      <td>2</td>\n",
              "      <td>2016-01-19 11:35:24</td>\n",
              "      <td>2016-01-19 12:10:48</td>\n",
              "      <td>1</td>\n",
              "      <td>-73.979027</td>\n",
              "      <td>40.763939</td>\n",
              "      <td>-74.005333</td>\n",
              "      <td>40.710087</td>\n",
              "      <td>N</td>\n",
              "      <td>2124</td>\n",
              "      <td>Tuesday</td>\n",
              "      <td>6.387103</td>\n",
              "      <td>6.387103</td>\n",
              "    </tr>\n",
              "    <tr>\n",
              "      <th>3</th>\n",
              "      <td>id3504673</td>\n",
              "      <td>2</td>\n",
              "      <td>2016-04-06 19:32:31</td>\n",
              "      <td>2016-04-06 19:39:40</td>\n",
              "      <td>1</td>\n",
              "      <td>-74.010040</td>\n",
              "      <td>40.719971</td>\n",
              "      <td>-74.012268</td>\n",
              "      <td>40.706718</td>\n",
              "      <td>N</td>\n",
              "      <td>429</td>\n",
              "      <td>Wednesday</td>\n",
              "      <td>1.485965</td>\n",
              "      <td>1.485965</td>\n",
              "    </tr>\n",
              "    <tr>\n",
              "      <th>4</th>\n",
              "      <td>id2181028</td>\n",
              "      <td>2</td>\n",
              "      <td>2016-03-26 13:30:55</td>\n",
              "      <td>2016-03-26 13:38:10</td>\n",
              "      <td>1</td>\n",
              "      <td>-73.973053</td>\n",
              "      <td>40.793209</td>\n",
              "      <td>-73.972923</td>\n",
              "      <td>40.782520</td>\n",
              "      <td>N</td>\n",
              "      <td>435</td>\n",
              "      <td>Saturday</td>\n",
              "      <td>1.188962</td>\n",
              "      <td>1.188962</td>\n",
              "    </tr>\n",
              "  </tbody>\n",
              "</table>\n",
              "</div>"
            ],
            "text/plain": [
              "          id  vendor_id  ...  distance Distance(in km)\n",
              "0  id2875421          2  ...  1.498991        1.498991\n",
              "1  id2377394          1  ...  1.806074        1.806074\n",
              "2  id3858529          2  ...  6.387103        6.387103\n",
              "3  id3504673          2  ...  1.485965        1.485965\n",
              "4  id2181028          2  ...  1.188962        1.188962\n",
              "\n",
              "[5 rows x 14 columns]"
            ]
          },
          "metadata": {
            "tags": []
          },
          "execution_count": 105
        }
      ]
    },
    {
      "cell_type": "markdown",
      "metadata": {
        "id": "pKJ8U9KORb0x"
      },
      "source": [
        "Now let's try to plot the relationship of distance with our dependent variable \"trip_duration\""
      ]
    },
    {
      "cell_type": "code",
      "metadata": {
        "colab": {
          "base_uri": "https://localhost:8080/",
          "height": 638
        },
        "id": "3EJiZ1UBN1_N",
        "outputId": "357b282d-c7f0-43e2-bf7f-a63797465a15"
      },
      "source": [
        "day_df=df.groupby('DayOfWeek')['id'].count().reset_index()\r\n",
        "plt.figure(figsize=(15,10))\r\n",
        "plt.title(' Number of texi book per day')\r\n",
        "sns.barplot(x='DayOfWeek',y='id',data=day_df)"
      ],
      "execution_count": 111,
      "outputs": [
        {
          "output_type": "execute_result",
          "data": {
            "text/plain": [
              "<matplotlib.axes._subplots.AxesSubplot at 0x7f8edcbc6b70>"
            ]
          },
          "metadata": {
            "tags": []
          },
          "execution_count": 111
        },
        {
          "output_type": "display_data",
          "data": {
            "image/png": "[encoded data removed]",
            "text/plain": [
              "<Figure size 1080x720 with 1 Axes>"
            ]
          },
          "metadata": {
            "tags": [],
            "needs_background": "light"
          }
        }
      ]
    },
    {
      "cell_type": "markdown",
      "metadata": {
        "id": "ejAtfFUjSt5m"
      },
      "source": [
        "Here we can see that our taxi were most booked on the day of friday"
      ]
    },
    {
      "cell_type": "code",
      "metadata": {
        "colab": {
          "base_uri": "https://localhost:8080/",
          "height": 326
        },
        "id": "1s55lSunSUub",
        "outputId": "05fe0a52-e1da-4f2e-e149-6eb6fb1e5ddb"
      },
      "source": [
        "df.head()"
      ],
      "execution_count": 112,
      "outputs": [
        {
          "output_type": "execute_result",
          "data": {
            "text/html": [
              "<div>\n",
              "<style scoped>\n",
              "    .dataframe tbody tr th:only-of-type {\n",
              "        vertical-align: middle;\n",
              "    }\n",
              "\n",
              "    .dataframe tbody tr th {\n",
              "        vertical-align: top;\n",
              "    }\n",
              "\n",
              "    .dataframe thead th {\n",
              "        text-align: right;\n",
              "    }\n",
              "</style>\n",
              "<table border=\"1\" class=\"dataframe\">\n",
              "  <thead>\n",
              "    <tr style=\"text-align: right;\">\n",
              "      <th></th>\n",
              "      <th>id</th>\n",
              "      <th>vendor_id</th>\n",
              "      <th>pickup_datetime</th>\n",
              "      <th>dropoff_datetime</th>\n",
              "      <th>passenger_count</th>\n",
              "      <th>pickup_longitude</th>\n",
              "      <th>pickup_latitude</th>\n",
              "      <th>dropoff_longitude</th>\n",
              "      <th>dropoff_latitude</th>\n",
              "      <th>store_and_fwd_flag</th>\n",
              "      <th>trip_duration</th>\n",
              "      <th>DayOfWeek</th>\n",
              "      <th>distance</th>\n",
              "      <th>Distance(in km)</th>\n",
              "    </tr>\n",
              "  </thead>\n",
              "  <tbody>\n",
              "    <tr>\n",
              "      <th>0</th>\n",
              "      <td>id2875421</td>\n",
              "      <td>2</td>\n",
              "      <td>2016-03-14 17:24:55</td>\n",
              "      <td>2016-03-14 17:32:30</td>\n",
              "      <td>1</td>\n",
              "      <td>-73.982155</td>\n",
              "      <td>40.767937</td>\n",
              "      <td>-73.964630</td>\n",
              "      <td>40.765602</td>\n",
              "      <td>N</td>\n",
              "      <td>455</td>\n",
              "      <td>Monday</td>\n",
              "      <td>1.498991</td>\n",
              "      <td>1.498991</td>\n",
              "    </tr>\n",
              "    <tr>\n",
              "      <th>1</th>\n",
              "      <td>id2377394</td>\n",
              "      <td>1</td>\n",
              "      <td>2016-06-12 00:43:35</td>\n",
              "      <td>2016-06-12 00:54:38</td>\n",
              "      <td>1</td>\n",
              "      <td>-73.980415</td>\n",
              "      <td>40.738564</td>\n",
              "      <td>-73.999481</td>\n",
              "      <td>40.731152</td>\n",
              "      <td>N</td>\n",
              "      <td>663</td>\n",
              "      <td>Sunday</td>\n",
              "      <td>1.806074</td>\n",
              "      <td>1.806074</td>\n",
              "    </tr>\n",
              "    <tr>\n",
              "      <th>2</th>\n",
              "      <td>id3858529</td>\n",
              "      <td>2</td>\n",
              "      <td>2016-01-19 11:35:24</td>\n",
              "      <td>2016-01-19 12:10:48</td>\n",
              "      <td>1</td>\n",
              "      <td>-73.979027</td>\n",
              "      <td>40.763939</td>\n",
              "      <td>-74.005333</td>\n",
              "      <td>40.710087</td>\n",
              "      <td>N</td>\n",
              "      <td>2124</td>\n",
              "      <td>Tuesday</td>\n",
              "      <td>6.387103</td>\n",
              "      <td>6.387103</td>\n",
              "    </tr>\n",
              "    <tr>\n",
              "      <th>3</th>\n",
              "      <td>id3504673</td>\n",
              "      <td>2</td>\n",
              "      <td>2016-04-06 19:32:31</td>\n",
              "      <td>2016-04-06 19:39:40</td>\n",
              "      <td>1</td>\n",
              "      <td>-74.010040</td>\n",
              "      <td>40.719971</td>\n",
              "      <td>-74.012268</td>\n",
              "      <td>40.706718</td>\n",
              "      <td>N</td>\n",
              "      <td>429</td>\n",
              "      <td>Wednesday</td>\n",
              "      <td>1.485965</td>\n",
              "      <td>1.485965</td>\n",
              "    </tr>\n",
              "    <tr>\n",
              "      <th>4</th>\n",
              "      <td>id2181028</td>\n",
              "      <td>2</td>\n",
              "      <td>2016-03-26 13:30:55</td>\n",
              "      <td>2016-03-26 13:38:10</td>\n",
              "      <td>1</td>\n",
              "      <td>-73.973053</td>\n",
              "      <td>40.793209</td>\n",
              "      <td>-73.972923</td>\n",
              "      <td>40.782520</td>\n",
              "      <td>N</td>\n",
              "      <td>435</td>\n",
              "      <td>Saturday</td>\n",
              "      <td>1.188962</td>\n",
              "      <td>1.188962</td>\n",
              "    </tr>\n",
              "  </tbody>\n",
              "</table>\n",
              "</div>"
            ],
            "text/plain": [
              "          id  vendor_id  ...  distance Distance(in km)\n",
              "0  id2875421          2  ...  1.498991        1.498991\n",
              "1  id2377394          1  ...  1.806074        1.806074\n",
              "2  id3858529          2  ...  6.387103        6.387103\n",
              "3  id3504673          2  ...  1.485965        1.485965\n",
              "4  id2181028          2  ...  1.188962        1.188962\n",
              "\n",
              "[5 rows x 14 columns]"
            ]
          },
          "metadata": {
            "tags": []
          },
          "execution_count": 112
        }
      ]
    },
    {
      "cell_type": "markdown",
      "metadata": {
        "id": "nF4iRzK-S8Ec"
      },
      "source": [
        "Now let's do some one hot encoding"
      ]
    },
    {
      "cell_type": "markdown",
      "metadata": {
        "id": "LkqunqrgWpGL"
      },
      "source": [
        "We have converted the weeks and store_and_fwd_flag as one hot encoding variables and made them into 0 and 1 values"
      ]
    },
    {
      "cell_type": "code",
      "metadata": {
        "id": "1_WHU2tcS5rj"
      },
      "source": [
        "# One hot encoding\r\n",
        "df_new=df.copy()\r\n",
        "df_new = pd.get_dummies(df_new, columns=[\"store_and_fwd_flag\", \"DayOfWeek\"], prefix=[\"store_and_fwd_flag\",'DayOfWeek'])"
      ],
      "execution_count": 114,
      "outputs": []
    },
    {
      "cell_type": "code",
      "metadata": {
        "colab": {
          "base_uri": "https://localhost:8080/",
          "height": 326
        },
        "id": "aV_N2r4UWedY",
        "outputId": "399f73d5-2534-4872-e6bb-ea799719d4c7"
      },
      "source": [
        "df_new.head()"
      ],
      "execution_count": 115,
      "outputs": [
        {
          "output_type": "execute_result",
          "data": {
            "text/html": [
              "<div>\n",
              "<style scoped>\n",
              "    .dataframe tbody tr th:only-of-type {\n",
              "        vertical-align: middle;\n",
              "    }\n",
              "\n",
              "    .dataframe tbody tr th {\n",
              "        vertical-align: top;\n",
              "    }\n",
              "\n",
              "    .dataframe thead th {\n",
              "        text-align: right;\n",
              "    }\n",
              "</style>\n",
              "<table border=\"1\" class=\"dataframe\">\n",
              "  <thead>\n",
              "    <tr style=\"text-align: right;\">\n",
              "      <th></th>\n",
              "      <th>id</th>\n",
              "      <th>vendor_id</th>\n",
              "      <th>pickup_datetime</th>\n",
              "      <th>dropoff_datetime</th>\n",
              "      <th>passenger_count</th>\n",
              "      <th>pickup_longitude</th>\n",
              "      <th>pickup_latitude</th>\n",
              "      <th>dropoff_longitude</th>\n",
              "      <th>dropoff_latitude</th>\n",
              "      <th>trip_duration</th>\n",
              "      <th>distance</th>\n",
              "      <th>Distance(in km)</th>\n",
              "      <th>store_and_fwd_flag_N</th>\n",
              "      <th>store_and_fwd_flag_Y</th>\n",
              "      <th>DayOfWeek_Friday</th>\n",
              "      <th>DayOfWeek_Monday</th>\n",
              "      <th>DayOfWeek_Saturday</th>\n",
              "      <th>DayOfWeek_Sunday</th>\n",
              "      <th>DayOfWeek_Thursday</th>\n",
              "      <th>DayOfWeek_Tuesday</th>\n",
              "      <th>DayOfWeek_Wednesday</th>\n",
              "    </tr>\n",
              "  </thead>\n",
              "  <tbody>\n",
              "    <tr>\n",
              "      <th>0</th>\n",
              "      <td>id2875421</td>\n",
              "      <td>2</td>\n",
              "      <td>2016-03-14 17:24:55</td>\n",
              "      <td>2016-03-14 17:32:30</td>\n",
              "      <td>1</td>\n",
              "      <td>-73.982155</td>\n",
              "      <td>40.767937</td>\n",
              "      <td>-73.964630</td>\n",
              "      <td>40.765602</td>\n",
              "      <td>455</td>\n",
              "      <td>1.498991</td>\n",
              "      <td>1.498991</td>\n",
              "      <td>1</td>\n",
              "      <td>0</td>\n",
              "      <td>0</td>\n",
              "      <td>1</td>\n",
              "      <td>0</td>\n",
              "      <td>0</td>\n",
              "      <td>0</td>\n",
              "      <td>0</td>\n",
              "      <td>0</td>\n",
              "    </tr>\n",
              "    <tr>\n",
              "      <th>1</th>\n",
              "      <td>id2377394</td>\n",
              "      <td>1</td>\n",
              "      <td>2016-06-12 00:43:35</td>\n",
              "      <td>2016-06-12 00:54:38</td>\n",
              "      <td>1</td>\n",
              "      <td>-73.980415</td>\n",
              "      <td>40.738564</td>\n",
              "      <td>-73.999481</td>\n",
              "      <td>40.731152</td>\n",
              "      <td>663</td>\n",
              "      <td>1.806074</td>\n",
              "      <td>1.806074</td>\n",
              "      <td>1</td>\n",
              "      <td>0</td>\n",
              "      <td>0</td>\n",
              "      <td>0</td>\n",
              "      <td>0</td>\n",
              "      <td>1</td>\n",
              "      <td>0</td>\n",
              "      <td>0</td>\n",
              "      <td>0</td>\n",
              "    </tr>\n",
              "    <tr>\n",
              "      <th>2</th>\n",
              "      <td>id3858529</td>\n",
              "      <td>2</td>\n",
              "      <td>2016-01-19 11:35:24</td>\n",
              "      <td>2016-01-19 12:10:48</td>\n",
              "      <td>1</td>\n",
              "      <td>-73.979027</td>\n",
              "      <td>40.763939</td>\n",
              "      <td>-74.005333</td>\n",
              "      <td>40.710087</td>\n",
              "      <td>2124</td>\n",
              "      <td>6.387103</td>\n",
              "      <td>6.387103</td>\n",
              "      <td>1</td>\n",
              "      <td>0</td>\n",
              "      <td>0</td>\n",
              "      <td>0</td>\n",
              "      <td>0</td>\n",
              "      <td>0</td>\n",
              "      <td>0</td>\n",
              "      <td>1</td>\n",
              "      <td>0</td>\n",
              "    </tr>\n",
              "    <tr>\n",
              "      <th>3</th>\n",
              "      <td>id3504673</td>\n",
              "      <td>2</td>\n",
              "      <td>2016-04-06 19:32:31</td>\n",
              "      <td>2016-04-06 19:39:40</td>\n",
              "      <td>1</td>\n",
              "      <td>-74.010040</td>\n",
              "      <td>40.719971</td>\n",
              "      <td>-74.012268</td>\n",
              "      <td>40.706718</td>\n",
              "      <td>429</td>\n",
              "      <td>1.485965</td>\n",
              "      <td>1.485965</td>\n",
              "      <td>1</td>\n",
              "      <td>0</td>\n",
              "      <td>0</td>\n",
              "      <td>0</td>\n",
              "      <td>0</td>\n",
              "      <td>0</td>\n",
              "      <td>0</td>\n",
              "      <td>0</td>\n",
              "      <td>1</td>\n",
              "    </tr>\n",
              "    <tr>\n",
              "      <th>4</th>\n",
              "      <td>id2181028</td>\n",
              "      <td>2</td>\n",
              "      <td>2016-03-26 13:30:55</td>\n",
              "      <td>2016-03-26 13:38:10</td>\n",
              "      <td>1</td>\n",
              "      <td>-73.973053</td>\n",
              "      <td>40.793209</td>\n",
              "      <td>-73.972923</td>\n",
              "      <td>40.782520</td>\n",
              "      <td>435</td>\n",
              "      <td>1.188962</td>\n",
              "      <td>1.188962</td>\n",
              "      <td>1</td>\n",
              "      <td>0</td>\n",
              "      <td>0</td>\n",
              "      <td>0</td>\n",
              "      <td>1</td>\n",
              "      <td>0</td>\n",
              "      <td>0</td>\n",
              "      <td>0</td>\n",
              "      <td>0</td>\n",
              "    </tr>\n",
              "  </tbody>\n",
              "</table>\n",
              "</div>"
            ],
            "text/plain": [
              "          id  vendor_id  ... DayOfWeek_Tuesday DayOfWeek_Wednesday\n",
              "0  id2875421          2  ...                 0                   0\n",
              "1  id2377394          1  ...                 0                   0\n",
              "2  id3858529          2  ...                 1                   0\n",
              "3  id3504673          2  ...                 0                   1\n",
              "4  id2181028          2  ...                 0                   0\n",
              "\n",
              "[5 rows x 21 columns]"
            ]
          },
          "metadata": {
            "tags": []
          },
          "execution_count": 115
        }
      ]
    },
    {
      "cell_type": "code",
      "metadata": {
        "id": "Lw_Y1SHBWkgK"
      },
      "source": [
        ""
      ],
      "execution_count": null,
      "outputs": []
    }
  ]
}