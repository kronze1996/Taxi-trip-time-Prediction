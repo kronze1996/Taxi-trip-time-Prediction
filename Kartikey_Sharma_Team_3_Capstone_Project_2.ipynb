{
  "nbformat": 4,
  "nbformat_minor": 0,
  "metadata": {
    "kernelspec": {
      "display_name": "Python 3",
      "language": "python",
      "name": "python3"
    },
    "language_info": {
      "codemirror_mode": {
        "name": "ipython",
        "version": 3
      },
      "file_extension": ".py",
      "mimetype": "text/x-python",
      "name": "python",
      "nbconvert_exporter": "python",
      "pygments_lexer": "ipython3",
      "version": "3.6.6"
    },
    "colab": {
      "name": "Kartikey Sharma - Team 3 - Capstone Project 2.ipynb",
      "provenance": [],
      "collapsed_sections": [],
      "include_colab_link": true
    }
  },
  "cells": [
    {
      "cell_type": "markdown",
      "metadata": {
        "id": "view-in-github",
        "colab_type": "text"
      },
      "source": [
        "<a href=\"https://colab.research.google.com/github/kronze1996/Taxi-trip-time-Prediction/blob/main/Kartikey_Sharma_Team_3_Capstone_Project_2.ipynb\" target=\"_parent\"><img src=\"https://colab.research.google.com/assets/colab-badge.svg\" alt=\"Open In Colab\"/></a>"
      ]
    },
    {
      "cell_type": "markdown",
      "metadata": {
        "id": "tOGC-qoyhJeX"
      },
      "source": [
        "# <b><u> Project Title : Taxi trip time Prediction : Predicting total ride duration of taxi trips in New York City</u></b>"
      ]
    },
    {
      "cell_type": "markdown",
      "metadata": {
        "id": "Y06xIdG26kRF"
      },
      "source": [
        "## <b> Problem Description </b>\n",
        "\n",
        "### Your task is to build a model that predicts the total ride duration of taxi trips in New York City. Your primary dataset is one released by the NYC Taxi and Limousine Commission, which includes pickup time, geo-coordinates, number of passengers, and several other variables."
      ]
    },
    {
      "cell_type": "markdown",
      "metadata": {
        "id": "WWeU1f9bwqQq"
      },
      "source": [
        "## <b> Data Description </b>\r\n",
        "\r\n",
        "### The dataset is based on the 2016 NYC Yellow Cab trip record data made available in Big Query on Google Cloud Platform. The data was originally published by the NYC Taxi and Limousine Commission (TLC). The data was sampled and cleaned for the purposes of this project. Based on individual trip attributes, you should predict the duration of each trip in the test set.\r\n",
        "\r\n",
        "### <b>NYC Taxi Data.csv</b> - the training set (contains 1458644 trip records)\r\n",
        "\r\n",
        "\r\n",
        "### Data fields\r\n",
        "* #### id - a unique identifier for each trip\r\n",
        "* #### vendor_id - a code indicating the provider associated with the trip record\r\n",
        "* #### pickup_datetime - date and time when the meter was engaged\r\n",
        "* #### dropoff_datetime - date and time when the meter was disengaged\r\n",
        "* #### passenger_count - the number of passengers in the vehicle (driver entered value)\r\n",
        "* #### pickup_longitude - the longitude where the meter was engaged\r\n",
        "* #### pickup_latitude - the latitude where the meter was engaged\r\n",
        "* #### dropoff_longitude - the longitude where the meter was disengaged\r\n",
        "* #### dropoff_latitude - the latitude where the meter was disengaged\r\n",
        "* #### store_and_fwd_flag - This flag indicates whether the trip record was held in vehicle memory before sending to the vendor because the vehicle did not have a connection to the server - Y=store and forward; N=not a store and forward trip\r\n",
        "* #### trip_duration - duration of the trip in seconds"
      ]
    },
    {
      "cell_type": "code",
      "metadata": {
        "colab": {
          "base_uri": "https://localhost:8080/"
        },
        "id": "UtfKasQ7HJdR",
        "outputId": "37d3f032-4807-4e80-cf25-2d22392e2f7c"
      },
      "source": [
        "from google.colab import drive\n",
        "drive.mount('/content/drive')"
      ],
      "execution_count": null,
      "outputs": [
        {
          "output_type": "stream",
          "text": [
            "Mounted at /content/drive\n"
          ],
          "name": "stdout"
        }
      ]
    },
    {
      "cell_type": "markdown",
      "metadata": {
        "id": "mKQc5MRtJEZj"
      },
      "source": [
        "#Exploratory Data Analysis"
      ]
    },
    {
      "cell_type": "markdown",
      "metadata": {
        "id": "ETccr0S4JNS-"
      },
      "source": [
        "Let's first import all the libraries we will need and fetch the data."
      ]
    },
    {
      "cell_type": "code",
      "metadata": {
        "id": "dByMsuzT8Tnw"
      },
      "source": [
        "# Importing the libraries\r\n",
        "import pandas as pd\r\n",
        "import numpy as np\r\n",
        "import matplotlib.pyplot as plt\r\n",
        "import seaborn as sns\r\n",
        "\r\n",
        "from sklearn.model_selection import train_test_split\r\n",
        "from sklearn.preprocessing import OneHotEncoder\r\n",
        "from sklearn.model_selection import GridSearchCV\r\n",
        "from sklearn.model_selection import RandomizedSearchCV\r\n",
        "from sklearn.model_selection import train_test_split\r\n",
        "from sklearn.metrics import accuracy_score, auc\r\n",
        "from sklearn.tree import DecisionTreeClassifier\r\n",
        "from sklearn import ensemble\r\n",
        "\r\n",
        "from sklearn.preprocessing import MinMaxScaler\r\n",
        "from sklearn.linear_model import LinearRegression\r\n",
        "from sklearn.metrics import r2_score\r\n",
        "from sklearn.metrics import mean_squared_error\r\n",
        "import seaborn as sns\r\n",
        "import matplotlib.pyplot as plt\r\n",
        "import warnings\r\n",
        "warnings.filterwarnings('ignore')"
      ],
      "execution_count": null,
      "outputs": []
    },
    {
      "cell_type": "markdown",
      "metadata": {
        "id": "66zfgM9ZJdK_"
      },
      "source": [
        "Reading the dataset."
      ]
    },
    {
      "cell_type": "code",
      "metadata": {
        "id": "nFk_T_bVHJ0P"
      },
      "source": [
        "path = \"/content/drive/MyDrive/AlmaBetter/Cohort Aravali/Module 4/Week 1/NYC Taxi Data.csv\"\r\n",
        "df = pd.read_csv(path)"
      ],
      "execution_count": null,
      "outputs": []
    },
    {
      "cell_type": "code",
      "metadata": {
        "colab": {
          "base_uri": "https://localhost:8080/",
          "height": 309
        },
        "id": "SaBgSjpCHxa5",
        "outputId": "c0965287-9151-4531-9b52-ba800aab8c12"
      },
      "source": [
        "df.head()"
      ],
      "execution_count": null,
      "outputs": [
        {
          "output_type": "execute_result",
          "data": {
            "text/html": [
              "<div>\n",
              "<style scoped>\n",
              "    .dataframe tbody tr th:only-of-type {\n",
              "        vertical-align: middle;\n",
              "    }\n",
              "\n",
              "    .dataframe tbody tr th {\n",
              "        vertical-align: top;\n",
              "    }\n",
              "\n",
              "    .dataframe thead th {\n",
              "        text-align: right;\n",
              "    }\n",
              "</style>\n",
              "<table border=\"1\" class=\"dataframe\">\n",
              "  <thead>\n",
              "    <tr style=\"text-align: right;\">\n",
              "      <th></th>\n",
              "      <th>id</th>\n",
              "      <th>vendor_id</th>\n",
              "      <th>pickup_datetime</th>\n",
              "      <th>dropoff_datetime</th>\n",
              "      <th>passenger_count</th>\n",
              "      <th>pickup_longitude</th>\n",
              "      <th>pickup_latitude</th>\n",
              "      <th>dropoff_longitude</th>\n",
              "      <th>dropoff_latitude</th>\n",
              "      <th>store_and_fwd_flag</th>\n",
              "      <th>trip_duration</th>\n",
              "    </tr>\n",
              "  </thead>\n",
              "  <tbody>\n",
              "    <tr>\n",
              "      <th>0</th>\n",
              "      <td>id2875421</td>\n",
              "      <td>2</td>\n",
              "      <td>2016-03-14 17:24:55</td>\n",
              "      <td>2016-03-14 17:32:30</td>\n",
              "      <td>1</td>\n",
              "      <td>-73.982155</td>\n",
              "      <td>40.767937</td>\n",
              "      <td>-73.964630</td>\n",
              "      <td>40.765602</td>\n",
              "      <td>N</td>\n",
              "      <td>455</td>\n",
              "    </tr>\n",
              "    <tr>\n",
              "      <th>1</th>\n",
              "      <td>id2377394</td>\n",
              "      <td>1</td>\n",
              "      <td>2016-06-12 00:43:35</td>\n",
              "      <td>2016-06-12 00:54:38</td>\n",
              "      <td>1</td>\n",
              "      <td>-73.980415</td>\n",
              "      <td>40.738564</td>\n",
              "      <td>-73.999481</td>\n",
              "      <td>40.731152</td>\n",
              "      <td>N</td>\n",
              "      <td>663</td>\n",
              "    </tr>\n",
              "    <tr>\n",
              "      <th>2</th>\n",
              "      <td>id3858529</td>\n",
              "      <td>2</td>\n",
              "      <td>2016-01-19 11:35:24</td>\n",
              "      <td>2016-01-19 12:10:48</td>\n",
              "      <td>1</td>\n",
              "      <td>-73.979027</td>\n",
              "      <td>40.763939</td>\n",
              "      <td>-74.005333</td>\n",
              "      <td>40.710087</td>\n",
              "      <td>N</td>\n",
              "      <td>2124</td>\n",
              "    </tr>\n",
              "    <tr>\n",
              "      <th>3</th>\n",
              "      <td>id3504673</td>\n",
              "      <td>2</td>\n",
              "      <td>2016-04-06 19:32:31</td>\n",
              "      <td>2016-04-06 19:39:40</td>\n",
              "      <td>1</td>\n",
              "      <td>-74.010040</td>\n",
              "      <td>40.719971</td>\n",
              "      <td>-74.012268</td>\n",
              "      <td>40.706718</td>\n",
              "      <td>N</td>\n",
              "      <td>429</td>\n",
              "    </tr>\n",
              "    <tr>\n",
              "      <th>4</th>\n",
              "      <td>id2181028</td>\n",
              "      <td>2</td>\n",
              "      <td>2016-03-26 13:30:55</td>\n",
              "      <td>2016-03-26 13:38:10</td>\n",
              "      <td>1</td>\n",
              "      <td>-73.973053</td>\n",
              "      <td>40.793209</td>\n",
              "      <td>-73.972923</td>\n",
              "      <td>40.782520</td>\n",
              "      <td>N</td>\n",
              "      <td>435</td>\n",
              "    </tr>\n",
              "  </tbody>\n",
              "</table>\n",
              "</div>"
            ],
            "text/plain": [
              "          id  vendor_id  ... store_and_fwd_flag trip_duration\n",
              "0  id2875421          2  ...                  N           455\n",
              "1  id2377394          1  ...                  N           663\n",
              "2  id3858529          2  ...                  N          2124\n",
              "3  id3504673          2  ...                  N           429\n",
              "4  id2181028          2  ...                  N           435\n",
              "\n",
              "[5 rows x 11 columns]"
            ]
          },
          "metadata": {
            "tags": []
          },
          "execution_count": 3
        }
      ]
    },
    {
      "cell_type": "code",
      "metadata": {
        "colab": {
          "base_uri": "https://localhost:8080/"
        },
        "id": "YBS19E6-H-VL",
        "outputId": "6a6c3ad7-2c49-432e-d5c6-02d6091003d5"
      },
      "source": [
        "df.info()"
      ],
      "execution_count": null,
      "outputs": [
        {
          "output_type": "stream",
          "text": [
            "<class 'pandas.core.frame.DataFrame'>\n",
            "RangeIndex: 1458644 entries, 0 to 1458643\n",
            "Data columns (total 11 columns):\n",
            " #   Column              Non-Null Count    Dtype  \n",
            "---  ------              --------------    -----  \n",
            " 0   id                  1458644 non-null  object \n",
            " 1   vendor_id           1458644 non-null  int64  \n",
            " 2   pickup_datetime     1458644 non-null  object \n",
            " 3   dropoff_datetime    1458644 non-null  object \n",
            " 4   passenger_count     1458644 non-null  int64  \n",
            " 5   pickup_longitude    1458644 non-null  float64\n",
            " 6   pickup_latitude     1458644 non-null  float64\n",
            " 7   dropoff_longitude   1458644 non-null  float64\n",
            " 8   dropoff_latitude    1458644 non-null  float64\n",
            " 9   store_and_fwd_flag  1458644 non-null  object \n",
            " 10  trip_duration       1458644 non-null  int64  \n",
            "dtypes: float64(4), int64(3), object(4)\n",
            "memory usage: 122.4+ MB\n"
          ],
          "name": "stdout"
        }
      ]
    },
    {
      "cell_type": "markdown",
      "metadata": {
        "id": "RIa9RkfJdIcn"
      },
      "source": [
        "Good thing we don't have null values"
      ]
    },
    {
      "cell_type": "code",
      "metadata": {
        "colab": {
          "base_uri": "https://localhost:8080/",
          "height": 297
        },
        "id": "Io_c1dwXH8-W",
        "outputId": "87392a22-f15c-4e3d-c1e4-5f123b53f44d"
      },
      "source": [
        "df.describe()"
      ],
      "execution_count": null,
      "outputs": [
        {
          "output_type": "execute_result",
          "data": {
            "text/html": [
              "<div>\n",
              "<style scoped>\n",
              "    .dataframe tbody tr th:only-of-type {\n",
              "        vertical-align: middle;\n",
              "    }\n",
              "\n",
              "    .dataframe tbody tr th {\n",
              "        vertical-align: top;\n",
              "    }\n",
              "\n",
              "    .dataframe thead th {\n",
              "        text-align: right;\n",
              "    }\n",
              "</style>\n",
              "<table border=\"1\" class=\"dataframe\">\n",
              "  <thead>\n",
              "    <tr style=\"text-align: right;\">\n",
              "      <th></th>\n",
              "      <th>vendor_id</th>\n",
              "      <th>passenger_count</th>\n",
              "      <th>pickup_longitude</th>\n",
              "      <th>pickup_latitude</th>\n",
              "      <th>dropoff_longitude</th>\n",
              "      <th>dropoff_latitude</th>\n",
              "      <th>trip_duration</th>\n",
              "    </tr>\n",
              "  </thead>\n",
              "  <tbody>\n",
              "    <tr>\n",
              "      <th>count</th>\n",
              "      <td>1.458644e+06</td>\n",
              "      <td>1.458644e+06</td>\n",
              "      <td>1.458644e+06</td>\n",
              "      <td>1.458644e+06</td>\n",
              "      <td>1.458644e+06</td>\n",
              "      <td>1.458644e+06</td>\n",
              "      <td>1.458644e+06</td>\n",
              "    </tr>\n",
              "    <tr>\n",
              "      <th>mean</th>\n",
              "      <td>1.534950e+00</td>\n",
              "      <td>1.664530e+00</td>\n",
              "      <td>-7.397349e+01</td>\n",
              "      <td>4.075092e+01</td>\n",
              "      <td>-7.397342e+01</td>\n",
              "      <td>4.075180e+01</td>\n",
              "      <td>9.594923e+02</td>\n",
              "    </tr>\n",
              "    <tr>\n",
              "      <th>std</th>\n",
              "      <td>4.987772e-01</td>\n",
              "      <td>1.314242e+00</td>\n",
              "      <td>7.090186e-02</td>\n",
              "      <td>3.288119e-02</td>\n",
              "      <td>7.064327e-02</td>\n",
              "      <td>3.589056e-02</td>\n",
              "      <td>5.237432e+03</td>\n",
              "    </tr>\n",
              "    <tr>\n",
              "      <th>min</th>\n",
              "      <td>1.000000e+00</td>\n",
              "      <td>0.000000e+00</td>\n",
              "      <td>-1.219333e+02</td>\n",
              "      <td>3.435970e+01</td>\n",
              "      <td>-1.219333e+02</td>\n",
              "      <td>3.218114e+01</td>\n",
              "      <td>1.000000e+00</td>\n",
              "    </tr>\n",
              "    <tr>\n",
              "      <th>25%</th>\n",
              "      <td>1.000000e+00</td>\n",
              "      <td>1.000000e+00</td>\n",
              "      <td>-7.399187e+01</td>\n",
              "      <td>4.073735e+01</td>\n",
              "      <td>-7.399133e+01</td>\n",
              "      <td>4.073588e+01</td>\n",
              "      <td>3.970000e+02</td>\n",
              "    </tr>\n",
              "    <tr>\n",
              "      <th>50%</th>\n",
              "      <td>2.000000e+00</td>\n",
              "      <td>1.000000e+00</td>\n",
              "      <td>-7.398174e+01</td>\n",
              "      <td>4.075410e+01</td>\n",
              "      <td>-7.397975e+01</td>\n",
              "      <td>4.075452e+01</td>\n",
              "      <td>6.620000e+02</td>\n",
              "    </tr>\n",
              "    <tr>\n",
              "      <th>75%</th>\n",
              "      <td>2.000000e+00</td>\n",
              "      <td>2.000000e+00</td>\n",
              "      <td>-7.396733e+01</td>\n",
              "      <td>4.076836e+01</td>\n",
              "      <td>-7.396301e+01</td>\n",
              "      <td>4.076981e+01</td>\n",
              "      <td>1.075000e+03</td>\n",
              "    </tr>\n",
              "    <tr>\n",
              "      <th>max</th>\n",
              "      <td>2.000000e+00</td>\n",
              "      <td>9.000000e+00</td>\n",
              "      <td>-6.133553e+01</td>\n",
              "      <td>5.188108e+01</td>\n",
              "      <td>-6.133553e+01</td>\n",
              "      <td>4.392103e+01</td>\n",
              "      <td>3.526282e+06</td>\n",
              "    </tr>\n",
              "  </tbody>\n",
              "</table>\n",
              "</div>"
            ],
            "text/plain": [
              "          vendor_id  passenger_count  ...  dropoff_latitude  trip_duration\n",
              "count  1.458644e+06     1.458644e+06  ...      1.458644e+06   1.458644e+06\n",
              "mean   1.534950e+00     1.664530e+00  ...      4.075180e+01   9.594923e+02\n",
              "std    4.987772e-01     1.314242e+00  ...      3.589056e-02   5.237432e+03\n",
              "min    1.000000e+00     0.000000e+00  ...      3.218114e+01   1.000000e+00\n",
              "25%    1.000000e+00     1.000000e+00  ...      4.073588e+01   3.970000e+02\n",
              "50%    2.000000e+00     1.000000e+00  ...      4.075452e+01   6.620000e+02\n",
              "75%    2.000000e+00     2.000000e+00  ...      4.076981e+01   1.075000e+03\n",
              "max    2.000000e+00     9.000000e+00  ...      4.392103e+01   3.526282e+06\n",
              "\n",
              "[8 rows x 7 columns]"
            ]
          },
          "metadata": {
            "tags": []
          },
          "execution_count": 5
        }
      ]
    },
    {
      "cell_type": "code",
      "metadata": {
        "colab": {
          "base_uri": "https://localhost:8080/"
        },
        "id": "dh34DxQeb4mE",
        "outputId": "26937c78-345b-4a3d-b81e-fa3612338369"
      },
      "source": [
        "df.shape"
      ],
      "execution_count": null,
      "outputs": [
        {
          "output_type": "execute_result",
          "data": {
            "text/plain": [
              "(1458644, 11)"
            ]
          },
          "metadata": {
            "tags": []
          },
          "execution_count": 6
        }
      ]
    },
    {
      "cell_type": "markdown",
      "metadata": {
        "id": "rxd56hqDaLxT"
      },
      "source": [
        "Dropping duplicates"
      ]
    },
    {
      "cell_type": "code",
      "metadata": {
        "colab": {
          "base_uri": "https://localhost:8080/"
        },
        "id": "f643zmmpathI",
        "outputId": "036c8a0b-c199-4c24-ce83-94f2c6ed838e"
      },
      "source": [
        "df.drop_duplicates(inplace=True)\r\n",
        "df.shape"
      ],
      "execution_count": null,
      "outputs": [
        {
          "output_type": "execute_result",
          "data": {
            "text/plain": [
              "(1458644, 11)"
            ]
          },
          "metadata": {
            "tags": []
          },
          "execution_count": 7
        }
      ]
    },
    {
      "cell_type": "markdown",
      "metadata": {
        "id": "GHr_Kr7ddWFx"
      },
      "source": [
        "Checking the passenger_count and number of times a taxi had that particular number of passengers."
      ]
    },
    {
      "cell_type": "code",
      "metadata": {
        "id": "2SXfUwUXR_ww",
        "colab": {
          "base_uri": "https://localhost:8080/"
        },
        "outputId": "e492f2bc-ac85-4c19-e7cb-020eb420ea9a"
      },
      "source": [
        "df['passenger_count'].value_counts()"
      ],
      "execution_count": null,
      "outputs": [
        {
          "output_type": "execute_result",
          "data": {
            "text/plain": [
              "1    1033540\n",
              "2     210318\n",
              "5      78088\n",
              "3      59896\n",
              "6      48333\n",
              "4      28404\n",
              "0         60\n",
              "7          3\n",
              "9          1\n",
              "8          1\n",
              "Name: passenger_count, dtype: int64"
            ]
          },
          "metadata": {
            "tags": []
          },
          "execution_count": 8
        }
      ]
    },
    {
      "cell_type": "markdown",
      "metadata": {
        "id": "CeU_hjo9YwDQ"
      },
      "source": [
        "Checking for taxi which had zero passengers"
      ]
    },
    {
      "cell_type": "code",
      "metadata": {
        "colab": {
          "base_uri": "https://localhost:8080/",
          "height": 1000
        },
        "id": "tsiDKI3JQ_ck",
        "outputId": "23dd7ef3-b1fb-4553-fb8d-7334e3fa5b40"
      },
      "source": [
        "df[df['passenger_count']==0]"
      ],
      "execution_count": null,
      "outputs": [
        {
          "output_type": "execute_result",
          "data": {
            "text/html": [
              "<div>\n",
              "<style scoped>\n",
              "    .dataframe tbody tr th:only-of-type {\n",
              "        vertical-align: middle;\n",
              "    }\n",
              "\n",
              "    .dataframe tbody tr th {\n",
              "        vertical-align: top;\n",
              "    }\n",
              "\n",
              "    .dataframe thead th {\n",
              "        text-align: right;\n",
              "    }\n",
              "</style>\n",
              "<table border=\"1\" class=\"dataframe\">\n",
              "  <thead>\n",
              "    <tr style=\"text-align: right;\">\n",
              "      <th></th>\n",
              "      <th>id</th>\n",
              "      <th>vendor_id</th>\n",
              "      <th>pickup_datetime</th>\n",
              "      <th>dropoff_datetime</th>\n",
              "      <th>passenger_count</th>\n",
              "      <th>pickup_longitude</th>\n",
              "      <th>pickup_latitude</th>\n",
              "      <th>dropoff_longitude</th>\n",
              "      <th>dropoff_latitude</th>\n",
              "      <th>store_and_fwd_flag</th>\n",
              "      <th>trip_duration</th>\n",
              "    </tr>\n",
              "  </thead>\n",
              "  <tbody>\n",
              "    <tr>\n",
              "      <th>62744</th>\n",
              "      <td>id3917283</td>\n",
              "      <td>2</td>\n",
              "      <td>2016-06-06 16:39:09</td>\n",
              "      <td>2016-06-07 16:30:50</td>\n",
              "      <td>0</td>\n",
              "      <td>-73.776367</td>\n",
              "      <td>40.645248</td>\n",
              "      <td>-73.776360</td>\n",
              "      <td>40.645260</td>\n",
              "      <td>N</td>\n",
              "      <td>85901</td>\n",
              "    </tr>\n",
              "    <tr>\n",
              "      <th>136519</th>\n",
              "      <td>id3645383</td>\n",
              "      <td>2</td>\n",
              "      <td>2016-01-01 05:01:32</td>\n",
              "      <td>2016-01-01 05:01:36</td>\n",
              "      <td>0</td>\n",
              "      <td>-73.993134</td>\n",
              "      <td>40.757473</td>\n",
              "      <td>-73.993294</td>\n",
              "      <td>40.757538</td>\n",
              "      <td>N</td>\n",
              "      <td>4</td>\n",
              "    </tr>\n",
              "    <tr>\n",
              "      <th>194288</th>\n",
              "      <td>id2840829</td>\n",
              "      <td>2</td>\n",
              "      <td>2016-02-21 01:33:52</td>\n",
              "      <td>2016-02-21 01:36:27</td>\n",
              "      <td>0</td>\n",
              "      <td>-73.946243</td>\n",
              "      <td>40.772903</td>\n",
              "      <td>-73.946770</td>\n",
              "      <td>40.774841</td>\n",
              "      <td>N</td>\n",
              "      <td>155</td>\n",
              "    </tr>\n",
              "    <tr>\n",
              "      <th>217765</th>\n",
              "      <td>id3762593</td>\n",
              "      <td>1</td>\n",
              "      <td>2016-01-04 12:24:17</td>\n",
              "      <td>2016-01-04 13:01:48</td>\n",
              "      <td>0</td>\n",
              "      <td>-73.815224</td>\n",
              "      <td>40.700081</td>\n",
              "      <td>-73.950699</td>\n",
              "      <td>40.755222</td>\n",
              "      <td>N</td>\n",
              "      <td>2251</td>\n",
              "    </tr>\n",
              "    <tr>\n",
              "      <th>263809</th>\n",
              "      <td>id2154895</td>\n",
              "      <td>1</td>\n",
              "      <td>2016-05-23 23:37:37</td>\n",
              "      <td>2016-05-23 23:37:45</td>\n",
              "      <td>0</td>\n",
              "      <td>-73.861633</td>\n",
              "      <td>40.705029</td>\n",
              "      <td>-73.861633</td>\n",
              "      <td>40.705029</td>\n",
              "      <td>N</td>\n",
              "      <td>8</td>\n",
              "    </tr>\n",
              "    <tr>\n",
              "      <th>278290</th>\n",
              "      <td>id0796773</td>\n",
              "      <td>1</td>\n",
              "      <td>2016-02-07 17:23:48</td>\n",
              "      <td>2016-02-07 17:23:57</td>\n",
              "      <td>0</td>\n",
              "      <td>-73.954941</td>\n",
              "      <td>40.687866</td>\n",
              "      <td>-73.954742</td>\n",
              "      <td>40.687862</td>\n",
              "      <td>N</td>\n",
              "      <td>9</td>\n",
              "    </tr>\n",
              "    <tr>\n",
              "      <th>301600</th>\n",
              "      <td>id2091096</td>\n",
              "      <td>2</td>\n",
              "      <td>2016-01-01 23:52:46</td>\n",
              "      <td>2016-01-02 00:27:18</td>\n",
              "      <td>0</td>\n",
              "      <td>-73.993652</td>\n",
              "      <td>40.757046</td>\n",
              "      <td>-73.918869</td>\n",
              "      <td>40.757793</td>\n",
              "      <td>N</td>\n",
              "      <td>2072</td>\n",
              "    </tr>\n",
              "    <tr>\n",
              "      <th>303133</th>\n",
              "      <td>id0414625</td>\n",
              "      <td>2</td>\n",
              "      <td>2016-01-05 18:52:20</td>\n",
              "      <td>2016-01-05 18:52:35</td>\n",
              "      <td>0</td>\n",
              "      <td>-73.985291</td>\n",
              "      <td>40.738335</td>\n",
              "      <td>-73.985352</td>\n",
              "      <td>40.738361</td>\n",
              "      <td>N</td>\n",
              "      <td>15</td>\n",
              "    </tr>\n",
              "    <tr>\n",
              "      <th>337809</th>\n",
              "      <td>id0271506</td>\n",
              "      <td>2</td>\n",
              "      <td>2016-05-22 00:23:15</td>\n",
              "      <td>2016-05-22 00:23:56</td>\n",
              "      <td>0</td>\n",
              "      <td>-73.956718</td>\n",
              "      <td>40.777142</td>\n",
              "      <td>-73.956764</td>\n",
              "      <td>40.776958</td>\n",
              "      <td>N</td>\n",
              "      <td>41</td>\n",
              "    </tr>\n",
              "    <tr>\n",
              "      <th>375972</th>\n",
              "      <td>id3176865</td>\n",
              "      <td>2</td>\n",
              "      <td>2016-05-31 05:10:23</td>\n",
              "      <td>2016-05-31 05:10:38</td>\n",
              "      <td>0</td>\n",
              "      <td>-73.982468</td>\n",
              "      <td>40.727974</td>\n",
              "      <td>-73.982468</td>\n",
              "      <td>40.728001</td>\n",
              "      <td>N</td>\n",
              "      <td>15</td>\n",
              "    </tr>\n",
              "    <tr>\n",
              "      <th>383407</th>\n",
              "      <td>id3493269</td>\n",
              "      <td>2</td>\n",
              "      <td>2016-01-14 19:09:41</td>\n",
              "      <td>2016-01-14 19:09:48</td>\n",
              "      <td>0</td>\n",
              "      <td>-73.904709</td>\n",
              "      <td>40.758099</td>\n",
              "      <td>-73.904716</td>\n",
              "      <td>40.758148</td>\n",
              "      <td>N</td>\n",
              "      <td>7</td>\n",
              "    </tr>\n",
              "    <tr>\n",
              "      <th>412172</th>\n",
              "      <td>id2247129</td>\n",
              "      <td>2</td>\n",
              "      <td>2016-01-13 11:50:12</td>\n",
              "      <td>2016-01-13 12:16:08</td>\n",
              "      <td>0</td>\n",
              "      <td>-73.965027</td>\n",
              "      <td>40.775269</td>\n",
              "      <td>-73.973450</td>\n",
              "      <td>40.840618</td>\n",
              "      <td>N</td>\n",
              "      <td>1556</td>\n",
              "    </tr>\n",
              "    <tr>\n",
              "      <th>415843</th>\n",
              "      <td>id1794493</td>\n",
              "      <td>2</td>\n",
              "      <td>2016-03-20 01:25:42</td>\n",
              "      <td>2016-03-20 01:26:04</td>\n",
              "      <td>0</td>\n",
              "      <td>-73.995094</td>\n",
              "      <td>40.760296</td>\n",
              "      <td>-73.995064</td>\n",
              "      <td>40.760284</td>\n",
              "      <td>N</td>\n",
              "      <td>22</td>\n",
              "    </tr>\n",
              "    <tr>\n",
              "      <th>437735</th>\n",
              "      <td>id2891366</td>\n",
              "      <td>1</td>\n",
              "      <td>2016-02-18 21:26:15</td>\n",
              "      <td>2016-02-18 21:28:00</td>\n",
              "      <td>0</td>\n",
              "      <td>-73.983543</td>\n",
              "      <td>40.716404</td>\n",
              "      <td>-73.983543</td>\n",
              "      <td>40.716404</td>\n",
              "      <td>N</td>\n",
              "      <td>105</td>\n",
              "    </tr>\n",
              "    <tr>\n",
              "      <th>447838</th>\n",
              "      <td>id1253169</td>\n",
              "      <td>1</td>\n",
              "      <td>2016-02-28 01:08:48</td>\n",
              "      <td>2016-02-28 01:09:01</td>\n",
              "      <td>0</td>\n",
              "      <td>-74.035942</td>\n",
              "      <td>40.736488</td>\n",
              "      <td>-74.035942</td>\n",
              "      <td>40.736492</td>\n",
              "      <td>N</td>\n",
              "      <td>13</td>\n",
              "    </tr>\n",
              "    <tr>\n",
              "      <th>521316</th>\n",
              "      <td>id2571672</td>\n",
              "      <td>1</td>\n",
              "      <td>2016-03-06 05:24:55</td>\n",
              "      <td>2016-03-06 05:25:00</td>\n",
              "      <td>0</td>\n",
              "      <td>-73.979698</td>\n",
              "      <td>40.761196</td>\n",
              "      <td>-73.979698</td>\n",
              "      <td>40.761196</td>\n",
              "      <td>Y</td>\n",
              "      <td>5</td>\n",
              "    </tr>\n",
              "    <tr>\n",
              "      <th>553862</th>\n",
              "      <td>id1822284</td>\n",
              "      <td>1</td>\n",
              "      <td>2016-04-10 20:20:43</td>\n",
              "      <td>2016-04-10 20:20:47</td>\n",
              "      <td>0</td>\n",
              "      <td>-73.991020</td>\n",
              "      <td>40.733791</td>\n",
              "      <td>-73.991066</td>\n",
              "      <td>40.733501</td>\n",
              "      <td>N</td>\n",
              "      <td>4</td>\n",
              "    </tr>\n",
              "    <tr>\n",
              "      <th>582469</th>\n",
              "      <td>id0663459</td>\n",
              "      <td>2</td>\n",
              "      <td>2016-06-11 01:24:47</td>\n",
              "      <td>2016-06-11 01:25:36</td>\n",
              "      <td>0</td>\n",
              "      <td>-73.996506</td>\n",
              "      <td>40.644638</td>\n",
              "      <td>-73.996521</td>\n",
              "      <td>40.644650</td>\n",
              "      <td>N</td>\n",
              "      <td>49</td>\n",
              "    </tr>\n",
              "    <tr>\n",
              "      <th>621221</th>\n",
              "      <td>id1039576</td>\n",
              "      <td>1</td>\n",
              "      <td>2016-05-13 12:08:39</td>\n",
              "      <td>2016-05-13 12:08:45</td>\n",
              "      <td>0</td>\n",
              "      <td>-73.801979</td>\n",
              "      <td>40.664188</td>\n",
              "      <td>-73.801888</td>\n",
              "      <td>40.665359</td>\n",
              "      <td>N</td>\n",
              "      <td>6</td>\n",
              "    </tr>\n",
              "    <tr>\n",
              "      <th>649337</th>\n",
              "      <td>id3347660</td>\n",
              "      <td>2</td>\n",
              "      <td>2016-05-29 01:26:30</td>\n",
              "      <td>2016-05-29 01:26:49</td>\n",
              "      <td>0</td>\n",
              "      <td>-73.932732</td>\n",
              "      <td>40.856438</td>\n",
              "      <td>-73.932762</td>\n",
              "      <td>40.856438</td>\n",
              "      <td>N</td>\n",
              "      <td>19</td>\n",
              "    </tr>\n",
              "    <tr>\n",
              "      <th>676906</th>\n",
              "      <td>id0878599</td>\n",
              "      <td>1</td>\n",
              "      <td>2016-01-25 08:46:58</td>\n",
              "      <td>2016-01-25 09:41:01</td>\n",
              "      <td>0</td>\n",
              "      <td>-73.928078</td>\n",
              "      <td>40.736412</td>\n",
              "      <td>-73.985519</td>\n",
              "      <td>40.758972</td>\n",
              "      <td>N</td>\n",
              "      <td>3243</td>\n",
              "    </tr>\n",
              "    <tr>\n",
              "      <th>718163</th>\n",
              "      <td>id1610720</td>\n",
              "      <td>2</td>\n",
              "      <td>2016-03-13 14:08:20</td>\n",
              "      <td>2016-03-13 14:08:28</td>\n",
              "      <td>0</td>\n",
              "      <td>-73.922081</td>\n",
              "      <td>40.636040</td>\n",
              "      <td>-73.922081</td>\n",
              "      <td>40.636040</td>\n",
              "      <td>N</td>\n",
              "      <td>8</td>\n",
              "    </tr>\n",
              "    <tr>\n",
              "      <th>722399</th>\n",
              "      <td>id1593144</td>\n",
              "      <td>1</td>\n",
              "      <td>2016-01-08 21:55:27</td>\n",
              "      <td>2016-01-08 22:01:52</td>\n",
              "      <td>0</td>\n",
              "      <td>-73.980957</td>\n",
              "      <td>40.742142</td>\n",
              "      <td>-73.986122</td>\n",
              "      <td>40.729488</td>\n",
              "      <td>N</td>\n",
              "      <td>385</td>\n",
              "    </tr>\n",
              "    <tr>\n",
              "      <th>727514</th>\n",
              "      <td>id1857858</td>\n",
              "      <td>2</td>\n",
              "      <td>2016-01-09 01:53:24</td>\n",
              "      <td>2016-01-09 01:53:26</td>\n",
              "      <td>0</td>\n",
              "      <td>-73.956123</td>\n",
              "      <td>40.668156</td>\n",
              "      <td>-73.956085</td>\n",
              "      <td>40.668110</td>\n",
              "      <td>N</td>\n",
              "      <td>2</td>\n",
              "    </tr>\n",
              "    <tr>\n",
              "      <th>776276</th>\n",
              "      <td>id3066152</td>\n",
              "      <td>1</td>\n",
              "      <td>2016-02-01 00:27:13</td>\n",
              "      <td>2016-02-01 00:27:58</td>\n",
              "      <td>0</td>\n",
              "      <td>-74.014488</td>\n",
              "      <td>40.708229</td>\n",
              "      <td>-74.014488</td>\n",
              "      <td>40.708229</td>\n",
              "      <td>N</td>\n",
              "      <td>45</td>\n",
              "    </tr>\n",
              "    <tr>\n",
              "      <th>777319</th>\n",
              "      <td>id3364866</td>\n",
              "      <td>1</td>\n",
              "      <td>2016-02-13 14:04:20</td>\n",
              "      <td>2016-02-13 14:21:29</td>\n",
              "      <td>0</td>\n",
              "      <td>-73.990479</td>\n",
              "      <td>40.742004</td>\n",
              "      <td>-73.989243</td>\n",
              "      <td>40.763680</td>\n",
              "      <td>N</td>\n",
              "      <td>1029</td>\n",
              "    </tr>\n",
              "    <tr>\n",
              "      <th>796361</th>\n",
              "      <td>id3494250</td>\n",
              "      <td>1</td>\n",
              "      <td>2016-04-02 02:32:10</td>\n",
              "      <td>2016-04-02 02:50:51</td>\n",
              "      <td>0</td>\n",
              "      <td>-74.005089</td>\n",
              "      <td>40.729038</td>\n",
              "      <td>-74.032486</td>\n",
              "      <td>40.619579</td>\n",
              "      <td>N</td>\n",
              "      <td>1121</td>\n",
              "    </tr>\n",
              "    <tr>\n",
              "      <th>827485</th>\n",
              "      <td>id2029944</td>\n",
              "      <td>1</td>\n",
              "      <td>2016-03-11 09:38:54</td>\n",
              "      <td>2016-03-11 09:38:57</td>\n",
              "      <td>0</td>\n",
              "      <td>-73.790398</td>\n",
              "      <td>40.655457</td>\n",
              "      <td>-73.790398</td>\n",
              "      <td>40.655457</td>\n",
              "      <td>N</td>\n",
              "      <td>3</td>\n",
              "    </tr>\n",
              "    <tr>\n",
              "      <th>875056</th>\n",
              "      <td>id3533680</td>\n",
              "      <td>1</td>\n",
              "      <td>2016-01-10 04:17:21</td>\n",
              "      <td>2016-01-10 04:17:24</td>\n",
              "      <td>0</td>\n",
              "      <td>-73.993195</td>\n",
              "      <td>40.598701</td>\n",
              "      <td>-73.993195</td>\n",
              "      <td>40.598701</td>\n",
              "      <td>N</td>\n",
              "      <td>3</td>\n",
              "    </tr>\n",
              "    <tr>\n",
              "      <th>904688</th>\n",
              "      <td>id3563937</td>\n",
              "      <td>1</td>\n",
              "      <td>2016-02-13 16:52:38</td>\n",
              "      <td>2016-02-13 16:57:48</td>\n",
              "      <td>0</td>\n",
              "      <td>-73.962097</td>\n",
              "      <td>40.776146</td>\n",
              "      <td>-73.958160</td>\n",
              "      <td>40.767014</td>\n",
              "      <td>N</td>\n",
              "      <td>310</td>\n",
              "    </tr>\n",
              "    <tr>\n",
              "      <th>911071</th>\n",
              "      <td>id0959777</td>\n",
              "      <td>2</td>\n",
              "      <td>2016-03-01 19:11:26</td>\n",
              "      <td>2016-03-01 19:11:30</td>\n",
              "      <td>0</td>\n",
              "      <td>-74.003777</td>\n",
              "      <td>40.738186</td>\n",
              "      <td>-74.003807</td>\n",
              "      <td>40.738174</td>\n",
              "      <td>N</td>\n",
              "      <td>4</td>\n",
              "    </tr>\n",
              "    <tr>\n",
              "      <th>914211</th>\n",
              "      <td>id1656232</td>\n",
              "      <td>1</td>\n",
              "      <td>2016-04-21 06:04:56</td>\n",
              "      <td>2016-04-21 06:05:18</td>\n",
              "      <td>0</td>\n",
              "      <td>-73.978149</td>\n",
              "      <td>40.750183</td>\n",
              "      <td>-73.978104</td>\n",
              "      <td>40.750477</td>\n",
              "      <td>N</td>\n",
              "      <td>22</td>\n",
              "    </tr>\n",
              "    <tr>\n",
              "      <th>919750</th>\n",
              "      <td>id1880173</td>\n",
              "      <td>1</td>\n",
              "      <td>2016-02-17 21:17:45</td>\n",
              "      <td>2016-02-17 21:27:46</td>\n",
              "      <td>0</td>\n",
              "      <td>-73.976921</td>\n",
              "      <td>40.755753</td>\n",
              "      <td>-73.994186</td>\n",
              "      <td>40.746025</td>\n",
              "      <td>N</td>\n",
              "      <td>601</td>\n",
              "    </tr>\n",
              "    <tr>\n",
              "      <th>921640</th>\n",
              "      <td>id1325601</td>\n",
              "      <td>2</td>\n",
              "      <td>2016-05-05 02:00:31</td>\n",
              "      <td>2016-05-05 02:00:45</td>\n",
              "      <td>0</td>\n",
              "      <td>-73.995796</td>\n",
              "      <td>40.720516</td>\n",
              "      <td>-73.995667</td>\n",
              "      <td>40.720551</td>\n",
              "      <td>N</td>\n",
              "      <td>14</td>\n",
              "    </tr>\n",
              "    <tr>\n",
              "      <th>934078</th>\n",
              "      <td>id3251852</td>\n",
              "      <td>1</td>\n",
              "      <td>2016-02-01 01:26:36</td>\n",
              "      <td>2016-02-01 01:27:03</td>\n",
              "      <td>0</td>\n",
              "      <td>-73.988678</td>\n",
              "      <td>40.721344</td>\n",
              "      <td>-73.988670</td>\n",
              "      <td>40.721344</td>\n",
              "      <td>N</td>\n",
              "      <td>27</td>\n",
              "    </tr>\n",
              "    <tr>\n",
              "      <th>954696</th>\n",
              "      <td>id2613392</td>\n",
              "      <td>2</td>\n",
              "      <td>2016-03-31 22:25:35</td>\n",
              "      <td>2016-03-31 22:25:42</td>\n",
              "      <td>0</td>\n",
              "      <td>-74.010307</td>\n",
              "      <td>40.718697</td>\n",
              "      <td>-74.010330</td>\n",
              "      <td>40.718651</td>\n",
              "      <td>N</td>\n",
              "      <td>7</td>\n",
              "    </tr>\n",
              "    <tr>\n",
              "      <th>986189</th>\n",
              "      <td>id1376024</td>\n",
              "      <td>1</td>\n",
              "      <td>2016-04-01 16:10:32</td>\n",
              "      <td>2016-04-01 16:11:01</td>\n",
              "      <td>0</td>\n",
              "      <td>-73.951973</td>\n",
              "      <td>40.733479</td>\n",
              "      <td>-73.951996</td>\n",
              "      <td>40.733471</td>\n",
              "      <td>N</td>\n",
              "      <td>29</td>\n",
              "    </tr>\n",
              "    <tr>\n",
              "      <th>1025067</th>\n",
              "      <td>id2063256</td>\n",
              "      <td>1</td>\n",
              "      <td>2016-03-25 17:45:27</td>\n",
              "      <td>2016-03-25 17:46:55</td>\n",
              "      <td>0</td>\n",
              "      <td>-73.994804</td>\n",
              "      <td>40.720661</td>\n",
              "      <td>-73.995125</td>\n",
              "      <td>40.720715</td>\n",
              "      <td>N</td>\n",
              "      <td>88</td>\n",
              "    </tr>\n",
              "    <tr>\n",
              "      <th>1032513</th>\n",
              "      <td>id1992999</td>\n",
              "      <td>2</td>\n",
              "      <td>2016-01-18 23:15:34</td>\n",
              "      <td>2016-01-18 23:15:37</td>\n",
              "      <td>0</td>\n",
              "      <td>-73.987083</td>\n",
              "      <td>40.757889</td>\n",
              "      <td>-73.988220</td>\n",
              "      <td>40.759033</td>\n",
              "      <td>N</td>\n",
              "      <td>3</td>\n",
              "    </tr>\n",
              "    <tr>\n",
              "      <th>1049209</th>\n",
              "      <td>id1846091</td>\n",
              "      <td>2</td>\n",
              "      <td>2016-01-16 00:50:18</td>\n",
              "      <td>2016-01-16 00:51:36</td>\n",
              "      <td>0</td>\n",
              "      <td>-73.919167</td>\n",
              "      <td>40.686878</td>\n",
              "      <td>-73.919151</td>\n",
              "      <td>40.686874</td>\n",
              "      <td>N</td>\n",
              "      <td>78</td>\n",
              "    </tr>\n",
              "    <tr>\n",
              "      <th>1092678</th>\n",
              "      <td>id2957383</td>\n",
              "      <td>1</td>\n",
              "      <td>2016-05-20 03:22:01</td>\n",
              "      <td>2016-05-20 03:23:09</td>\n",
              "      <td>0</td>\n",
              "      <td>-74.005341</td>\n",
              "      <td>40.871922</td>\n",
              "      <td>-74.006096</td>\n",
              "      <td>40.872318</td>\n",
              "      <td>Y</td>\n",
              "      <td>68</td>\n",
              "    </tr>\n",
              "    <tr>\n",
              "      <th>1101359</th>\n",
              "      <td>id2535067</td>\n",
              "      <td>1</td>\n",
              "      <td>2016-06-13 05:59:07</td>\n",
              "      <td>2016-06-13 05:59:16</td>\n",
              "      <td>0</td>\n",
              "      <td>-73.947174</td>\n",
              "      <td>40.826153</td>\n",
              "      <td>-73.947220</td>\n",
              "      <td>40.826084</td>\n",
              "      <td>Y</td>\n",
              "      <td>9</td>\n",
              "    </tr>\n",
              "    <tr>\n",
              "      <th>1122417</th>\n",
              "      <td>id0593652</td>\n",
              "      <td>2</td>\n",
              "      <td>2016-06-08 19:34:25</td>\n",
              "      <td>2016-06-08 19:34:55</td>\n",
              "      <td>0</td>\n",
              "      <td>-73.964203</td>\n",
              "      <td>40.773273</td>\n",
              "      <td>-73.964218</td>\n",
              "      <td>40.773182</td>\n",
              "      <td>N</td>\n",
              "      <td>30</td>\n",
              "    </tr>\n",
              "    <tr>\n",
              "      <th>1131166</th>\n",
              "      <td>id1688347</td>\n",
              "      <td>2</td>\n",
              "      <td>2016-05-19 19:55:58</td>\n",
              "      <td>2016-05-19 19:56:23</td>\n",
              "      <td>0</td>\n",
              "      <td>-73.972145</td>\n",
              "      <td>40.747833</td>\n",
              "      <td>-73.972130</td>\n",
              "      <td>40.747982</td>\n",
              "      <td>N</td>\n",
              "      <td>25</td>\n",
              "    </tr>\n",
              "    <tr>\n",
              "      <th>1144278</th>\n",
              "      <td>id1220914</td>\n",
              "      <td>2</td>\n",
              "      <td>2016-01-17 20:51:55</td>\n",
              "      <td>2016-01-17 20:52:43</td>\n",
              "      <td>0</td>\n",
              "      <td>-73.959999</td>\n",
              "      <td>40.766861</td>\n",
              "      <td>-73.960106</td>\n",
              "      <td>40.766911</td>\n",
              "      <td>N</td>\n",
              "      <td>48</td>\n",
              "    </tr>\n",
              "    <tr>\n",
              "      <th>1211269</th>\n",
              "      <td>id0662963</td>\n",
              "      <td>2</td>\n",
              "      <td>2016-02-13 04:41:13</td>\n",
              "      <td>2016-02-13 04:41:22</td>\n",
              "      <td>0</td>\n",
              "      <td>-73.945633</td>\n",
              "      <td>40.803673</td>\n",
              "      <td>-73.945625</td>\n",
              "      <td>40.803661</td>\n",
              "      <td>N</td>\n",
              "      <td>9</td>\n",
              "    </tr>\n",
              "    <tr>\n",
              "      <th>1257574</th>\n",
              "      <td>id1205792</td>\n",
              "      <td>1</td>\n",
              "      <td>2016-03-11 12:33:17</td>\n",
              "      <td>2016-03-11 13:09:48</td>\n",
              "      <td>0</td>\n",
              "      <td>-73.982063</td>\n",
              "      <td>40.763798</td>\n",
              "      <td>-74.188072</td>\n",
              "      <td>40.694042</td>\n",
              "      <td>N</td>\n",
              "      <td>2191</td>\n",
              "    </tr>\n",
              "    <tr>\n",
              "      <th>1262950</th>\n",
              "      <td>id1038365</td>\n",
              "      <td>1</td>\n",
              "      <td>2016-04-02 22:03:27</td>\n",
              "      <td>2016-04-02 22:03:36</td>\n",
              "      <td>0</td>\n",
              "      <td>-73.954437</td>\n",
              "      <td>40.765739</td>\n",
              "      <td>-73.954445</td>\n",
              "      <td>40.765759</td>\n",
              "      <td>N</td>\n",
              "      <td>9</td>\n",
              "    </tr>\n",
              "    <tr>\n",
              "      <th>1265736</th>\n",
              "      <td>id0483580</td>\n",
              "      <td>2</td>\n",
              "      <td>2016-01-16 20:37:35</td>\n",
              "      <td>2016-01-16 20:37:38</td>\n",
              "      <td>0</td>\n",
              "      <td>-73.968964</td>\n",
              "      <td>40.801743</td>\n",
              "      <td>-73.968903</td>\n",
              "      <td>40.801853</td>\n",
              "      <td>N</td>\n",
              "      <td>3</td>\n",
              "    </tr>\n",
              "    <tr>\n",
              "      <th>1276436</th>\n",
              "      <td>id1392994</td>\n",
              "      <td>1</td>\n",
              "      <td>2016-04-07 23:37:19</td>\n",
              "      <td>2016-04-07 23:37:21</td>\n",
              "      <td>0</td>\n",
              "      <td>-74.042969</td>\n",
              "      <td>40.719540</td>\n",
              "      <td>-74.042961</td>\n",
              "      <td>40.719536</td>\n",
              "      <td>N</td>\n",
              "      <td>2</td>\n",
              "    </tr>\n",
              "    <tr>\n",
              "      <th>1280443</th>\n",
              "      <td>id3267095</td>\n",
              "      <td>2</td>\n",
              "      <td>2016-02-13 01:33:02</td>\n",
              "      <td>2016-02-13 01:33:06</td>\n",
              "      <td>0</td>\n",
              "      <td>-73.979118</td>\n",
              "      <td>40.760181</td>\n",
              "      <td>-73.979111</td>\n",
              "      <td>40.760159</td>\n",
              "      <td>N</td>\n",
              "      <td>4</td>\n",
              "    </tr>\n",
              "    <tr>\n",
              "      <th>1293792</th>\n",
              "      <td>id1119951</td>\n",
              "      <td>2</td>\n",
              "      <td>2016-03-24 21:50:50</td>\n",
              "      <td>2016-03-24 21:50:57</td>\n",
              "      <td>0</td>\n",
              "      <td>-73.958786</td>\n",
              "      <td>40.780354</td>\n",
              "      <td>-73.958740</td>\n",
              "      <td>40.780338</td>\n",
              "      <td>N</td>\n",
              "      <td>7</td>\n",
              "    </tr>\n",
              "    <tr>\n",
              "      <th>1296239</th>\n",
              "      <td>id0948644</td>\n",
              "      <td>2</td>\n",
              "      <td>2016-02-22 00:40:25</td>\n",
              "      <td>2016-02-22 00:40:26</td>\n",
              "      <td>0</td>\n",
              "      <td>-73.987595</td>\n",
              "      <td>40.719997</td>\n",
              "      <td>-73.987595</td>\n",
              "      <td>40.720005</td>\n",
              "      <td>N</td>\n",
              "      <td>1</td>\n",
              "    </tr>\n",
              "    <tr>\n",
              "      <th>1364548</th>\n",
              "      <td>id1699275</td>\n",
              "      <td>1</td>\n",
              "      <td>2016-04-04 19:44:41</td>\n",
              "      <td>2016-04-04 19:50:16</td>\n",
              "      <td>0</td>\n",
              "      <td>-73.981979</td>\n",
              "      <td>40.752281</td>\n",
              "      <td>-73.992676</td>\n",
              "      <td>40.737278</td>\n",
              "      <td>N</td>\n",
              "      <td>335</td>\n",
              "    </tr>\n",
              "    <tr>\n",
              "      <th>1368627</th>\n",
              "      <td>id3368191</td>\n",
              "      <td>1</td>\n",
              "      <td>2016-05-08 23:38:09</td>\n",
              "      <td>2016-05-08 23:38:21</td>\n",
              "      <td>0</td>\n",
              "      <td>-73.934937</td>\n",
              "      <td>40.740841</td>\n",
              "      <td>-73.934929</td>\n",
              "      <td>40.740837</td>\n",
              "      <td>N</td>\n",
              "      <td>12</td>\n",
              "    </tr>\n",
              "    <tr>\n",
              "      <th>1371117</th>\n",
              "      <td>id3378693</td>\n",
              "      <td>1</td>\n",
              "      <td>2016-05-15 15:31:07</td>\n",
              "      <td>2016-05-15 15:31:13</td>\n",
              "      <td>0</td>\n",
              "      <td>-73.783173</td>\n",
              "      <td>40.643848</td>\n",
              "      <td>-73.783173</td>\n",
              "      <td>40.643848</td>\n",
              "      <td>N</td>\n",
              "      <td>6</td>\n",
              "    </tr>\n",
              "    <tr>\n",
              "      <th>1414111</th>\n",
              "      <td>id2684721</td>\n",
              "      <td>2</td>\n",
              "      <td>2016-04-01 14:42:10</td>\n",
              "      <td>2016-04-01 14:42:58</td>\n",
              "      <td>0</td>\n",
              "      <td>-73.981316</td>\n",
              "      <td>40.746635</td>\n",
              "      <td>-73.981651</td>\n",
              "      <td>40.746811</td>\n",
              "      <td>N</td>\n",
              "      <td>48</td>\n",
              "    </tr>\n",
              "    <tr>\n",
              "      <th>1433427</th>\n",
              "      <td>id3485118</td>\n",
              "      <td>1</td>\n",
              "      <td>2016-05-11 19:15:57</td>\n",
              "      <td>2016-05-11 19:32:18</td>\n",
              "      <td>0</td>\n",
              "      <td>-73.987572</td>\n",
              "      <td>40.754566</td>\n",
              "      <td>-73.972031</td>\n",
              "      <td>40.762836</td>\n",
              "      <td>N</td>\n",
              "      <td>981</td>\n",
              "    </tr>\n",
              "    <tr>\n",
              "      <th>1443353</th>\n",
              "      <td>id0355830</td>\n",
              "      <td>1</td>\n",
              "      <td>2016-03-05 05:33:52</td>\n",
              "      <td>2016-03-05 05:34:27</td>\n",
              "      <td>0</td>\n",
              "      <td>-73.991791</td>\n",
              "      <td>40.731197</td>\n",
              "      <td>-73.993408</td>\n",
              "      <td>40.729328</td>\n",
              "      <td>N</td>\n",
              "      <td>35</td>\n",
              "    </tr>\n",
              "    <tr>\n",
              "      <th>1444936</th>\n",
              "      <td>id1175754</td>\n",
              "      <td>2</td>\n",
              "      <td>2016-05-14 00:25:33</td>\n",
              "      <td>2016-05-14 00:25:37</td>\n",
              "      <td>0</td>\n",
              "      <td>-73.904610</td>\n",
              "      <td>40.753483</td>\n",
              "      <td>-73.904602</td>\n",
              "      <td>40.753456</td>\n",
              "      <td>N</td>\n",
              "      <td>4</td>\n",
              "    </tr>\n",
              "  </tbody>\n",
              "</table>\n",
              "</div>"
            ],
            "text/plain": [
              "                id  vendor_id  ... store_and_fwd_flag trip_duration\n",
              "62744    id3917283          2  ...                  N         85901\n",
              "136519   id3645383          2  ...                  N             4\n",
              "194288   id2840829          2  ...                  N           155\n",
              "217765   id3762593          1  ...                  N          2251\n",
              "263809   id2154895          1  ...                  N             8\n",
              "278290   id0796773          1  ...                  N             9\n",
              "301600   id2091096          2  ...                  N          2072\n",
              "303133   id0414625          2  ...                  N            15\n",
              "337809   id0271506          2  ...                  N            41\n",
              "375972   id3176865          2  ...                  N            15\n",
              "383407   id3493269          2  ...                  N             7\n",
              "412172   id2247129          2  ...                  N          1556\n",
              "415843   id1794493          2  ...                  N            22\n",
              "437735   id2891366          1  ...                  N           105\n",
              "447838   id1253169          1  ...                  N            13\n",
              "521316   id2571672          1  ...                  Y             5\n",
              "553862   id1822284          1  ...                  N             4\n",
              "582469   id0663459          2  ...                  N            49\n",
              "621221   id1039576          1  ...                  N             6\n",
              "649337   id3347660          2  ...                  N            19\n",
              "676906   id0878599          1  ...                  N          3243\n",
              "718163   id1610720          2  ...                  N             8\n",
              "722399   id1593144          1  ...                  N           385\n",
              "727514   id1857858          2  ...                  N             2\n",
              "776276   id3066152          1  ...                  N            45\n",
              "777319   id3364866          1  ...                  N          1029\n",
              "796361   id3494250          1  ...                  N          1121\n",
              "827485   id2029944          1  ...                  N             3\n",
              "875056   id3533680          1  ...                  N             3\n",
              "904688   id3563937          1  ...                  N           310\n",
              "911071   id0959777          2  ...                  N             4\n",
              "914211   id1656232          1  ...                  N            22\n",
              "919750   id1880173          1  ...                  N           601\n",
              "921640   id1325601          2  ...                  N            14\n",
              "934078   id3251852          1  ...                  N            27\n",
              "954696   id2613392          2  ...                  N             7\n",
              "986189   id1376024          1  ...                  N            29\n",
              "1025067  id2063256          1  ...                  N            88\n",
              "1032513  id1992999          2  ...                  N             3\n",
              "1049209  id1846091          2  ...                  N            78\n",
              "1092678  id2957383          1  ...                  Y            68\n",
              "1101359  id2535067          1  ...                  Y             9\n",
              "1122417  id0593652          2  ...                  N            30\n",
              "1131166  id1688347          2  ...                  N            25\n",
              "1144278  id1220914          2  ...                  N            48\n",
              "1211269  id0662963          2  ...                  N             9\n",
              "1257574  id1205792          1  ...                  N          2191\n",
              "1262950  id1038365          1  ...                  N             9\n",
              "1265736  id0483580          2  ...                  N             3\n",
              "1276436  id1392994          1  ...                  N             2\n",
              "1280443  id3267095          2  ...                  N             4\n",
              "1293792  id1119951          2  ...                  N             7\n",
              "1296239  id0948644          2  ...                  N             1\n",
              "1364548  id1699275          1  ...                  N           335\n",
              "1368627  id3368191          1  ...                  N            12\n",
              "1371117  id3378693          1  ...                  N             6\n",
              "1414111  id2684721          2  ...                  N            48\n",
              "1433427  id3485118          1  ...                  N           981\n",
              "1443353  id0355830          1  ...                  N            35\n",
              "1444936  id1175754          2  ...                  N             4\n",
              "\n",
              "[60 rows x 11 columns]"
            ]
          },
          "metadata": {
            "tags": []
          },
          "execution_count": 9
        }
      ]
    },
    {
      "cell_type": "markdown",
      "metadata": {
        "id": "CSbyztwdc68f"
      },
      "source": [
        "As we know we donot require the data of taxi that has zero passengers so let's drop them."
      ]
    },
    {
      "cell_type": "code",
      "metadata": {
        "id": "ziBhVUavY_z2"
      },
      "source": [
        "df=df[df['passenger_count']!=0]"
      ],
      "execution_count": null,
      "outputs": []
    },
    {
      "cell_type": "code",
      "metadata": {
        "colab": {
          "base_uri": "https://localhost:8080/"
        },
        "id": "htvOPMEPQstV",
        "outputId": "6f6dcefa-e303-4ecb-f2af-e382fe1c3be2"
      },
      "source": [
        "df['vendor_id'].value_counts()"
      ],
      "execution_count": null,
      "outputs": [
        {
          "output_type": "execute_result",
          "data": {
            "text/plain": [
              "2    780273\n",
              "1    678311\n",
              "Name: vendor_id, dtype: int64"
            ]
          },
          "metadata": {
            "tags": []
          },
          "execution_count": 11
        }
      ]
    },
    {
      "cell_type": "markdown",
      "metadata": {
        "id": "86278okWgKuv"
      },
      "source": [
        "Checking data type of datetime column."
      ]
    },
    {
      "cell_type": "code",
      "metadata": {
        "colab": {
          "base_uri": "https://localhost:8080/",
          "height": 35
        },
        "id": "GC8Ewxq5Pg0D",
        "outputId": "e5a0f7aa-e392-429e-d6c3-b0b3d6077df0"
      },
      "source": [
        "df[\"pickup_datetime\"][0]"
      ],
      "execution_count": null,
      "outputs": [
        {
          "output_type": "execute_result",
          "data": {
            "application/vnd.google.colaboratory.intrinsic+json": {
              "type": "string"
            },
            "text/plain": [
              "'2016-03-14 17:24:55'"
            ]
          },
          "metadata": {
            "tags": []
          },
          "execution_count": 12
        }
      ]
    },
    {
      "cell_type": "markdown",
      "metadata": {
        "id": "SD48_ZDNhThk"
      },
      "source": [
        "Converting it from string to date time"
      ]
    },
    {
      "cell_type": "code",
      "metadata": {
        "id": "IeNqovxVE6ph",
        "colab": {
          "base_uri": "https://localhost:8080/",
          "height": 309
        },
        "outputId": "2323a0c3-dd27-4a17-dfcb-117b63f496ae"
      },
      "source": [
        "df['pickup_datetime']=pd.to_datetime(df['pickup_datetime'])\r\n",
        "df['dropoff_datetime']=pd.to_datetime(df['dropoff_datetime'])\r\n",
        "df.head()"
      ],
      "execution_count": null,
      "outputs": [
        {
          "output_type": "execute_result",
          "data": {
            "text/html": [
              "<div>\n",
              "<style scoped>\n",
              "    .dataframe tbody tr th:only-of-type {\n",
              "        vertical-align: middle;\n",
              "    }\n",
              "\n",
              "    .dataframe tbody tr th {\n",
              "        vertical-align: top;\n",
              "    }\n",
              "\n",
              "    .dataframe thead th {\n",
              "        text-align: right;\n",
              "    }\n",
              "</style>\n",
              "<table border=\"1\" class=\"dataframe\">\n",
              "  <thead>\n",
              "    <tr style=\"text-align: right;\">\n",
              "      <th></th>\n",
              "      <th>id</th>\n",
              "      <th>vendor_id</th>\n",
              "      <th>pickup_datetime</th>\n",
              "      <th>dropoff_datetime</th>\n",
              "      <th>passenger_count</th>\n",
              "      <th>pickup_longitude</th>\n",
              "      <th>pickup_latitude</th>\n",
              "      <th>dropoff_longitude</th>\n",
              "      <th>dropoff_latitude</th>\n",
              "      <th>store_and_fwd_flag</th>\n",
              "      <th>trip_duration</th>\n",
              "    </tr>\n",
              "  </thead>\n",
              "  <tbody>\n",
              "    <tr>\n",
              "      <th>0</th>\n",
              "      <td>id2875421</td>\n",
              "      <td>2</td>\n",
              "      <td>2016-03-14 17:24:55</td>\n",
              "      <td>2016-03-14 17:32:30</td>\n",
              "      <td>1</td>\n",
              "      <td>-73.982155</td>\n",
              "      <td>40.767937</td>\n",
              "      <td>-73.964630</td>\n",
              "      <td>40.765602</td>\n",
              "      <td>N</td>\n",
              "      <td>455</td>\n",
              "    </tr>\n",
              "    <tr>\n",
              "      <th>1</th>\n",
              "      <td>id2377394</td>\n",
              "      <td>1</td>\n",
              "      <td>2016-06-12 00:43:35</td>\n",
              "      <td>2016-06-12 00:54:38</td>\n",
              "      <td>1</td>\n",
              "      <td>-73.980415</td>\n",
              "      <td>40.738564</td>\n",
              "      <td>-73.999481</td>\n",
              "      <td>40.731152</td>\n",
              "      <td>N</td>\n",
              "      <td>663</td>\n",
              "    </tr>\n",
              "    <tr>\n",
              "      <th>2</th>\n",
              "      <td>id3858529</td>\n",
              "      <td>2</td>\n",
              "      <td>2016-01-19 11:35:24</td>\n",
              "      <td>2016-01-19 12:10:48</td>\n",
              "      <td>1</td>\n",
              "      <td>-73.979027</td>\n",
              "      <td>40.763939</td>\n",
              "      <td>-74.005333</td>\n",
              "      <td>40.710087</td>\n",
              "      <td>N</td>\n",
              "      <td>2124</td>\n",
              "    </tr>\n",
              "    <tr>\n",
              "      <th>3</th>\n",
              "      <td>id3504673</td>\n",
              "      <td>2</td>\n",
              "      <td>2016-04-06 19:32:31</td>\n",
              "      <td>2016-04-06 19:39:40</td>\n",
              "      <td>1</td>\n",
              "      <td>-74.010040</td>\n",
              "      <td>40.719971</td>\n",
              "      <td>-74.012268</td>\n",
              "      <td>40.706718</td>\n",
              "      <td>N</td>\n",
              "      <td>429</td>\n",
              "    </tr>\n",
              "    <tr>\n",
              "      <th>4</th>\n",
              "      <td>id2181028</td>\n",
              "      <td>2</td>\n",
              "      <td>2016-03-26 13:30:55</td>\n",
              "      <td>2016-03-26 13:38:10</td>\n",
              "      <td>1</td>\n",
              "      <td>-73.973053</td>\n",
              "      <td>40.793209</td>\n",
              "      <td>-73.972923</td>\n",
              "      <td>40.782520</td>\n",
              "      <td>N</td>\n",
              "      <td>435</td>\n",
              "    </tr>\n",
              "  </tbody>\n",
              "</table>\n",
              "</div>"
            ],
            "text/plain": [
              "          id  vendor_id  ... store_and_fwd_flag trip_duration\n",
              "0  id2875421          2  ...                  N           455\n",
              "1  id2377394          1  ...                  N           663\n",
              "2  id3858529          2  ...                  N          2124\n",
              "3  id3504673          2  ...                  N           429\n",
              "4  id2181028          2  ...                  N           435\n",
              "\n",
              "[5 rows x 11 columns]"
            ]
          },
          "metadata": {
            "tags": []
          },
          "execution_count": 13
        }
      ]
    },
    {
      "cell_type": "code",
      "metadata": {
        "colab": {
          "base_uri": "https://localhost:8080/"
        },
        "id": "WiV8ePCgE6Si",
        "outputId": "9537be55-ff2c-4a73-9ba6-3d1d4f6ac858"
      },
      "source": [
        "df['pickup_datetime']"
      ],
      "execution_count": null,
      "outputs": [
        {
          "output_type": "execute_result",
          "data": {
            "text/plain": [
              "0         2016-03-14 17:24:55\n",
              "1         2016-06-12 00:43:35\n",
              "2         2016-01-19 11:35:24\n",
              "3         2016-04-06 19:32:31\n",
              "4         2016-03-26 13:30:55\n",
              "                  ...        \n",
              "1338026   2016-04-08 13:31:04\n",
              "1338027   2016-01-10 07:35:15\n",
              "1338028   2016-04-22 06:57:41\n",
              "1338029   2016-01-05 15:56:26\n",
              "1338030   2016-04-05 14:44:25\n",
              "Name: pickup_datetime, Length: 1338031, dtype: datetime64[ns]"
            ]
          },
          "metadata": {
            "tags": []
          },
          "execution_count": 42
        }
      ]
    },
    {
      "cell_type": "code",
      "metadata": {
        "colab": {
          "base_uri": "https://localhost:8080/"
        },
        "id": "Ckt0oGE9E6KG",
        "outputId": "0f35930c-5cae-49e5-8cbb-ab769239ad01"
      },
      "source": [
        "df['dropoff_datetime']"
      ],
      "execution_count": null,
      "outputs": [
        {
          "output_type": "execute_result",
          "data": {
            "text/plain": [
              "0         2016-03-14 17:32:30\n",
              "1         2016-06-12 00:54:38\n",
              "2         2016-01-19 12:10:48\n",
              "3         2016-04-06 19:39:40\n",
              "4         2016-03-26 13:38:10\n",
              "                  ...        \n",
              "1338026   2016-04-08 13:44:02\n",
              "1338027   2016-01-10 07:46:10\n",
              "1338028   2016-04-22 07:10:25\n",
              "1338029   2016-01-05 16:02:39\n",
              "1338030   2016-04-05 14:47:43\n",
              "Name: dropoff_datetime, Length: 1338031, dtype: datetime64[ns]"
            ]
          },
          "metadata": {
            "tags": []
          },
          "execution_count": 41
        }
      ]
    },
    {
      "cell_type": "markdown",
      "metadata": {
        "id": "ubn5HJHAK-QA"
      },
      "source": [
        "Let's plot the boxplot graph and do some outlier detection"
      ]
    },
    {
      "cell_type": "code",
      "metadata": {
        "colab": {
          "base_uri": "https://localhost:8080/",
          "height": 1000
        },
        "id": "IrJWyzZH9mu-",
        "outputId": "a2694e65-e74a-4501-edc4-bb7da4bc32d4"
      },
      "source": [
        "# plot a boxplot for the label by each categorical feature  \r\n",
        "for col in df.describe().columns:\r\n",
        "  fig = plt.figure(figsize=(9, 6))\r\n",
        "  ax = fig.gca()\r\n",
        "  df.boxplot(column = col, ax = ax)\r\n",
        "  ax.set_ylabel(col)\r\n",
        "plt.show()"
      ],
      "execution_count": null,
      "outputs": [
        {
          "output_type": "display_data",
          "data": {
            "image/png": "[encoded data removed]",
            "text/plain": [
              "<Figure size 648x432 with 1 Axes>"
            ]
          },
          "metadata": {
            "tags": [],
            "needs_background": "light"
          }
        },
        {
          "output_type": "display_data",
          "data": {
            "image/png": "[encoded data removed]",
            "text/plain": [
              "<Figure size 648x432 with 1 Axes>"
            ]
          },
          "metadata": {
            "tags": [],
            "needs_background": "light"
          }
        },
        {
          "output_type": "display_data",
          "data": {
            "image/png": "[encoded data removed]",
            "text/plain": [
              "<Figure size 648x432 with 1 Axes>"
            ]
          },
          "metadata": {
            "tags": [],
            "needs_background": "light"
          }
        },
        {
          "output_type": "display_data",
          "data": {
            "image/png": "[encoded data removed]",
            "text/plain": [
              "<Figure size 648x432 with 1 Axes>"
            ]
          },
          "metadata": {
            "tags": [],
            "needs_background": "light"
          }
        },
        {
          "output_type": "display_data",
          "data": {
            "image/png": "[encoded data removed]",
            "text/plain": [
              "<Figure size 648x432 with 1 Axes>"
            ]
          },
          "metadata": {
            "tags": [],
            "needs_background": "light"
          }
        },
        {
          "output_type": "display_data",
          "data": {
            "image/png": "[encoded data removed]",
            "text/plain": [
              "<Figure size 648x432 with 1 Axes>"
            ]
          },
          "metadata": {
            "tags": [],
            "needs_background": "light"
          }
        },
        {
          "output_type": "display_data",
          "data": {
            "image/png": "[encoded data removed]",
            "text/plain": [
              "<Figure size 648x432 with 1 Axes>"
            ]
          },
          "metadata": {
            "tags": [],
            "needs_background": "light"
          }
        }
      ]
    },
    {
      "cell_type": "markdown",
      "metadata": {
        "id": "_wUrUBN2iIqe"
      },
      "source": [
        "Here we can see alot of outliers now let's just drop the outliers and then see the shape of our data"
      ]
    },
    {
      "cell_type": "code",
      "metadata": {
        "id": "lMCHC7IHppD9"
      },
      "source": [
        "#In this case, we consider outliers as rows that have at least two outlied numerical values.\r\n",
        "#The optimal value for this parameter can be later determined through the cross-validation \r\n",
        "from collections import Counter\r\n",
        "n = 1\r\n",
        "indexes = [] \r\n",
        " \r\n",
        "for col in df.describe().columns: \r\n",
        "    Q1 = np.percentile(df[col], 25) \r\n",
        "    Q3 = np.percentile(df[col],75) \r\n",
        "    IQR = Q3 - Q1 \r\n",
        " \r\n",
        "    limit = 1.5 * IQR \r\n",
        " \r\n",
        "    list_outliers = df[(df[col] < Q1 - limit) | (df[col] > Q3 + limit )].index # Determine a list of indices of outliers for feature col \r\n",
        " \r\n",
        "    indexes.extend(list_outliers) # append the found outlier indices for col to the list of outlier indices \r\n",
        " \r\n",
        "indexes = Counter(indexes) \r\n",
        "multiple_outliers = list( k for k, v in indexes.items() if v > n )"
      ],
      "execution_count": null,
      "outputs": []
    },
    {
      "cell_type": "code",
      "metadata": {
        "id": "oyL91zLtpu4T"
      },
      "source": [
        "df.drop(multiple_outliers, axis = 0) \r\n",
        "df = df.drop(multiple_outliers, axis = 0).reset_index(drop=True)"
      ],
      "execution_count": null,
      "outputs": []
    },
    {
      "cell_type": "markdown",
      "metadata": {
        "id": "Sd_eAZEJ4Jeg"
      },
      "source": [
        "Plotting box plot for outlier check"
      ]
    },
    {
      "cell_type": "code",
      "metadata": {
        "colab": {
          "base_uri": "https://localhost:8080/",
          "height": 1000
        },
        "id": "KIkvRsMkp5DS",
        "outputId": "cd5a9230-c554-4b66-d055-d5273c9ff7ed"
      },
      "source": [
        "# plot a boxplot for the label by each categorical feature  \r\n",
        "for col in df.describe().columns:\r\n",
        "  fig = plt.figure(figsize=(9, 6))\r\n",
        "  ax = fig.gca()\r\n",
        "  df.boxplot(column = col, ax = ax)\r\n",
        "  ax.set_ylabel(col)\r\n",
        "plt.show()"
      ],
      "execution_count": null,
      "outputs": [
        {
          "output_type": "display_data",
          "data": {
            "image/png": "[encoded data removed]",
            "text/plain": [
              "<Figure size 648x432 with 1 Axes>"
            ]
          },
          "metadata": {
            "tags": [],
            "needs_background": "light"
          }
        },
        {
          "output_type": "display_data",
          "data": {
            "image/png": "[encoded data removed]",
            "text/plain": [
              "<Figure size 648x432 with 1 Axes>"
            ]
          },
          "metadata": {
            "tags": [],
            "needs_background": "light"
          }
        },
        {
          "output_type": "display_data",
          "data": {
            "image/png": "[encoded data removed]",
            "text/plain": [
              "<Figure size 648x432 with 1 Axes>"
            ]
          },
          "metadata": {
            "tags": [],
            "needs_background": "light"
          }
        },
        {
          "output_type": "display_data",
          "data": {
            "image/png": "[encoded data removed]",
            "text/plain": [
              "<Figure size 648x432 with 1 Axes>"
            ]
          },
          "metadata": {
            "tags": [],
            "needs_background": "light"
          }
        },
        {
          "output_type": "display_data",
          "data": {
            "image/png": "[encoded data removed]",
            "text/plain": [
              "<Figure size 648x432 with 1 Axes>"
            ]
          },
          "metadata": {
            "tags": [],
            "needs_background": "light"
          }
        },
        {
          "output_type": "display_data",
          "data": {
            "image/png": "[encoded data removed]",
            "text/plain": [
              "<Figure size 648x432 with 1 Axes>"
            ]
          },
          "metadata": {
            "tags": [],
            "needs_background": "light"
          }
        },
        {
          "output_type": "display_data",
          "data": {
            "image/png": "[encoded data removed]",
            "text/plain": [
              "<Figure size 648x432 with 1 Axes>"
            ]
          },
          "metadata": {
            "tags": [],
            "needs_background": "light"
          }
        }
      ]
    },
    {
      "cell_type": "code",
      "metadata": {
        "colab": {
          "base_uri": "https://localhost:8080/",
          "height": 309
        },
        "id": "8kQ2jAThi2C1",
        "outputId": "63292dc1-b127-4d2e-c1c2-55cb86f8c99e"
      },
      "source": [
        "df.head()"
      ],
      "execution_count": null,
      "outputs": [
        {
          "output_type": "execute_result",
          "data": {
            "text/html": [
              "<div>\n",
              "<style scoped>\n",
              "    .dataframe tbody tr th:only-of-type {\n",
              "        vertical-align: middle;\n",
              "    }\n",
              "\n",
              "    .dataframe tbody tr th {\n",
              "        vertical-align: top;\n",
              "    }\n",
              "\n",
              "    .dataframe thead th {\n",
              "        text-align: right;\n",
              "    }\n",
              "</style>\n",
              "<table border=\"1\" class=\"dataframe\">\n",
              "  <thead>\n",
              "    <tr style=\"text-align: right;\">\n",
              "      <th></th>\n",
              "      <th>id</th>\n",
              "      <th>vendor_id</th>\n",
              "      <th>pickup_datetime</th>\n",
              "      <th>dropoff_datetime</th>\n",
              "      <th>passenger_count</th>\n",
              "      <th>pickup_longitude</th>\n",
              "      <th>pickup_latitude</th>\n",
              "      <th>dropoff_longitude</th>\n",
              "      <th>dropoff_latitude</th>\n",
              "      <th>store_and_fwd_flag</th>\n",
              "      <th>trip_duration</th>\n",
              "    </tr>\n",
              "  </thead>\n",
              "  <tbody>\n",
              "    <tr>\n",
              "      <th>0</th>\n",
              "      <td>id2875421</td>\n",
              "      <td>2</td>\n",
              "      <td>2016-03-14 17:24:55</td>\n",
              "      <td>2016-03-14 17:32:30</td>\n",
              "      <td>1</td>\n",
              "      <td>-73.982155</td>\n",
              "      <td>40.767937</td>\n",
              "      <td>-73.964630</td>\n",
              "      <td>40.765602</td>\n",
              "      <td>N</td>\n",
              "      <td>455</td>\n",
              "    </tr>\n",
              "    <tr>\n",
              "      <th>1</th>\n",
              "      <td>id2377394</td>\n",
              "      <td>1</td>\n",
              "      <td>2016-06-12 00:43:35</td>\n",
              "      <td>2016-06-12 00:54:38</td>\n",
              "      <td>1</td>\n",
              "      <td>-73.980415</td>\n",
              "      <td>40.738564</td>\n",
              "      <td>-73.999481</td>\n",
              "      <td>40.731152</td>\n",
              "      <td>N</td>\n",
              "      <td>663</td>\n",
              "    </tr>\n",
              "    <tr>\n",
              "      <th>2</th>\n",
              "      <td>id3858529</td>\n",
              "      <td>2</td>\n",
              "      <td>2016-01-19 11:35:24</td>\n",
              "      <td>2016-01-19 12:10:48</td>\n",
              "      <td>1</td>\n",
              "      <td>-73.979027</td>\n",
              "      <td>40.763939</td>\n",
              "      <td>-74.005333</td>\n",
              "      <td>40.710087</td>\n",
              "      <td>N</td>\n",
              "      <td>2124</td>\n",
              "    </tr>\n",
              "    <tr>\n",
              "      <th>3</th>\n",
              "      <td>id3504673</td>\n",
              "      <td>2</td>\n",
              "      <td>2016-04-06 19:32:31</td>\n",
              "      <td>2016-04-06 19:39:40</td>\n",
              "      <td>1</td>\n",
              "      <td>-74.010040</td>\n",
              "      <td>40.719971</td>\n",
              "      <td>-74.012268</td>\n",
              "      <td>40.706718</td>\n",
              "      <td>N</td>\n",
              "      <td>429</td>\n",
              "    </tr>\n",
              "    <tr>\n",
              "      <th>4</th>\n",
              "      <td>id2181028</td>\n",
              "      <td>2</td>\n",
              "      <td>2016-03-26 13:30:55</td>\n",
              "      <td>2016-03-26 13:38:10</td>\n",
              "      <td>1</td>\n",
              "      <td>-73.973053</td>\n",
              "      <td>40.793209</td>\n",
              "      <td>-73.972923</td>\n",
              "      <td>40.782520</td>\n",
              "      <td>N</td>\n",
              "      <td>435</td>\n",
              "    </tr>\n",
              "  </tbody>\n",
              "</table>\n",
              "</div>"
            ],
            "text/plain": [
              "          id  vendor_id  ... store_and_fwd_flag trip_duration\n",
              "0  id2875421          2  ...                  N           455\n",
              "1  id2377394          1  ...                  N           663\n",
              "2  id3858529          2  ...                  N          2124\n",
              "3  id3504673          2  ...                  N           429\n",
              "4  id2181028          2  ...                  N           435\n",
              "\n",
              "[5 rows x 11 columns]"
            ]
          },
          "metadata": {
            "tags": []
          },
          "execution_count": 32
        }
      ]
    },
    {
      "cell_type": "code",
      "metadata": {
        "colab": {
          "base_uri": "https://localhost:8080/"
        },
        "id": "nZ6swcRU33Ho",
        "outputId": "2cba380a-7157-4744-b905-28cb8d2e1b54"
      },
      "source": [
        "df.shape"
      ],
      "execution_count": null,
      "outputs": [
        {
          "output_type": "execute_result",
          "data": {
            "text/plain": [
              "(1338031, 11)"
            ]
          },
          "metadata": {
            "tags": []
          },
          "execution_count": 30
        }
      ]
    },
    {
      "cell_type": "markdown",
      "metadata": {
        "id": "5OeD-sINJmpV"
      },
      "source": [
        "*Okay, so the data looks fine for now let's explore it more and make some conclusions.*"
      ]
    },
    {
      "cell_type": "code",
      "metadata": {
        "colab": {
          "base_uri": "https://localhost:8080/",
          "height": 634
        },
        "id": "mA3kHnmaIlTb",
        "outputId": "62463d3f-74a1-4453-d8e0-33fcc5a25277"
      },
      "source": [
        "# Dependent variable 'Response'\r\n",
        "plt.figure(figsize=(15,10))\r\n",
        "sns.distplot(df['trip_duration'],color=\"y\")"
      ],
      "execution_count": null,
      "outputs": [
        {
          "output_type": "execute_result",
          "data": {
            "text/plain": [
              "<matplotlib.axes._subplots.AxesSubplot at 0x7f73cf516d30>"
            ]
          },
          "metadata": {
            "tags": []
          },
          "execution_count": 33
        },
        {
          "output_type": "display_data",
          "data": {
            "image/png": "[encoded data removed]",
            "text/plain": [
              "<Figure size 1080x720 with 1 Axes>"
            ]
          },
          "metadata": {
            "tags": [],
            "needs_background": "light"
          }
        }
      ]
    },
    {
      "cell_type": "markdown",
      "metadata": {
        "id": "ZEE3IN_bRcmC"
      },
      "source": [
        "As we can see skewness in our data we can let's try to do log transform to normalize our data"
      ]
    },
    {
      "cell_type": "code",
      "metadata": {
        "colab": {
          "base_uri": "https://localhost:8080/",
          "height": 623
        },
        "id": "0Hc8yCI2RcIf",
        "outputId": "2f38bc67-a0aa-407c-c0a3-f67c4185fe98"
      },
      "source": [
        "plt.figure(figsize=(15,10))\r\n",
        "sns.distplot(np.log10(df['trip_duration']),color=\"R\")"
      ],
      "execution_count": null,
      "outputs": [
        {
          "output_type": "execute_result",
          "data": {
            "text/plain": [
              "<matplotlib.axes._subplots.AxesSubplot at 0x7f73d08ebf60>"
            ]
          },
          "metadata": {
            "tags": []
          },
          "execution_count": 35
        },
        {
          "output_type": "display_data",
          "data": {
            "image/png": "[encoded data removed]",
            "text/plain": [
              "<Figure size 1080x720 with 1 Axes>"
            ]
          },
          "metadata": {
            "tags": [],
            "needs_background": "light"
          }
        }
      ]
    },
    {
      "cell_type": "code",
      "metadata": {
        "colab": {
          "base_uri": "https://localhost:8080/",
          "height": 266
        },
        "id": "BmJhMkJbgtyr",
        "outputId": "5d5a68ee-341b-4fb2-f616-529417e002d8"
      },
      "source": [
        "df.corr()"
      ],
      "execution_count": null,
      "outputs": [
        {
          "output_type": "execute_result",
          "data": {
            "text/html": [
              "<div>\n",
              "<style scoped>\n",
              "    .dataframe tbody tr th:only-of-type {\n",
              "        vertical-align: middle;\n",
              "    }\n",
              "\n",
              "    .dataframe tbody tr th {\n",
              "        vertical-align: top;\n",
              "    }\n",
              "\n",
              "    .dataframe thead th {\n",
              "        text-align: right;\n",
              "    }\n",
              "</style>\n",
              "<table border=\"1\" class=\"dataframe\">\n",
              "  <thead>\n",
              "    <tr style=\"text-align: right;\">\n",
              "      <th></th>\n",
              "      <th>vendor_id</th>\n",
              "      <th>passenger_count</th>\n",
              "      <th>pickup_longitude</th>\n",
              "      <th>pickup_latitude</th>\n",
              "      <th>dropoff_longitude</th>\n",
              "      <th>dropoff_latitude</th>\n",
              "      <th>trip_duration</th>\n",
              "    </tr>\n",
              "  </thead>\n",
              "  <tbody>\n",
              "    <tr>\n",
              "      <th>vendor_id</th>\n",
              "      <td>1.000000</td>\n",
              "      <td>0.280877</td>\n",
              "      <td>0.003937</td>\n",
              "      <td>0.010307</td>\n",
              "      <td>-0.004226</td>\n",
              "      <td>0.008379</td>\n",
              "      <td>0.022201</td>\n",
              "    </tr>\n",
              "    <tr>\n",
              "      <th>passenger_count</th>\n",
              "      <td>0.280877</td>\n",
              "      <td>1.000000</td>\n",
              "      <td>-0.028531</td>\n",
              "      <td>-0.002955</td>\n",
              "      <td>-0.032522</td>\n",
              "      <td>0.002470</td>\n",
              "      <td>-0.009885</td>\n",
              "    </tr>\n",
              "    <tr>\n",
              "      <th>pickup_longitude</th>\n",
              "      <td>0.003937</td>\n",
              "      <td>-0.028531</td>\n",
              "      <td>1.000000</td>\n",
              "      <td>0.593674</td>\n",
              "      <td>0.295058</td>\n",
              "      <td>0.278415</td>\n",
              "      <td>0.000415</td>\n",
              "    </tr>\n",
              "    <tr>\n",
              "      <th>pickup_latitude</th>\n",
              "      <td>0.010307</td>\n",
              "      <td>-0.002955</td>\n",
              "      <td>0.593674</td>\n",
              "      <td>1.000000</td>\n",
              "      <td>0.260149</td>\n",
              "      <td>0.513638</td>\n",
              "      <td>-0.012838</td>\n",
              "    </tr>\n",
              "    <tr>\n",
              "      <th>dropoff_longitude</th>\n",
              "      <td>-0.004226</td>\n",
              "      <td>-0.032522</td>\n",
              "      <td>0.295058</td>\n",
              "      <td>0.260149</td>\n",
              "      <td>1.000000</td>\n",
              "      <td>0.483399</td>\n",
              "      <td>0.009073</td>\n",
              "    </tr>\n",
              "    <tr>\n",
              "      <th>dropoff_latitude</th>\n",
              "      <td>0.008379</td>\n",
              "      <td>0.002470</td>\n",
              "      <td>0.278415</td>\n",
              "      <td>0.513638</td>\n",
              "      <td>0.483399</td>\n",
              "      <td>1.000000</td>\n",
              "      <td>-0.016744</td>\n",
              "    </tr>\n",
              "    <tr>\n",
              "      <th>trip_duration</th>\n",
              "      <td>0.022201</td>\n",
              "      <td>-0.009885</td>\n",
              "      <td>0.000415</td>\n",
              "      <td>-0.012838</td>\n",
              "      <td>0.009073</td>\n",
              "      <td>-0.016744</td>\n",
              "      <td>1.000000</td>\n",
              "    </tr>\n",
              "  </tbody>\n",
              "</table>\n",
              "</div>"
            ],
            "text/plain": [
              "                   vendor_id  passenger_count  ...  dropoff_latitude  trip_duration\n",
              "vendor_id           1.000000         0.280877  ...          0.008379       0.022201\n",
              "passenger_count     0.280877         1.000000  ...          0.002470      -0.009885\n",
              "pickup_longitude    0.003937        -0.028531  ...          0.278415       0.000415\n",
              "pickup_latitude     0.010307        -0.002955  ...          0.513638      -0.012838\n",
              "dropoff_longitude  -0.004226        -0.032522  ...          0.483399       0.009073\n",
              "dropoff_latitude    0.008379         0.002470  ...          1.000000      -0.016744\n",
              "trip_duration       0.022201        -0.009885  ...         -0.016744       1.000000\n",
              "\n",
              "[7 rows x 7 columns]"
            ]
          },
          "metadata": {
            "tags": []
          },
          "execution_count": 37
        }
      ]
    },
    {
      "cell_type": "code",
      "metadata": {
        "colab": {
          "base_uri": "https://localhost:8080/",
          "height": 364
        },
        "id": "8nc_hlxXMF3A",
        "outputId": "9f038bcb-e08b-4999-fd69-88466a2ae0aa"
      },
      "source": [
        "sns.heatmap(df.corr())"
      ],
      "execution_count": null,
      "outputs": [
        {
          "output_type": "execute_result",
          "data": {
            "text/plain": [
              "<matplotlib.axes._subplots.AxesSubplot at 0x7f73cf53fc18>"
            ]
          },
          "metadata": {
            "tags": []
          },
          "execution_count": 38
        },
        {
          "output_type": "display_data",
          "data": {
            "image/png": "[encoded data removed]",
            "text/plain": [
              "<Figure size 432x288 with 2 Axes>"
            ]
          },
          "metadata": {
            "tags": [],
            "needs_background": "light"
          }
        }
      ]
    },
    {
      "cell_type": "code",
      "metadata": {
        "colab": {
          "base_uri": "https://localhost:8080/",
          "height": 266
        },
        "id": "r2vU9xs3NKma",
        "outputId": "c7a45876-e264-4755-f565-7e025449a74d"
      },
      "source": [
        "# Multicollinearity\r\n",
        "from statsmodels.stats.outliers_influence import variance_inflation_factor\r\n",
        "def calc_vif(X):\r\n",
        " \r\n",
        "   # Calculating VIF\r\n",
        "   vif = pd.DataFrame()\r\n",
        "   vif[\"variables\"] = X.columns\r\n",
        "   vif[\"VIF\"] = [variance_inflation_factor(X.values, i) for i in range(X.shape[1])]\r\n",
        " \r\n",
        "   return(vif)\r\n",
        "\r\n",
        "calc_vif(df[[i for i in df.describe().columns]])"
      ],
      "execution_count": null,
      "outputs": [
        {
          "output_type": "execute_result",
          "data": {
            "text/html": [
              "<div>\n",
              "<style scoped>\n",
              "    .dataframe tbody tr th:only-of-type {\n",
              "        vertical-align: middle;\n",
              "    }\n",
              "\n",
              "    .dataframe tbody tr th {\n",
              "        vertical-align: top;\n",
              "    }\n",
              "\n",
              "    .dataframe thead th {\n",
              "        text-align: right;\n",
              "    }\n",
              "</style>\n",
              "<table border=\"1\" class=\"dataframe\">\n",
              "  <thead>\n",
              "    <tr style=\"text-align: right;\">\n",
              "      <th></th>\n",
              "      <th>variables</th>\n",
              "      <th>VIF</th>\n",
              "    </tr>\n",
              "  </thead>\n",
              "  <tbody>\n",
              "    <tr>\n",
              "      <th>0</th>\n",
              "      <td>vendor_id</td>\n",
              "      <td>1.129889e+01</td>\n",
              "    </tr>\n",
              "    <tr>\n",
              "      <th>1</th>\n",
              "      <td>passenger_count</td>\n",
              "      <td>2.863049e+00</td>\n",
              "    </tr>\n",
              "    <tr>\n",
              "      <th>2</th>\n",
              "      <td>pickup_longitude</td>\n",
              "      <td>1.059116e+07</td>\n",
              "    </tr>\n",
              "    <tr>\n",
              "      <th>3</th>\n",
              "      <td>pickup_latitude</td>\n",
              "      <td>4.669280e+06</td>\n",
              "    </tr>\n",
              "    <tr>\n",
              "      <th>4</th>\n",
              "      <td>dropoff_longitude</td>\n",
              "      <td>1.095591e+07</td>\n",
              "    </tr>\n",
              "    <tr>\n",
              "      <th>5</th>\n",
              "      <td>dropoff_latitude</td>\n",
              "      <td>3.713038e+06</td>\n",
              "    </tr>\n",
              "    <tr>\n",
              "      <th>6</th>\n",
              "      <td>trip_duration</td>\n",
              "      <td>1.061767e+00</td>\n",
              "    </tr>\n",
              "  </tbody>\n",
              "</table>\n",
              "</div>"
            ],
            "text/plain": [
              "           variables           VIF\n",
              "0          vendor_id  1.129889e+01\n",
              "1    passenger_count  2.863049e+00\n",
              "2   pickup_longitude  1.059116e+07\n",
              "3    pickup_latitude  4.669280e+06\n",
              "4  dropoff_longitude  1.095591e+07\n",
              "5   dropoff_latitude  3.713038e+06\n",
              "6      trip_duration  1.061767e+00"
            ]
          },
          "metadata": {
            "tags": []
          },
          "execution_count": 39
        }
      ]
    },
    {
      "cell_type": "markdown",
      "metadata": {
        "id": "4nll5VzQCqy2"
      },
      "source": [
        "Plotting all the numerical features with respect to trip duration to check linear regression between our dependent and independent variables"
      ]
    },
    {
      "cell_type": "code",
      "metadata": {
        "colab": {
          "base_uri": "https://localhost:8080/"
        },
        "id": "uJLFSkqOEZvL",
        "outputId": "8b20534b-6c4f-4396-ac05-750906a37ffa"
      },
      "source": [
        "numeric_features = df.describe().columns\r\n",
        "numeric_features"
      ],
      "execution_count": null,
      "outputs": [
        {
          "output_type": "execute_result",
          "data": {
            "text/plain": [
              "Index(['vendor_id', 'passenger_count', 'pickup_longitude', 'pickup_latitude',\n",
              "       'dropoff_longitude', 'dropoff_latitude', 'trip_duration'],\n",
              "      dtype='object')"
            ]
          },
          "metadata": {
            "tags": []
          },
          "execution_count": 43
        }
      ]
    },
    {
      "cell_type": "code",
      "metadata": {
        "colab": {
          "base_uri": "https://localhost:8080/",
          "height": 1000
        },
        "id": "XMResGGWH1YC",
        "outputId": "7dbf5dbe-ea6f-41a4-be68-1b5c9b53797e"
      },
      "source": [
        "# plot a bar plot for each categorical feature count\r\n",
        "for col in numeric_features:\r\n",
        "    fig = plt.figure(figsize=(9, 6))\r\n",
        "    ax = fig.gca()\r\n",
        "    feature = df[col]\r\n",
        "    feature.hist(bins=50, ax = ax)\r\n",
        "    ax.axvline(feature.mean(), color='magenta', linestyle='dashed', linewidth=2)\r\n",
        "    ax.axvline(feature.median(), color='cyan', linestyle='dashed', linewidth=2)    \r\n",
        "    ax.set_title(col)\r\n",
        "plt.show()"
      ],
      "execution_count": null,
      "outputs": [
        {
          "output_type": "display_data",
          "data": {
            "image/png": "[encoded data removed]",
            "text/plain": [
              "<Figure size 648x432 with 1 Axes>"
            ]
          },
          "metadata": {
            "tags": [],
            "needs_background": "light"
          }
        },
        {
          "output_type": "display_data",
          "data": {
            "image/png": "[encoded data removed]",
            "text/plain": [
              "<Figure size 648x432 with 1 Axes>"
            ]
          },
          "metadata": {
            "tags": [],
            "needs_background": "light"
          }
        },
        {
          "output_type": "display_data",
          "data": {
            "image/png": "[encoded data removed]",
            "text/plain": [
              "<Figure size 648x432 with 1 Axes>"
            ]
          },
          "metadata": {
            "tags": [],
            "needs_background": "light"
          }
        },
        {
          "output_type": "display_data",
          "data": {
            "image/png": "[encoded data removed]",
            "text/plain": [
              "<Figure size 648x432 with 1 Axes>"
            ]
          },
          "metadata": {
            "tags": [],
            "needs_background": "light"
          }
        },
        {
          "output_type": "display_data",
          "data": {
            "image/png": "[encoded data removed]",
            "text/plain": [
              "<Figure size 648x432 with 1 Axes>"
            ]
          },
          "metadata": {
            "tags": [],
            "needs_background": "light"
          }
        },
        {
          "output_type": "display_data",
          "data": {
            "image/png": "[encoded data removed]",
            "text/plain": [
              "<Figure size 648x432 with 1 Axes>"
            ]
          },
          "metadata": {
            "tags": [],
            "needs_background": "light"
          }
        },
        {
          "output_type": "display_data",
          "data": {
            "image/png": "[encoded data removed]",
            "text/plain": [
              "<Figure size 648x432 with 1 Axes>"
            ]
          },
          "metadata": {
            "tags": [],
            "needs_background": "light"
          }
        }
      ]
    },
    {
      "cell_type": "code",
      "metadata": {
        "id": "7VMibxrhI23-",
        "colab": {
          "base_uri": "https://localhost:8080/",
          "height": 1000
        },
        "outputId": "4f9bb4af-0ba8-4a85-9fb0-147f95e87a49"
      },
      "source": [
        "for col in numeric_features[1:-1]:\r\n",
        "    fig = plt.figure(figsize=(9, 6))\r\n",
        "    ax = fig.gca()\r\n",
        "    feature = df[col]\r\n",
        "    label = df['trip_duration']\r\n",
        "    correlation = feature.corr(label)\r\n",
        "    plt.scatter(x=feature, y=label)\r\n",
        "    plt.xlabel(col)\r\n",
        "    plt.ylabel('Trip duration')\r\n",
        "    ax.set_title('Trip duration vs ' + col + '- correlation: ' + str(correlation))\r\n",
        "    z = np.polyfit(df[col], df['trip_duration'], 1)\r\n",
        "    y_hat = np.poly1d(z)(df[col])\r\n",
        "\r\n",
        "    plt.plot(df[col], y_hat, \"r--\", lw=1)\r\n",
        "\r\n",
        "plt.show()"
      ],
      "execution_count": null,
      "outputs": [
        {
          "output_type": "display_data",
          "data": {
            "image/png": "[encoded data removed]",
            "text/plain": [
              "<Figure size 648x432 with 1 Axes>"
            ]
          },
          "metadata": {
            "tags": [],
            "needs_background": "light"
          }
        },
        {
          "output_type": "display_data",
          "data": {
            "image/png": "[encoded data removed]",
            "text/plain": [
              "<Figure size 648x432 with 1 Axes>"
            ]
          },
          "metadata": {
            "tags": [],
            "needs_background": "light"
          }
        },
        {
          "output_type": "display_data",
          "data": {
            "image/png": "[encoded data removed]",
            "text/plain": [
              "<Figure size 648x432 with 1 Axes>"
            ]
          },
          "metadata": {
            "tags": [],
            "needs_background": "light"
          }
        },
        {
          "output_type": "display_data",
          "data": {
            "image/png": "[encoded data removed]",
            "text/plain": [
              "<Figure size 648x432 with 1 Axes>"
            ]
          },
          "metadata": {
            "tags": [],
            "needs_background": "light"
          }
        },
        {
          "output_type": "display_data",
          "data": {
            "image/png": "[encoded data removed]",
            "text/plain": [
              "<Figure size 648x432 with 1 Axes>"
            ]
          },
          "metadata": {
            "tags": [],
            "needs_background": "light"
          }
        }
      ]
    },
    {
      "cell_type": "markdown",
      "metadata": {
        "id": "iwOeghZTJ-Sn"
      },
      "source": [
        "After looking how these independent variables are dependent on our dependent variable, we will do some feature engineering to build some more sensible features and make some prediction on our data.\r\n"
      ]
    },
    {
      "cell_type": "markdown",
      "metadata": {
        "id": "yoIRTNX87gCr"
      },
      "source": [
        "##Feature engineering"
      ]
    },
    {
      "cell_type": "markdown",
      "metadata": {
        "id": "kXY_w1hhKkFc"
      },
      "source": [
        "So for our feature engineering task we will first need a variable that will give us the day of that particular pickup date"
      ]
    },
    {
      "cell_type": "code",
      "metadata": {
        "id": "6vy7iagiClz9"
      },
      "source": [
        "df['pickup_day']=df['pickup_datetime'].dt.day_name()\r\n",
        "df['dropoff_day']=df['dropoff_datetime'].dt.day_name()"
      ],
      "execution_count": null,
      "outputs": []
    },
    {
      "cell_type": "code",
      "metadata": {
        "colab": {
          "base_uri": "https://localhost:8080/",
          "height": 309
        },
        "id": "DB7pke9pLoCD",
        "outputId": "54a6218d-92f7-45bd-efe6-83e73f5fea2b"
      },
      "source": [
        "df.head()"
      ],
      "execution_count": null,
      "outputs": [
        {
          "output_type": "execute_result",
          "data": {
            "text/html": [
              "<div>\n",
              "<style scoped>\n",
              "    .dataframe tbody tr th:only-of-type {\n",
              "        vertical-align: middle;\n",
              "    }\n",
              "\n",
              "    .dataframe tbody tr th {\n",
              "        vertical-align: top;\n",
              "    }\n",
              "\n",
              "    .dataframe thead th {\n",
              "        text-align: right;\n",
              "    }\n",
              "</style>\n",
              "<table border=\"1\" class=\"dataframe\">\n",
              "  <thead>\n",
              "    <tr style=\"text-align: right;\">\n",
              "      <th></th>\n",
              "      <th>id</th>\n",
              "      <th>vendor_id</th>\n",
              "      <th>pickup_datetime</th>\n",
              "      <th>dropoff_datetime</th>\n",
              "      <th>passenger_count</th>\n",
              "      <th>pickup_longitude</th>\n",
              "      <th>pickup_latitude</th>\n",
              "      <th>dropoff_longitude</th>\n",
              "      <th>dropoff_latitude</th>\n",
              "      <th>store_and_fwd_flag</th>\n",
              "      <th>trip_duration</th>\n",
              "      <th>pickup_day</th>\n",
              "      <th>dropoff_day</th>\n",
              "    </tr>\n",
              "  </thead>\n",
              "  <tbody>\n",
              "    <tr>\n",
              "      <th>0</th>\n",
              "      <td>id2875421</td>\n",
              "      <td>2</td>\n",
              "      <td>2016-03-14 17:24:55</td>\n",
              "      <td>2016-03-14 17:32:30</td>\n",
              "      <td>1</td>\n",
              "      <td>-73.982155</td>\n",
              "      <td>40.767937</td>\n",
              "      <td>-73.964630</td>\n",
              "      <td>40.765602</td>\n",
              "      <td>N</td>\n",
              "      <td>455</td>\n",
              "      <td>Monday</td>\n",
              "      <td>Monday</td>\n",
              "    </tr>\n",
              "    <tr>\n",
              "      <th>1</th>\n",
              "      <td>id2377394</td>\n",
              "      <td>1</td>\n",
              "      <td>2016-06-12 00:43:35</td>\n",
              "      <td>2016-06-12 00:54:38</td>\n",
              "      <td>1</td>\n",
              "      <td>-73.980415</td>\n",
              "      <td>40.738564</td>\n",
              "      <td>-73.999481</td>\n",
              "      <td>40.731152</td>\n",
              "      <td>N</td>\n",
              "      <td>663</td>\n",
              "      <td>Sunday</td>\n",
              "      <td>Sunday</td>\n",
              "    </tr>\n",
              "    <tr>\n",
              "      <th>2</th>\n",
              "      <td>id3858529</td>\n",
              "      <td>2</td>\n",
              "      <td>2016-01-19 11:35:24</td>\n",
              "      <td>2016-01-19 12:10:48</td>\n",
              "      <td>1</td>\n",
              "      <td>-73.979027</td>\n",
              "      <td>40.763939</td>\n",
              "      <td>-74.005333</td>\n",
              "      <td>40.710087</td>\n",
              "      <td>N</td>\n",
              "      <td>2124</td>\n",
              "      <td>Tuesday</td>\n",
              "      <td>Tuesday</td>\n",
              "    </tr>\n",
              "    <tr>\n",
              "      <th>3</th>\n",
              "      <td>id3504673</td>\n",
              "      <td>2</td>\n",
              "      <td>2016-04-06 19:32:31</td>\n",
              "      <td>2016-04-06 19:39:40</td>\n",
              "      <td>1</td>\n",
              "      <td>-74.010040</td>\n",
              "      <td>40.719971</td>\n",
              "      <td>-74.012268</td>\n",
              "      <td>40.706718</td>\n",
              "      <td>N</td>\n",
              "      <td>429</td>\n",
              "      <td>Wednesday</td>\n",
              "      <td>Wednesday</td>\n",
              "    </tr>\n",
              "    <tr>\n",
              "      <th>4</th>\n",
              "      <td>id2181028</td>\n",
              "      <td>2</td>\n",
              "      <td>2016-03-26 13:30:55</td>\n",
              "      <td>2016-03-26 13:38:10</td>\n",
              "      <td>1</td>\n",
              "      <td>-73.973053</td>\n",
              "      <td>40.793209</td>\n",
              "      <td>-73.972923</td>\n",
              "      <td>40.782520</td>\n",
              "      <td>N</td>\n",
              "      <td>435</td>\n",
              "      <td>Saturday</td>\n",
              "      <td>Saturday</td>\n",
              "    </tr>\n",
              "  </tbody>\n",
              "</table>\n",
              "</div>"
            ],
            "text/plain": [
              "          id  vendor_id  ... pickup_day dropoff_day\n",
              "0  id2875421          2  ...     Monday      Monday\n",
              "1  id2377394          1  ...     Sunday      Sunday\n",
              "2  id3858529          2  ...    Tuesday     Tuesday\n",
              "3  id3504673          2  ...  Wednesday   Wednesday\n",
              "4  id2181028          2  ...   Saturday    Saturday\n",
              "\n",
              "[5 rows x 13 columns]"
            ]
          },
          "metadata": {
            "tags": []
          },
          "execution_count": 47
        }
      ]
    },
    {
      "cell_type": "markdown",
      "metadata": {
        "id": "6g55hWYgLt0w"
      },
      "source": [
        "Now that we have gotten the day let's see how it looks like"
      ]
    },
    {
      "cell_type": "code",
      "metadata": {
        "colab": {
          "base_uri": "https://localhost:8080/"
        },
        "id": "ZFbhWddqLpmL",
        "outputId": "aec6f76e-ef4f-424f-f71e-f207c20c2941"
      },
      "source": [
        "df['pickup_day'].value_counts()"
      ],
      "execution_count": null,
      "outputs": [
        {
          "output_type": "execute_result",
          "data": {
            "text/plain": [
              "Saturday     205127\n",
              "Friday       204741\n",
              "Thursday     199865\n",
              "Wednesday    193320\n",
              "Tuesday      186571\n",
              "Sunday       177842\n",
              "Monday       170565\n",
              "Name: pickup_day, dtype: int64"
            ]
          },
          "metadata": {
            "tags": []
          },
          "execution_count": 48
        }
      ]
    },
    {
      "cell_type": "code",
      "metadata": {
        "colab": {
          "base_uri": "https://localhost:8080/"
        },
        "id": "S9danK4i709p",
        "outputId": "ae99f479-5fca-4ceb-a615-fd05fa96249d"
      },
      "source": [
        "df[\"dropoff_day\"].value_counts()"
      ],
      "execution_count": null,
      "outputs": [
        {
          "output_type": "execute_result",
          "data": {
            "text/plain": [
              "Saturday     205041\n",
              "Friday       204286\n",
              "Thursday     199241\n",
              "Wednesday    193023\n",
              "Tuesday      186339\n",
              "Sunday       179558\n",
              "Monday       170543\n",
              "Name: dropoff_day, dtype: int64"
            ]
          },
          "metadata": {
            "tags": []
          },
          "execution_count": 49
        }
      ]
    },
    {
      "cell_type": "markdown",
      "metadata": {
        "id": "utkGYMOB8LaS"
      },
      "source": [
        "Plotting the number of pickups on each day for better visualization"
      ]
    },
    {
      "cell_type": "code",
      "metadata": {
        "colab": {
          "base_uri": "https://localhost:8080/",
          "height": 729
        },
        "id": "kxLg11dq77-6",
        "outputId": "7f02854d-34e2-4d83-b015-85c20c87bd4b"
      },
      "source": [
        "figure,ax=plt.subplots(nrows=2,ncols=1,figsize=(10,10))\r\n",
        "sns.countplot(x='pickup_day',data=df,ax=ax[0])\r\n",
        "ax[0].set_title('Number of Pickups done on each day of the week')\r\n",
        "sns.countplot(x='dropoff_day',data=df,ax=ax[1])\r\n",
        "ax[1].set_title('Number of dropoffs done on each day of the week')\r\n",
        "plt.tight_layout()"
      ],
      "execution_count": null,
      "outputs": [
        {
          "output_type": "display_data",
          "data": {
            "image/png": "[encoded data removed]",
            "text/plain": [
              "<Figure size 720x720 with 2 Axes>"
            ]
          },
          "metadata": {
            "tags": [],
            "needs_background": "light"
          }
        }
      ]
    },
    {
      "cell_type": "markdown",
      "metadata": {
        "id": "7FZQwKOU9Mig"
      },
      "source": [
        "We can also divide our time into morning, midday, evening and late night for calculating the taxi booked more at what time."
      ]
    },
    {
      "cell_type": "code",
      "metadata": {
        "id": "Wd0DEVNf8e4Q"
      },
      "source": [
        "import datetime\r\n",
        "def timezone(x):\r\n",
        "    if x>=datetime.time(4, 0, 1) and x <=datetime.time(10, 0, 0):\r\n",
        "        return 'morning'\r\n",
        "    elif x>=datetime.time(10, 0, 1) and x <=datetime.time(16, 0, 0):\r\n",
        "        return 'midday'\r\n",
        "    elif x>=datetime.time(16, 0, 1) and x <=datetime.time(22, 0, 0):\r\n",
        "        return 'evening'\r\n",
        "    elif x>=datetime.time(22, 0, 1) or x <=datetime.time(4, 0, 0):\r\n",
        "        return 'late night'\r\n",
        "    \r\n",
        "df['pickup_timezone']=df['pickup_datetime'].apply(lambda x :timezone(datetime.datetime.strptime(str(x), \"%Y-%m-%d %H:%M:%S\").time()) )\r\n",
        "df['dropoff_timezone']=df['dropoff_datetime'].apply(lambda x :timezone(datetime.datetime.strptime(str(x), \"%Y-%m-%d %H:%M:%S\").time()) )"
      ],
      "execution_count": null,
      "outputs": []
    },
    {
      "cell_type": "code",
      "metadata": {
        "colab": {
          "base_uri": "https://localhost:8080/",
          "height": 622
        },
        "id": "pyyhUjID85BB",
        "outputId": "277a2899-5605-49ff-8b03-7e965d65249d"
      },
      "source": [
        "figure,ax=plt.subplots(nrows=1,ncols=2,figsize=(15,10))\r\n",
        "sns.countplot(x='pickup_timezone',data=df,ax=ax[0])\r\n",
        "ax[0].set_title('The distribution of number of pickups on each part of the day')\r\n",
        "sns.countplot(x='dropoff_timezone',data=df,ax=ax[1])\r\n",
        "ax[1].set_title('The distribution of number of dropoffs on each part of the day')\r\n",
        "plt.show()"
      ],
      "execution_count": null,
      "outputs": [
        {
          "output_type": "display_data",
          "data": {
            "image/png": "[encoded data removed]",
            "text/plain": [
              "<Figure size 1080x720 with 2 Axes>"
            ]
          },
          "metadata": {
            "tags": [],
            "needs_background": "light"
          }
        }
      ]
    },
    {
      "cell_type": "markdown",
      "metadata": {
        "id": "IDVrwqWJNIBO"
      },
      "source": [
        "df=df[df['passenger_count']!=0]tude and longitude given to us from the dataset.\r\n"
      ]
    },
    {
      "cell_type": "code",
      "metadata": {
        "id": "rLf-13TaMFjr"
      },
      "source": [
        "#a function is created to calculate the distance from latitudes and longitudes\r\n",
        "from math import radians, cos, sin, asin, sqrt\r\n",
        "def haversine(df):\r\n",
        "    lat1, lon1, lat2, lon2 = df.pickup_latitude,df.pickup_longitude,df.dropoff_latitude,df.dropoff_longitude \r\n",
        "    R = 3959.87433 # this is in miles.  For Earth radius in kilometers use 6372.8 km\r\n",
        "    dLat = radians(lat2 - lat1)\r\n",
        "    dLon = radians(lon2 - lon1)\r\n",
        "    lat1 = radians(lat1)\r\n",
        "    lat2 = radians(lat2)\r\n",
        "    a = sin(dLat/2)**2 + cos(lat1)*cos(lat2)*sin(dLon/2)**2\r\n",
        "    c = 2*asin(sqrt(a))\r\n",
        "    return R * c"
      ],
      "execution_count": null,
      "outputs": []
    },
    {
      "cell_type": "code",
      "metadata": {
        "colab": {
          "base_uri": "https://localhost:8080/",
          "height": 309
        },
        "id": "FPerhsfh-zv3",
        "outputId": "91fde4bc-255e-410e-e34f-cf931e289f59"
      },
      "source": [
        "df['distance'] = df.apply(lambda x: haversine(x), axis = 1)\r\n",
        "df.head()"
      ],
      "execution_count": null,
      "outputs": [
        {
          "output_type": "execute_result",
          "data": {
            "text/html": [
              "<div>\n",
              "<style scoped>\n",
              "    .dataframe tbody tr th:only-of-type {\n",
              "        vertical-align: middle;\n",
              "    }\n",
              "\n",
              "    .dataframe tbody tr th {\n",
              "        vertical-align: top;\n",
              "    }\n",
              "\n",
              "    .dataframe thead th {\n",
              "        text-align: right;\n",
              "    }\n",
              "</style>\n",
              "<table border=\"1\" class=\"dataframe\">\n",
              "  <thead>\n",
              "    <tr style=\"text-align: right;\">\n",
              "      <th></th>\n",
              "      <th>id</th>\n",
              "      <th>vendor_id</th>\n",
              "      <th>pickup_datetime</th>\n",
              "      <th>dropoff_datetime</th>\n",
              "      <th>passenger_count</th>\n",
              "      <th>pickup_longitude</th>\n",
              "      <th>pickup_latitude</th>\n",
              "      <th>dropoff_longitude</th>\n",
              "      <th>dropoff_latitude</th>\n",
              "      <th>store_and_fwd_flag</th>\n",
              "      <th>trip_duration</th>\n",
              "      <th>pickup_day</th>\n",
              "      <th>dropoff_day</th>\n",
              "      <th>pickup_timezone</th>\n",
              "      <th>dropoff_timezone</th>\n",
              "      <th>distance</th>\n",
              "    </tr>\n",
              "  </thead>\n",
              "  <tbody>\n",
              "    <tr>\n",
              "      <th>0</th>\n",
              "      <td>id2875421</td>\n",
              "      <td>2</td>\n",
              "      <td>2016-03-14 17:24:55</td>\n",
              "      <td>2016-03-14 17:32:30</td>\n",
              "      <td>1</td>\n",
              "      <td>-73.982155</td>\n",
              "      <td>40.767937</td>\n",
              "      <td>-73.964630</td>\n",
              "      <td>40.765602</td>\n",
              "      <td>N</td>\n",
              "      <td>455</td>\n",
              "      <td>Monday</td>\n",
              "      <td>Monday</td>\n",
              "      <td>evening</td>\n",
              "      <td>evening</td>\n",
              "      <td>0.931401</td>\n",
              "    </tr>\n",
              "    <tr>\n",
              "      <th>1</th>\n",
              "      <td>id2377394</td>\n",
              "      <td>1</td>\n",
              "      <td>2016-06-12 00:43:35</td>\n",
              "      <td>2016-06-12 00:54:38</td>\n",
              "      <td>1</td>\n",
              "      <td>-73.980415</td>\n",
              "      <td>40.738564</td>\n",
              "      <td>-73.999481</td>\n",
              "      <td>40.731152</td>\n",
              "      <td>N</td>\n",
              "      <td>663</td>\n",
              "      <td>Sunday</td>\n",
              "      <td>Sunday</td>\n",
              "      <td>late night</td>\n",
              "      <td>late night</td>\n",
              "      <td>1.122207</td>\n",
              "    </tr>\n",
              "    <tr>\n",
              "      <th>2</th>\n",
              "      <td>id3858529</td>\n",
              "      <td>2</td>\n",
              "      <td>2016-01-19 11:35:24</td>\n",
              "      <td>2016-01-19 12:10:48</td>\n",
              "      <td>1</td>\n",
              "      <td>-73.979027</td>\n",
              "      <td>40.763939</td>\n",
              "      <td>-74.005333</td>\n",
              "      <td>40.710087</td>\n",
              "      <td>N</td>\n",
              "      <td>2124</td>\n",
              "      <td>Tuesday</td>\n",
              "      <td>Tuesday</td>\n",
              "      <td>midday</td>\n",
              "      <td>midday</td>\n",
              "      <td>3.968637</td>\n",
              "    </tr>\n",
              "    <tr>\n",
              "      <th>3</th>\n",
              "      <td>id3504673</td>\n",
              "      <td>2</td>\n",
              "      <td>2016-04-06 19:32:31</td>\n",
              "      <td>2016-04-06 19:39:40</td>\n",
              "      <td>1</td>\n",
              "      <td>-74.010040</td>\n",
              "      <td>40.719971</td>\n",
              "      <td>-74.012268</td>\n",
              "      <td>40.706718</td>\n",
              "      <td>N</td>\n",
              "      <td>429</td>\n",
              "      <td>Wednesday</td>\n",
              "      <td>Wednesday</td>\n",
              "      <td>evening</td>\n",
              "      <td>evening</td>\n",
              "      <td>0.923307</td>\n",
              "    </tr>\n",
              "    <tr>\n",
              "      <th>4</th>\n",
              "      <td>id2181028</td>\n",
              "      <td>2</td>\n",
              "      <td>2016-03-26 13:30:55</td>\n",
              "      <td>2016-03-26 13:38:10</td>\n",
              "      <td>1</td>\n",
              "      <td>-73.973053</td>\n",
              "      <td>40.793209</td>\n",
              "      <td>-73.972923</td>\n",
              "      <td>40.782520</td>\n",
              "      <td>N</td>\n",
              "      <td>435</td>\n",
              "      <td>Saturday</td>\n",
              "      <td>Saturday</td>\n",
              "      <td>midday</td>\n",
              "      <td>midday</td>\n",
              "      <td>0.738763</td>\n",
              "    </tr>\n",
              "  </tbody>\n",
              "</table>\n",
              "</div>"
            ],
            "text/plain": [
              "          id  vendor_id  ... dropoff_timezone  distance\n",
              "0  id2875421          2  ...          evening  0.931401\n",
              "1  id2377394          1  ...       late night  1.122207\n",
              "2  id3858529          2  ...           midday  3.968637\n",
              "3  id3504673          2  ...          evening  0.923307\n",
              "4  id2181028          2  ...           midday  0.738763\n",
              "\n",
              "[5 rows x 16 columns]"
            ]
          },
          "metadata": {
            "tags": []
          },
          "execution_count": 59
        }
      ]
    },
    {
      "cell_type": "markdown",
      "metadata": {
        "id": "Xq-AGF0g_oji"
      },
      "source": [
        "Checking for number of rows with distance zero"
      ]
    },
    {
      "cell_type": "code",
      "metadata": {
        "colab": {
          "base_uri": "https://localhost:8080/"
        },
        "id": "3MWWmCVf_lQ_",
        "outputId": "1cf97347-487c-4fb0-ed14-f8d4dc8372b9"
      },
      "source": [
        "len(df[df.distance==0])"
      ],
      "execution_count": null,
      "outputs": [
        {
          "output_type": "execute_result",
          "data": {
            "text/plain": [
              "4121"
            ]
          },
          "metadata": {
            "tags": []
          },
          "execution_count": 61
        }
      ]
    },
    {
      "cell_type": "markdown",
      "metadata": {
        "id": "ZG06aavC_xBY"
      },
      "source": [
        "Now dropping these useless data from the dataframe"
      ]
    },
    {
      "cell_type": "markdown",
      "metadata": {
        "id": "ejAtfFUjSt5m"
      },
      "source": [
        "Here we can see that our taxi were most booked on the day of friday"
      ]
    },
    {
      "cell_type": "code",
      "metadata": {
        "id": "45oT-fYfBMNV",
        "colab": {
          "base_uri": "https://localhost:8080/"
        },
        "outputId": "cf3c16c3-10e7-455b-d981-6c5e1cacf44c"
      },
      "source": [
        "df=df[df['distance']!=0]\r\n",
        "df.shape"
      ],
      "execution_count": 63,
      "outputs": [
        {
          "output_type": "execute_result",
          "data": {
            "text/plain": [
              "(1333910, 16)"
            ]
          },
          "metadata": {
            "tags": []
          },
          "execution_count": 63
        }
      ]
    },
    {
      "cell_type": "markdown",
      "metadata": {
        "id": "pKJ8U9KORb0x"
      },
      "source": [
        "Now let's try to plot the relationship of distance with our dependent variable \"trip_duration\""
      ]
    },
    {
      "cell_type": "code",
      "metadata": {
        "colab": {
          "base_uri": "https://localhost:8080/",
          "height": 307
        },
        "id": "Lw_Y1SHBWkgK",
        "outputId": "ba571596-12cd-46ed-9531-00e97cbb355f"
      },
      "source": [
        "sns.scatterplot(x='distance',y='trip_duration',data=df)"
      ],
      "execution_count": 64,
      "outputs": [
        {
          "output_type": "execute_result",
          "data": {
            "text/plain": [
              "<matplotlib.axes._subplots.AxesSubplot at 0x7f73cf78bba8>"
            ]
          },
          "metadata": {
            "tags": []
          },
          "execution_count": 64
        },
        {
          "output_type": "display_data",
          "data": {
            "image/png": "[encoded data removed]",
            "text/plain": [
              "<Figure size 432x288 with 1 Axes>"
            ]
          },
          "metadata": {
            "tags": [],
            "needs_background": "light"
          }
        }
      ]
    },
    {
      "cell_type": "markdown",
      "metadata": {
        "id": "iejxNGHpWnDM"
      },
      "source": [
        "Now let's make a new feature named trip duration hour and speed from our distance and trip duration"
      ]
    },
    {
      "cell_type": "code",
      "metadata": {
        "id": "wh2sey_uW9yl"
      },
      "source": [
        "df['trip_duration_hour']=df['trip_duration']/3600"
      ],
      "execution_count": 66,
      "outputs": []
    },
    {
      "cell_type": "code",
      "metadata": {
        "colab": {
          "base_uri": "https://localhost:8080/",
          "height": 296
        },
        "id": "d8JTzB_3WmGb",
        "outputId": "89a736a6-c068-451c-e3ba-de3c09d9e08f"
      },
      "source": [
        "df['speed']=df['distance']/df['trip_duration_hour']\r\n",
        "sns.boxplot(df['speed'])"
      ],
      "execution_count": 67,
      "outputs": [
        {
          "output_type": "execute_result",
          "data": {
            "text/plain": [
              "<matplotlib.axes._subplots.AxesSubplot at 0x7f73ccb5cd30>"
            ]
          },
          "metadata": {
            "tags": []
          },
          "execution_count": 67
        },
        {
          "output_type": "display_data",
          "data": {
            "image/png": "[encoded data removed]",
            "text/plain": [
              "<Figure size 432x288 with 1 Axes>"
            ]
          },
          "metadata": {
            "tags": [],
            "needs_background": "light"
          }
        }
      ]
    },
    {
      "cell_type": "code",
      "metadata": {
        "colab": {
          "base_uri": "https://localhost:8080/",
          "height": 309
        },
        "id": "1s55lSunSUub",
        "outputId": "84527a15-6f7a-4094-c869-fac6a827cfac"
      },
      "source": [
        "df.head()"
      ],
      "execution_count": 68,
      "outputs": [
        {
          "output_type": "execute_result",
          "data": {
            "text/html": [
              "<div>\n",
              "<style scoped>\n",
              "    .dataframe tbody tr th:only-of-type {\n",
              "        vertical-align: middle;\n",
              "    }\n",
              "\n",
              "    .dataframe tbody tr th {\n",
              "        vertical-align: top;\n",
              "    }\n",
              "\n",
              "    .dataframe thead th {\n",
              "        text-align: right;\n",
              "    }\n",
              "</style>\n",
              "<table border=\"1\" class=\"dataframe\">\n",
              "  <thead>\n",
              "    <tr style=\"text-align: right;\">\n",
              "      <th></th>\n",
              "      <th>id</th>\n",
              "      <th>vendor_id</th>\n",
              "      <th>pickup_datetime</th>\n",
              "      <th>dropoff_datetime</th>\n",
              "      <th>passenger_count</th>\n",
              "      <th>pickup_longitude</th>\n",
              "      <th>pickup_latitude</th>\n",
              "      <th>dropoff_longitude</th>\n",
              "      <th>dropoff_latitude</th>\n",
              "      <th>store_and_fwd_flag</th>\n",
              "      <th>trip_duration</th>\n",
              "      <th>pickup_day</th>\n",
              "      <th>dropoff_day</th>\n",
              "      <th>pickup_timezone</th>\n",
              "      <th>dropoff_timezone</th>\n",
              "      <th>distance</th>\n",
              "      <th>trip_duration_hour</th>\n",
              "      <th>speed</th>\n",
              "    </tr>\n",
              "  </thead>\n",
              "  <tbody>\n",
              "    <tr>\n",
              "      <th>0</th>\n",
              "      <td>id2875421</td>\n",
              "      <td>2</td>\n",
              "      <td>2016-03-14 17:24:55</td>\n",
              "      <td>2016-03-14 17:32:30</td>\n",
              "      <td>1</td>\n",
              "      <td>-73.982155</td>\n",
              "      <td>40.767937</td>\n",
              "      <td>-73.964630</td>\n",
              "      <td>40.765602</td>\n",
              "      <td>N</td>\n",
              "      <td>455</td>\n",
              "      <td>Monday</td>\n",
              "      <td>Monday</td>\n",
              "      <td>evening</td>\n",
              "      <td>evening</td>\n",
              "      <td>0.931401</td>\n",
              "      <td>0.126389</td>\n",
              "      <td>7.369324</td>\n",
              "    </tr>\n",
              "    <tr>\n",
              "      <th>1</th>\n",
              "      <td>id2377394</td>\n",
              "      <td>1</td>\n",
              "      <td>2016-06-12 00:43:35</td>\n",
              "      <td>2016-06-12 00:54:38</td>\n",
              "      <td>1</td>\n",
              "      <td>-73.980415</td>\n",
              "      <td>40.738564</td>\n",
              "      <td>-73.999481</td>\n",
              "      <td>40.731152</td>\n",
              "      <td>N</td>\n",
              "      <td>663</td>\n",
              "      <td>Sunday</td>\n",
              "      <td>Sunday</td>\n",
              "      <td>late night</td>\n",
              "      <td>late night</td>\n",
              "      <td>1.122207</td>\n",
              "      <td>0.184167</td>\n",
              "      <td>6.093432</td>\n",
              "    </tr>\n",
              "    <tr>\n",
              "      <th>2</th>\n",
              "      <td>id3858529</td>\n",
              "      <td>2</td>\n",
              "      <td>2016-01-19 11:35:24</td>\n",
              "      <td>2016-01-19 12:10:48</td>\n",
              "      <td>1</td>\n",
              "      <td>-73.979027</td>\n",
              "      <td>40.763939</td>\n",
              "      <td>-74.005333</td>\n",
              "      <td>40.710087</td>\n",
              "      <td>N</td>\n",
              "      <td>2124</td>\n",
              "      <td>Tuesday</td>\n",
              "      <td>Tuesday</td>\n",
              "      <td>midday</td>\n",
              "      <td>midday</td>\n",
              "      <td>3.968637</td>\n",
              "      <td>0.590000</td>\n",
              "      <td>6.726504</td>\n",
              "    </tr>\n",
              "    <tr>\n",
              "      <th>3</th>\n",
              "      <td>id3504673</td>\n",
              "      <td>2</td>\n",
              "      <td>2016-04-06 19:32:31</td>\n",
              "      <td>2016-04-06 19:39:40</td>\n",
              "      <td>1</td>\n",
              "      <td>-74.010040</td>\n",
              "      <td>40.719971</td>\n",
              "      <td>-74.012268</td>\n",
              "      <td>40.706718</td>\n",
              "      <td>N</td>\n",
              "      <td>429</td>\n",
              "      <td>Wednesday</td>\n",
              "      <td>Wednesday</td>\n",
              "      <td>evening</td>\n",
              "      <td>evening</td>\n",
              "      <td>0.923307</td>\n",
              "      <td>0.119167</td>\n",
              "      <td>7.748028</td>\n",
              "    </tr>\n",
              "    <tr>\n",
              "      <th>4</th>\n",
              "      <td>id2181028</td>\n",
              "      <td>2</td>\n",
              "      <td>2016-03-26 13:30:55</td>\n",
              "      <td>2016-03-26 13:38:10</td>\n",
              "      <td>1</td>\n",
              "      <td>-73.973053</td>\n",
              "      <td>40.793209</td>\n",
              "      <td>-73.972923</td>\n",
              "      <td>40.782520</td>\n",
              "      <td>N</td>\n",
              "      <td>435</td>\n",
              "      <td>Saturday</td>\n",
              "      <td>Saturday</td>\n",
              "      <td>midday</td>\n",
              "      <td>midday</td>\n",
              "      <td>0.738763</td>\n",
              "      <td>0.120833</td>\n",
              "      <td>6.113903</td>\n",
              "    </tr>\n",
              "  </tbody>\n",
              "</table>\n",
              "</div>"
            ],
            "text/plain": [
              "          id  vendor_id  ... trip_duration_hour     speed\n",
              "0  id2875421          2  ...           0.126389  7.369324\n",
              "1  id2377394          1  ...           0.184167  6.093432\n",
              "2  id3858529          2  ...           0.590000  6.726504\n",
              "3  id3504673          2  ...           0.119167  7.748028\n",
              "4  id2181028          2  ...           0.120833  6.113903\n",
              "\n",
              "[5 rows x 18 columns]"
            ]
          },
          "metadata": {
            "tags": []
          },
          "execution_count": 68
        }
      ]
    },
    {
      "cell_type": "code",
      "metadata": {
        "colab": {
          "base_uri": "https://localhost:8080/",
          "height": 296
        },
        "id": "-PRohKkqXc20",
        "outputId": "80f7844d-907d-49c9-e3eb-4981095a95b2"
      },
      "source": [
        "sns.scatterplot(x='distance',y='trip_duration_hour',data=df)"
      ],
      "execution_count": 69,
      "outputs": [
        {
          "output_type": "execute_result",
          "data": {
            "text/plain": [
              "<matplotlib.axes._subplots.AxesSubplot at 0x7f73ccb70a20>"
            ]
          },
          "metadata": {
            "tags": []
          },
          "execution_count": 69
        },
        {
          "output_type": "display_data",
          "data": {
            "image/png": "[encoded data removed]",
            "text/plain": [
              "<Figure size 432x288 with 1 Axes>"
            ]
          },
          "metadata": {
            "tags": [],
            "needs_background": "light"
          }
        }
      ]
    },
    {
      "cell_type": "markdown",
      "metadata": {
        "id": "nF4iRzK-S8Ec"
      },
      "source": [
        "Now let's do some one hot encoding"
      ]
    },
    {
      "cell_type": "markdown",
      "metadata": {
        "id": "LkqunqrgWpGL"
      },
      "source": [
        "We have converted the weeks and store_and_fwd_flag as one hot encoding variables and made them into 0 and 1 values"
      ]
    },
    {
      "cell_type": "code",
      "metadata": {
        "id": "1_WHU2tcS5rj"
      },
      "source": [
        "# One hot encoding\r\n",
        "df_new=df.copy()\r\n",
        "df_new = pd.get_dummies(df_new, columns=[\"store_and_fwd_flag\", \"DayOfWeek\"], prefix=[\"store_and_fwd_flag\",'DayOfWeek'])"
      ],
      "execution_count": null,
      "outputs": []
    },
    {
      "cell_type": "code",
      "metadata": {
        "colab": {
          "base_uri": "https://localhost:8080/",
          "height": 326
        },
        "id": "aV_N2r4UWedY",
        "outputId": "9ec0d21b-8d8d-47ca-c699-320c22c90a74"
      },
      "source": [
        "df_new.head()"
      ],
      "execution_count": null,
      "outputs": [
        {
          "output_type": "execute_result",
          "data": {
            "text/html": [
              "<div>\n",
              "<style scoped>\n",
              "    .dataframe tbody tr th:only-of-type {\n",
              "        vertical-align: middle;\n",
              "    }\n",
              "\n",
              "    .dataframe tbody tr th {\n",
              "        vertical-align: top;\n",
              "    }\n",
              "\n",
              "    .dataframe thead th {\n",
              "        text-align: right;\n",
              "    }\n",
              "</style>\n",
              "<table border=\"1\" class=\"dataframe\">\n",
              "  <thead>\n",
              "    <tr style=\"text-align: right;\">\n",
              "      <th></th>\n",
              "      <th>id</th>\n",
              "      <th>vendor_id</th>\n",
              "      <th>pickup_datetime</th>\n",
              "      <th>dropoff_datetime</th>\n",
              "      <th>passenger_count</th>\n",
              "      <th>pickup_longitude</th>\n",
              "      <th>pickup_latitude</th>\n",
              "      <th>dropoff_longitude</th>\n",
              "      <th>dropoff_latitude</th>\n",
              "      <th>trip_duration</th>\n",
              "      <th>Distance(in km)</th>\n",
              "      <th>store_and_fwd_flag_N</th>\n",
              "      <th>store_and_fwd_flag_Y</th>\n",
              "      <th>DayOfWeek_Friday</th>\n",
              "      <th>DayOfWeek_Monday</th>\n",
              "      <th>DayOfWeek_Saturday</th>\n",
              "      <th>DayOfWeek_Sunday</th>\n",
              "      <th>DayOfWeek_Thursday</th>\n",
              "      <th>DayOfWeek_Tuesday</th>\n",
              "      <th>DayOfWeek_Wednesday</th>\n",
              "    </tr>\n",
              "  </thead>\n",
              "  <tbody>\n",
              "    <tr>\n",
              "      <th>0</th>\n",
              "      <td>id2875421</td>\n",
              "      <td>2</td>\n",
              "      <td>2016-03-14 17:24:55</td>\n",
              "      <td>2016-03-14 17:32:30</td>\n",
              "      <td>1</td>\n",
              "      <td>-73.982155</td>\n",
              "      <td>40.767937</td>\n",
              "      <td>-73.964630</td>\n",
              "      <td>40.765602</td>\n",
              "      <td>455</td>\n",
              "      <td>1.498991</td>\n",
              "      <td>1</td>\n",
              "      <td>0</td>\n",
              "      <td>0</td>\n",
              "      <td>1</td>\n",
              "      <td>0</td>\n",
              "      <td>0</td>\n",
              "      <td>0</td>\n",
              "      <td>0</td>\n",
              "      <td>0</td>\n",
              "    </tr>\n",
              "    <tr>\n",
              "      <th>1</th>\n",
              "      <td>id2377394</td>\n",
              "      <td>1</td>\n",
              "      <td>2016-06-12 00:43:35</td>\n",
              "      <td>2016-06-12 00:54:38</td>\n",
              "      <td>1</td>\n",
              "      <td>-73.980415</td>\n",
              "      <td>40.738564</td>\n",
              "      <td>-73.999481</td>\n",
              "      <td>40.731152</td>\n",
              "      <td>663</td>\n",
              "      <td>1.806074</td>\n",
              "      <td>1</td>\n",
              "      <td>0</td>\n",
              "      <td>0</td>\n",
              "      <td>0</td>\n",
              "      <td>0</td>\n",
              "      <td>1</td>\n",
              "      <td>0</td>\n",
              "      <td>0</td>\n",
              "      <td>0</td>\n",
              "    </tr>\n",
              "    <tr>\n",
              "      <th>2</th>\n",
              "      <td>id3858529</td>\n",
              "      <td>2</td>\n",
              "      <td>2016-01-19 11:35:24</td>\n",
              "      <td>2016-01-19 12:10:48</td>\n",
              "      <td>1</td>\n",
              "      <td>-73.979027</td>\n",
              "      <td>40.763939</td>\n",
              "      <td>-74.005333</td>\n",
              "      <td>40.710087</td>\n",
              "      <td>2124</td>\n",
              "      <td>6.387103</td>\n",
              "      <td>1</td>\n",
              "      <td>0</td>\n",
              "      <td>0</td>\n",
              "      <td>0</td>\n",
              "      <td>0</td>\n",
              "      <td>0</td>\n",
              "      <td>0</td>\n",
              "      <td>1</td>\n",
              "      <td>0</td>\n",
              "    </tr>\n",
              "    <tr>\n",
              "      <th>3</th>\n",
              "      <td>id3504673</td>\n",
              "      <td>2</td>\n",
              "      <td>2016-04-06 19:32:31</td>\n",
              "      <td>2016-04-06 19:39:40</td>\n",
              "      <td>1</td>\n",
              "      <td>-74.010040</td>\n",
              "      <td>40.719971</td>\n",
              "      <td>-74.012268</td>\n",
              "      <td>40.706718</td>\n",
              "      <td>429</td>\n",
              "      <td>1.485965</td>\n",
              "      <td>1</td>\n",
              "      <td>0</td>\n",
              "      <td>0</td>\n",
              "      <td>0</td>\n",
              "      <td>0</td>\n",
              "      <td>0</td>\n",
              "      <td>0</td>\n",
              "      <td>0</td>\n",
              "      <td>1</td>\n",
              "    </tr>\n",
              "    <tr>\n",
              "      <th>4</th>\n",
              "      <td>id2181028</td>\n",
              "      <td>2</td>\n",
              "      <td>2016-03-26 13:30:55</td>\n",
              "      <td>2016-03-26 13:38:10</td>\n",
              "      <td>1</td>\n",
              "      <td>-73.973053</td>\n",
              "      <td>40.793209</td>\n",
              "      <td>-73.972923</td>\n",
              "      <td>40.782520</td>\n",
              "      <td>435</td>\n",
              "      <td>1.188962</td>\n",
              "      <td>1</td>\n",
              "      <td>0</td>\n",
              "      <td>0</td>\n",
              "      <td>0</td>\n",
              "      <td>1</td>\n",
              "      <td>0</td>\n",
              "      <td>0</td>\n",
              "      <td>0</td>\n",
              "      <td>0</td>\n",
              "    </tr>\n",
              "  </tbody>\n",
              "</table>\n",
              "</div>"
            ],
            "text/plain": [
              "          id  vendor_id  ... DayOfWeek_Tuesday DayOfWeek_Wednesday\n",
              "0  id2875421          2  ...                 0                   0\n",
              "1  id2377394          1  ...                 0                   0\n",
              "2  id3858529          2  ...                 1                   0\n",
              "3  id3504673          2  ...                 0                   1\n",
              "4  id2181028          2  ...                 0                   0\n",
              "\n",
              "[5 rows x 20 columns]"
            ]
          },
          "metadata": {
            "tags": []
          },
          "execution_count": 44
        }
      ]
    },
    {
      "cell_type": "markdown",
      "metadata": {
        "id": "ddJwp0xRYEHQ"
      },
      "source": [
        "Now making a graph between the trip duration and the log distance so we get a graph between normalized data"
      ]
    },
    {
      "cell_type": "code",
      "metadata": {
        "colab": {
          "base_uri": "https://localhost:8080/",
          "height": 297
        },
        "id": "lfnDIrvJX8ae",
        "outputId": "71980643-1aa8-45b9-92cb-c7feaa314a29"
      },
      "source": [
        "df['log_distance']=np.log(df.distance)\r\n",
        "df['log_trip_duration']=np.log(df.trip_duration_hour)\r\n",
        "sns.scatterplot(x='log_distance',y='log_trip_duration',data=df)"
      ],
      "execution_count": 70,
      "outputs": [
        {
          "output_type": "execute_result",
          "data": {
            "text/plain": [
              "<matplotlib.axes._subplots.AxesSubplot at 0x7f73d0b0e0f0>"
            ]
          },
          "metadata": {
            "tags": []
          },
          "execution_count": 70
        },
        {
          "output_type": "display_data",
          "data": {
            "image/png": "[encoded data removed]",
            "text/plain": [
              "<Figure size 432x288 with 1 Axes>"
            ]
          },
          "metadata": {
            "tags": [],
            "needs_background": "light"
          }
        }
      ]
    },
    {
      "cell_type": "code",
      "metadata": {
        "colab": {
          "base_uri": "https://localhost:8080/",
          "height": 499
        },
        "id": "6KrJBTzqC0Uh",
        "outputId": "0444024c-b507-4200-e246-ea76775da559"
      },
      "source": [
        "plt.figure(figsize=(15,8))\r\n",
        "plt.title(\"Box plot of  distance \")\r\n",
        "ax = sns.boxplot(data=df_new['Distance(in km)'], orient=\"v\")"
      ],
      "execution_count": null,
      "outputs": [
        {
          "output_type": "display_data",
          "data": {
            "image/png": "[encoded data removed]",
            "text/plain": [
              "<Figure size 1080x576 with 1 Axes>"
            ]
          },
          "metadata": {
            "tags": [],
            "needs_background": "light"
          }
        }
      ]
    },
    {
      "cell_type": "markdown",
      "metadata": {
        "id": "J10jXlM84o64"
      },
      "source": [
        "Let's see what was time taken to cover 1200 kms"
      ]
    },
    {
      "cell_type": "code",
      "metadata": {
        "colab": {
          "base_uri": "https://localhost:8080/",
          "height": 278
        },
        "id": "EhvFzUnjLHNa",
        "outputId": "ed139f05-34f7-4bf0-c901-43bc584b842f"
      },
      "source": [
        "df_new[df_new['trip_duration']>86400]"
      ],
      "execution_count": null,
      "outputs": [
        {
          "output_type": "execute_result",
          "data": {
            "text/html": [
              "<div>\n",
              "<style scoped>\n",
              "    .dataframe tbody tr th:only-of-type {\n",
              "        vertical-align: middle;\n",
              "    }\n",
              "\n",
              "    .dataframe tbody tr th {\n",
              "        vertical-align: top;\n",
              "    }\n",
              "\n",
              "    .dataframe thead th {\n",
              "        text-align: right;\n",
              "    }\n",
              "</style>\n",
              "<table border=\"1\" class=\"dataframe\">\n",
              "  <thead>\n",
              "    <tr style=\"text-align: right;\">\n",
              "      <th></th>\n",
              "      <th>id</th>\n",
              "      <th>vendor_id</th>\n",
              "      <th>pickup_datetime</th>\n",
              "      <th>dropoff_datetime</th>\n",
              "      <th>passenger_count</th>\n",
              "      <th>pickup_longitude</th>\n",
              "      <th>pickup_latitude</th>\n",
              "      <th>dropoff_longitude</th>\n",
              "      <th>dropoff_latitude</th>\n",
              "      <th>trip_duration</th>\n",
              "      <th>Distance(in km)</th>\n",
              "      <th>store_and_fwd_flag_N</th>\n",
              "      <th>store_and_fwd_flag_Y</th>\n",
              "      <th>DayOfWeek_Friday</th>\n",
              "      <th>DayOfWeek_Monday</th>\n",
              "      <th>DayOfWeek_Saturday</th>\n",
              "      <th>DayOfWeek_Sunday</th>\n",
              "      <th>DayOfWeek_Thursday</th>\n",
              "      <th>DayOfWeek_Tuesday</th>\n",
              "      <th>DayOfWeek_Wednesday</th>\n",
              "    </tr>\n",
              "  </thead>\n",
              "  <tbody>\n",
              "    <tr>\n",
              "      <th>355003</th>\n",
              "      <td>id1864733</td>\n",
              "      <td>1</td>\n",
              "      <td>2016-01-05 00:19:42</td>\n",
              "      <td>2016-01-27 11:08:38</td>\n",
              "      <td>1</td>\n",
              "      <td>-73.789650</td>\n",
              "      <td>40.643559</td>\n",
              "      <td>-73.956810</td>\n",
              "      <td>40.773087</td>\n",
              "      <td>1939736</td>\n",
              "      <td>20.154989</td>\n",
              "      <td>1</td>\n",
              "      <td>0</td>\n",
              "      <td>0</td>\n",
              "      <td>0</td>\n",
              "      <td>0</td>\n",
              "      <td>0</td>\n",
              "      <td>0</td>\n",
              "      <td>1</td>\n",
              "      <td>0</td>\n",
              "    </tr>\n",
              "    <tr>\n",
              "      <th>680594</th>\n",
              "      <td>id0369307</td>\n",
              "      <td>1</td>\n",
              "      <td>2016-02-13 22:38:00</td>\n",
              "      <td>2016-03-08 15:57:38</td>\n",
              "      <td>2</td>\n",
              "      <td>-73.921677</td>\n",
              "      <td>40.735252</td>\n",
              "      <td>-73.984749</td>\n",
              "      <td>40.759979</td>\n",
              "      <td>2049578</td>\n",
              "      <td>5.984365</td>\n",
              "      <td>1</td>\n",
              "      <td>0</td>\n",
              "      <td>0</td>\n",
              "      <td>0</td>\n",
              "      <td>1</td>\n",
              "      <td>0</td>\n",
              "      <td>0</td>\n",
              "      <td>0</td>\n",
              "      <td>0</td>\n",
              "    </tr>\n",
              "    <tr>\n",
              "      <th>924150</th>\n",
              "      <td>id1325766</td>\n",
              "      <td>1</td>\n",
              "      <td>2016-01-05 06:14:15</td>\n",
              "      <td>2016-01-31 01:01:07</td>\n",
              "      <td>1</td>\n",
              "      <td>-73.983788</td>\n",
              "      <td>40.742325</td>\n",
              "      <td>-73.985489</td>\n",
              "      <td>40.727676</td>\n",
              "      <td>2227612</td>\n",
              "      <td>1.635641</td>\n",
              "      <td>1</td>\n",
              "      <td>0</td>\n",
              "      <td>0</td>\n",
              "      <td>0</td>\n",
              "      <td>0</td>\n",
              "      <td>0</td>\n",
              "      <td>0</td>\n",
              "      <td>1</td>\n",
              "      <td>0</td>\n",
              "    </tr>\n",
              "    <tr>\n",
              "      <th>978383</th>\n",
              "      <td>id0053347</td>\n",
              "      <td>1</td>\n",
              "      <td>2016-02-13 22:46:52</td>\n",
              "      <td>2016-03-25 18:18:14</td>\n",
              "      <td>1</td>\n",
              "      <td>-73.783905</td>\n",
              "      <td>40.648632</td>\n",
              "      <td>-73.978271</td>\n",
              "      <td>40.750202</td>\n",
              "      <td>3526282</td>\n",
              "      <td>19.906909</td>\n",
              "      <td>1</td>\n",
              "      <td>0</td>\n",
              "      <td>0</td>\n",
              "      <td>0</td>\n",
              "      <td>1</td>\n",
              "      <td>0</td>\n",
              "      <td>0</td>\n",
              "      <td>0</td>\n",
              "      <td>0</td>\n",
              "    </tr>\n",
              "  </tbody>\n",
              "</table>\n",
              "</div>"
            ],
            "text/plain": [
              "               id  vendor_id  ... DayOfWeek_Tuesday DayOfWeek_Wednesday\n",
              "355003  id1864733          1  ...                 1                   0\n",
              "680594  id0369307          1  ...                 0                   0\n",
              "924150  id1325766          1  ...                 1                   0\n",
              "978383  id0053347          1  ...                 0                   0\n",
              "\n",
              "[4 rows x 20 columns]"
            ]
          },
          "metadata": {
            "tags": []
          },
          "execution_count": 54
        }
      ]
    },
    {
      "cell_type": "code",
      "metadata": {
        "colab": {
          "base_uri": "https://localhost:8080/"
        },
        "id": "9I4pOsHduPUL",
        "outputId": "6a1f9da3-1b40-4f52-ae23-f096b0be510d"
      },
      "source": [
        "df_new[df_new['Distance(in km)']>1200]['trip_duration']"
      ],
      "execution_count": null,
      "outputs": [
        {
          "output_type": "execute_result",
          "data": {
            "text/plain": [
              "184925    792\n",
              "Name: trip_duration, dtype: int64"
            ]
          },
          "metadata": {
            "tags": []
          },
          "execution_count": 53
        }
      ]
    },
    {
      "cell_type": "markdown",
      "metadata": {
        "id": "GjrVUYpz4nwf"
      },
      "source": [
        "We can see that it is not possible for a taxi to cover 1200 kms in 792 seconds unless it was made by humans from the future, neither 24hours are needed to travel 10 kms so we need to do a better way to remove outliers"
      ]
    },
    {
      "cell_type": "code",
      "metadata": {
        "id": "jAgjttd73vbF"
      },
      "source": [
        "df=df[df['passenger_count']!=0]"
      ],
      "execution_count": null,
      "outputs": []
    },
    {
      "cell_type": "code",
      "metadata": {
        "colab": {
          "base_uri": "https://localhost:8080/",
          "height": 326
        },
        "id": "yqE49oy7L09-",
        "outputId": "a31ee51b-fc9b-4592-b078-02a3b4636a30"
      },
      "source": [
        "df_new.head()"
      ],
      "execution_count": null,
      "outputs": [
        {
          "output_type": "execute_result",
          "data": {
            "text/html": [
              "<div>\n",
              "<style scoped>\n",
              "    .dataframe tbody tr th:only-of-type {\n",
              "        vertical-align: middle;\n",
              "    }\n",
              "\n",
              "    .dataframe tbody tr th {\n",
              "        vertical-align: top;\n",
              "    }\n",
              "\n",
              "    .dataframe thead th {\n",
              "        text-align: right;\n",
              "    }\n",
              "</style>\n",
              "<table border=\"1\" class=\"dataframe\">\n",
              "  <thead>\n",
              "    <tr style=\"text-align: right;\">\n",
              "      <th></th>\n",
              "      <th>id</th>\n",
              "      <th>vendor_id</th>\n",
              "      <th>pickup_datetime</th>\n",
              "      <th>dropoff_datetime</th>\n",
              "      <th>passenger_count</th>\n",
              "      <th>pickup_longitude</th>\n",
              "      <th>pickup_latitude</th>\n",
              "      <th>dropoff_longitude</th>\n",
              "      <th>dropoff_latitude</th>\n",
              "      <th>trip_duration</th>\n",
              "      <th>Distance(in km)</th>\n",
              "      <th>store_and_fwd_flag_N</th>\n",
              "      <th>store_and_fwd_flag_Y</th>\n",
              "      <th>DayOfWeek_Friday</th>\n",
              "      <th>DayOfWeek_Monday</th>\n",
              "      <th>DayOfWeek_Saturday</th>\n",
              "      <th>DayOfWeek_Sunday</th>\n",
              "      <th>DayOfWeek_Thursday</th>\n",
              "      <th>DayOfWeek_Tuesday</th>\n",
              "      <th>DayOfWeek_Wednesday</th>\n",
              "      <th>speed</th>\n",
              "    </tr>\n",
              "  </thead>\n",
              "  <tbody>\n",
              "    <tr>\n",
              "      <th>0</th>\n",
              "      <td>id2875421</td>\n",
              "      <td>2</td>\n",
              "      <td>2016-03-14 17:24:55</td>\n",
              "      <td>2016-03-14 17:32:30</td>\n",
              "      <td>1</td>\n",
              "      <td>-73.982155</td>\n",
              "      <td>40.767937</td>\n",
              "      <td>-73.964630</td>\n",
              "      <td>40.765602</td>\n",
              "      <td>455</td>\n",
              "      <td>1.498991</td>\n",
              "      <td>1</td>\n",
              "      <td>0</td>\n",
              "      <td>0</td>\n",
              "      <td>1</td>\n",
              "      <td>0</td>\n",
              "      <td>0</td>\n",
              "      <td>0</td>\n",
              "      <td>0</td>\n",
              "      <td>0</td>\n",
              "      <td>11.860150</td>\n",
              "    </tr>\n",
              "    <tr>\n",
              "      <th>1</th>\n",
              "      <td>id2377394</td>\n",
              "      <td>1</td>\n",
              "      <td>2016-06-12 00:43:35</td>\n",
              "      <td>2016-06-12 00:54:38</td>\n",
              "      <td>1</td>\n",
              "      <td>-73.980415</td>\n",
              "      <td>40.738564</td>\n",
              "      <td>-73.999481</td>\n",
              "      <td>40.731152</td>\n",
              "      <td>663</td>\n",
              "      <td>1.806074</td>\n",
              "      <td>1</td>\n",
              "      <td>0</td>\n",
              "      <td>0</td>\n",
              "      <td>0</td>\n",
              "      <td>0</td>\n",
              "      <td>1</td>\n",
              "      <td>0</td>\n",
              "      <td>0</td>\n",
              "      <td>0</td>\n",
              "      <td>9.806736</td>\n",
              "    </tr>\n",
              "    <tr>\n",
              "      <th>2</th>\n",
              "      <td>id3858529</td>\n",
              "      <td>2</td>\n",
              "      <td>2016-01-19 11:35:24</td>\n",
              "      <td>2016-01-19 12:10:48</td>\n",
              "      <td>1</td>\n",
              "      <td>-73.979027</td>\n",
              "      <td>40.763939</td>\n",
              "      <td>-74.005333</td>\n",
              "      <td>40.710087</td>\n",
              "      <td>2124</td>\n",
              "      <td>6.387103</td>\n",
              "      <td>1</td>\n",
              "      <td>0</td>\n",
              "      <td>0</td>\n",
              "      <td>0</td>\n",
              "      <td>0</td>\n",
              "      <td>0</td>\n",
              "      <td>0</td>\n",
              "      <td>1</td>\n",
              "      <td>0</td>\n",
              "      <td>10.825598</td>\n",
              "    </tr>\n",
              "    <tr>\n",
              "      <th>3</th>\n",
              "      <td>id3504673</td>\n",
              "      <td>2</td>\n",
              "      <td>2016-04-06 19:32:31</td>\n",
              "      <td>2016-04-06 19:39:40</td>\n",
              "      <td>1</td>\n",
              "      <td>-74.010040</td>\n",
              "      <td>40.719971</td>\n",
              "      <td>-74.012268</td>\n",
              "      <td>40.706718</td>\n",
              "      <td>429</td>\n",
              "      <td>1.485965</td>\n",
              "      <td>1</td>\n",
              "      <td>0</td>\n",
              "      <td>0</td>\n",
              "      <td>0</td>\n",
              "      <td>0</td>\n",
              "      <td>0</td>\n",
              "      <td>0</td>\n",
              "      <td>0</td>\n",
              "      <td>1</td>\n",
              "      <td>12.469634</td>\n",
              "    </tr>\n",
              "    <tr>\n",
              "      <th>4</th>\n",
              "      <td>id2181028</td>\n",
              "      <td>2</td>\n",
              "      <td>2016-03-26 13:30:55</td>\n",
              "      <td>2016-03-26 13:38:10</td>\n",
              "      <td>1</td>\n",
              "      <td>-73.973053</td>\n",
              "      <td>40.793209</td>\n",
              "      <td>-73.972923</td>\n",
              "      <td>40.782520</td>\n",
              "      <td>435</td>\n",
              "      <td>1.188962</td>\n",
              "      <td>1</td>\n",
              "      <td>0</td>\n",
              "      <td>0</td>\n",
              "      <td>0</td>\n",
              "      <td>1</td>\n",
              "      <td>0</td>\n",
              "      <td>0</td>\n",
              "      <td>0</td>\n",
              "      <td>0</td>\n",
              "      <td>9.839682</td>\n",
              "    </tr>\n",
              "  </tbody>\n",
              "</table>\n",
              "</div>"
            ],
            "text/plain": [
              "          id  vendor_id  ... DayOfWeek_Wednesday      speed\n",
              "0  id2875421          2  ...                   0  11.860150\n",
              "1  id2377394          1  ...                   0   9.806736\n",
              "2  id3858529          2  ...                   0  10.825598\n",
              "3  id3504673          2  ...                   1  12.469634\n",
              "4  id2181028          2  ...                   0   9.839682\n",
              "\n",
              "[5 rows x 21 columns]"
            ]
          },
          "metadata": {
            "tags": []
          },
          "execution_count": 58
        }
      ]
    },
    {
      "cell_type": "code",
      "metadata": {
        "colab": {
          "base_uri": "https://localhost:8080/",
          "height": 499
        },
        "id": "99dpCl3sL5T5",
        "outputId": "2b40f8b7-763a-46a1-8bf8-bad2a0f7fedc"
      },
      "source": [
        "plt.figure(figsize=(15,8))\r\n",
        "plt.title(\"Box plot of  distance \")\r\n",
        "ax = sns.boxplot(data=df_new['speed'], orient=\"v\")"
      ],
      "execution_count": null,
      "outputs": [
        {
          "output_type": "display_data",
          "data": {
            "image/png": "[encoded data removed]",
            "text/plain": [
              "<Figure size 1080x576 with 1 Axes>"
            ]
          },
          "metadata": {
            "tags": [],
            "needs_background": "light"
          }
        }
      ]
    },
    {
      "cell_type": "markdown",
      "metadata": {
        "id": "7I_XmlU_M1Od"
      },
      "source": [
        "Now let's remove the outliers based on speed"
      ]
    },
    {
      "cell_type": "code",
      "metadata": {
        "colab": {
          "base_uri": "https://localhost:8080/"
        },
        "id": "BJ3TN_D3Mt61",
        "outputId": "625196e2-92be-4ef5-c310-e84f5199167d"
      },
      "source": [
        "df['speed'].describe()"
      ],
      "execution_count": 72,
      "outputs": [
        {
          "output_type": "execute_result",
          "data": {
            "text/plain": [
              "count    1.333910e+06\n",
              "mean     8.534848e+00\n",
              "std      4.452666e+00\n",
              "min      1.665530e-05\n",
              "25%      5.555519e+00\n",
              "50%      7.701833e+00\n",
              "75%      1.059701e+01\n",
              "max      5.760280e+02\n",
              "Name: speed, dtype: float64"
            ]
          },
          "metadata": {
            "tags": []
          },
          "execution_count": 72
        }
      ]
    },
    {
      "cell_type": "markdown",
      "metadata": {
        "id": "SBx_yFZSV0x4"
      },
      "source": [
        "#Linear Regression"
      ]
    },
    {
      "cell_type": "markdown",
      "metadata": {
        "id": "HrBNDbO1V4re"
      },
      "source": [
        "To perfroming linear regression we knoe there are assumptions. Given below are the basic assumptions that a linear regression model makes regarding a dataset on which it is applied:\r\n",
        "\r\n",
        "* **Linear relationship**: Relationship between response and feature variables should be linear. The linearity assumption can be tested using scatter plots.\r\n",
        "* **Little or no multi-collinearity**: It is assumed that there is little or no multicollinearity in the data. Multicollinearity occurs when the features (or independent variables) are not independent from each other.\r\n",
        "* **Little or no auto-correlation**: Another assumption is that there is little or no autocorrelation in the data. Autocorrelation occurs when the residual errors are not independent from each other.\r\n",
        "* **Homoscedasticity**: Homoscedasticity describes a situation in which the error term (that is, the “noise” or random disturbance in the relationship between the independent variables and the dependent variable) is the same across all values of the independent variables."
      ]
    },
    {
      "cell_type": "markdown",
      "metadata": {
        "id": "Y5oGm3RKcGA1"
      },
      "source": [
        "***So keeping that in mind let's do our linear regression task. Firstly we will check the linear relationship or our dependent(trip_duration_hours) and independent variables***"
      ]
    },
    {
      "cell_type": "code",
      "metadata": {
        "colab": {
          "base_uri": "https://localhost:8080/",
          "height": 441
        },
        "id": "oEApYlHOdp2M",
        "outputId": "3a4699ab-5e47-4420-e764-630ff76d3107"
      },
      "source": [
        "df.corr()"
      ],
      "execution_count": 73,
      "outputs": [
        {
          "output_type": "execute_result",
          "data": {
            "text/html": [
              "<div>\n",
              "<style scoped>\n",
              "    .dataframe tbody tr th:only-of-type {\n",
              "        vertical-align: middle;\n",
              "    }\n",
              "\n",
              "    .dataframe tbody tr th {\n",
              "        vertical-align: top;\n",
              "    }\n",
              "\n",
              "    .dataframe thead th {\n",
              "        text-align: right;\n",
              "    }\n",
              "</style>\n",
              "<table border=\"1\" class=\"dataframe\">\n",
              "  <thead>\n",
              "    <tr style=\"text-align: right;\">\n",
              "      <th></th>\n",
              "      <th>vendor_id</th>\n",
              "      <th>passenger_count</th>\n",
              "      <th>pickup_longitude</th>\n",
              "      <th>pickup_latitude</th>\n",
              "      <th>dropoff_longitude</th>\n",
              "      <th>dropoff_latitude</th>\n",
              "      <th>trip_duration</th>\n",
              "      <th>distance</th>\n",
              "      <th>trip_duration_hour</th>\n",
              "      <th>speed</th>\n",
              "      <th>log_distance</th>\n",
              "      <th>log_trip_duration</th>\n",
              "    </tr>\n",
              "  </thead>\n",
              "  <tbody>\n",
              "    <tr>\n",
              "      <th>vendor_id</th>\n",
              "      <td>1.000000</td>\n",
              "      <td>0.280889</td>\n",
              "      <td>0.004012</td>\n",
              "      <td>0.010263</td>\n",
              "      <td>-0.004124</td>\n",
              "      <td>0.008342</td>\n",
              "      <td>0.022144</td>\n",
              "      <td>-0.012039</td>\n",
              "      <td>0.022144</td>\n",
              "      <td>-0.004367</td>\n",
              "      <td>-0.002713</td>\n",
              "      <td>0.003209</td>\n",
              "    </tr>\n",
              "    <tr>\n",
              "      <th>passenger_count</th>\n",
              "      <td>0.280889</td>\n",
              "      <td>1.000000</td>\n",
              "      <td>-0.028387</td>\n",
              "      <td>-0.002807</td>\n",
              "      <td>-0.032396</td>\n",
              "      <td>0.002610</td>\n",
              "      <td>-0.009943</td>\n",
              "      <td>-0.044707</td>\n",
              "      <td>-0.009943</td>\n",
              "      <td>-0.027696</td>\n",
              "      <td>-0.024518</td>\n",
              "      <td>-0.013859</td>\n",
              "    </tr>\n",
              "    <tr>\n",
              "      <th>pickup_longitude</th>\n",
              "      <td>0.004012</td>\n",
              "      <td>-0.028387</td>\n",
              "      <td>1.000000</td>\n",
              "      <td>0.594088</td>\n",
              "      <td>0.292963</td>\n",
              "      <td>0.277891</td>\n",
              "      <td>0.000509</td>\n",
              "      <td>0.149670</td>\n",
              "      <td>0.000509</td>\n",
              "      <td>0.141949</td>\n",
              "      <td>0.077024</td>\n",
              "      <td>0.001227</td>\n",
              "    </tr>\n",
              "    <tr>\n",
              "      <th>pickup_latitude</th>\n",
              "      <td>0.010263</td>\n",
              "      <td>-0.002807</td>\n",
              "      <td>0.594088</td>\n",
              "      <td>1.000000</td>\n",
              "      <td>0.259512</td>\n",
              "      <td>0.512300</td>\n",
              "      <td>-0.012843</td>\n",
              "      <td>-0.060236</td>\n",
              "      <td>-0.012843</td>\n",
              "      <td>0.035196</td>\n",
              "      <td>-0.057500</td>\n",
              "      <td>-0.089925</td>\n",
              "    </tr>\n",
              "    <tr>\n",
              "      <th>dropoff_longitude</th>\n",
              "      <td>-0.004124</td>\n",
              "      <td>-0.032396</td>\n",
              "      <td>0.292963</td>\n",
              "      <td>0.259512</td>\n",
              "      <td>1.000000</td>\n",
              "      <td>0.483422</td>\n",
              "      <td>0.009150</td>\n",
              "      <td>0.256882</td>\n",
              "      <td>0.009150</td>\n",
              "      <td>0.218729</td>\n",
              "      <td>0.175440</td>\n",
              "      <td>0.059087</td>\n",
              "    </tr>\n",
              "    <tr>\n",
              "      <th>dropoff_latitude</th>\n",
              "      <td>0.008342</td>\n",
              "      <td>0.002610</td>\n",
              "      <td>0.277891</td>\n",
              "      <td>0.512300</td>\n",
              "      <td>0.483422</td>\n",
              "      <td>1.000000</td>\n",
              "      <td>-0.016757</td>\n",
              "      <td>-0.052777</td>\n",
              "      <td>-0.016757</td>\n",
              "      <td>0.093982</td>\n",
              "      <td>-0.046573</td>\n",
              "      <td>-0.109475</td>\n",
              "    </tr>\n",
              "    <tr>\n",
              "      <th>trip_duration</th>\n",
              "      <td>0.022144</td>\n",
              "      <td>-0.009943</td>\n",
              "      <td>0.000509</td>\n",
              "      <td>-0.012843</td>\n",
              "      <td>0.009150</td>\n",
              "      <td>-0.016757</td>\n",
              "      <td>1.000000</td>\n",
              "      <td>0.092142</td>\n",
              "      <td>1.000000</td>\n",
              "      <td>-0.067911</td>\n",
              "      <td>0.091896</td>\n",
              "      <td>0.305534</td>\n",
              "    </tr>\n",
              "    <tr>\n",
              "      <th>distance</th>\n",
              "      <td>-0.012039</td>\n",
              "      <td>-0.044707</td>\n",
              "      <td>0.149670</td>\n",
              "      <td>-0.060236</td>\n",
              "      <td>0.256882</td>\n",
              "      <td>-0.052777</td>\n",
              "      <td>0.092142</td>\n",
              "      <td>1.000000</td>\n",
              "      <td>0.092142</td>\n",
              "      <td>0.494438</td>\n",
              "      <td>0.845385</td>\n",
              "      <td>0.614004</td>\n",
              "    </tr>\n",
              "    <tr>\n",
              "      <th>trip_duration_hour</th>\n",
              "      <td>0.022144</td>\n",
              "      <td>-0.009943</td>\n",
              "      <td>0.000509</td>\n",
              "      <td>-0.012843</td>\n",
              "      <td>0.009150</td>\n",
              "      <td>-0.016757</td>\n",
              "      <td>1.000000</td>\n",
              "      <td>0.092142</td>\n",
              "      <td>1.000000</td>\n",
              "      <td>-0.067911</td>\n",
              "      <td>0.091896</td>\n",
              "      <td>0.305534</td>\n",
              "    </tr>\n",
              "    <tr>\n",
              "      <th>speed</th>\n",
              "      <td>-0.004367</td>\n",
              "      <td>-0.027696</td>\n",
              "      <td>0.141949</td>\n",
              "      <td>0.035196</td>\n",
              "      <td>0.218729</td>\n",
              "      <td>0.093982</td>\n",
              "      <td>-0.067911</td>\n",
              "      <td>0.494438</td>\n",
              "      <td>-0.067911</td>\n",
              "      <td>1.000000</td>\n",
              "      <td>0.435492</td>\n",
              "      <td>-0.183561</td>\n",
              "    </tr>\n",
              "    <tr>\n",
              "      <th>log_distance</th>\n",
              "      <td>-0.002713</td>\n",
              "      <td>-0.024518</td>\n",
              "      <td>0.077024</td>\n",
              "      <td>-0.057500</td>\n",
              "      <td>0.175440</td>\n",
              "      <td>-0.046573</td>\n",
              "      <td>0.091896</td>\n",
              "      <td>0.845385</td>\n",
              "      <td>0.091896</td>\n",
              "      <td>0.435492</td>\n",
              "      <td>1.000000</td>\n",
              "      <td>0.728734</td>\n",
              "    </tr>\n",
              "    <tr>\n",
              "      <th>log_trip_duration</th>\n",
              "      <td>0.003209</td>\n",
              "      <td>-0.013859</td>\n",
              "      <td>0.001227</td>\n",
              "      <td>-0.089925</td>\n",
              "      <td>0.059087</td>\n",
              "      <td>-0.109475</td>\n",
              "      <td>0.305534</td>\n",
              "      <td>0.614004</td>\n",
              "      <td>0.305534</td>\n",
              "      <td>-0.183561</td>\n",
              "      <td>0.728734</td>\n",
              "      <td>1.000000</td>\n",
              "    </tr>\n",
              "  </tbody>\n",
              "</table>\n",
              "</div>"
            ],
            "text/plain": [
              "                    vendor_id  passenger_count  ...  log_distance  log_trip_duration\n",
              "vendor_id            1.000000         0.280889  ...     -0.002713           0.003209\n",
              "passenger_count      0.280889         1.000000  ...     -0.024518          -0.013859\n",
              "pickup_longitude     0.004012        -0.028387  ...      0.077024           0.001227\n",
              "pickup_latitude      0.010263        -0.002807  ...     -0.057500          -0.089925\n",
              "dropoff_longitude   -0.004124        -0.032396  ...      0.175440           0.059087\n",
              "dropoff_latitude     0.008342         0.002610  ...     -0.046573          -0.109475\n",
              "trip_duration        0.022144        -0.009943  ...      0.091896           0.305534\n",
              "distance            -0.012039        -0.044707  ...      0.845385           0.614004\n",
              "trip_duration_hour   0.022144        -0.009943  ...      0.091896           0.305534\n",
              "speed               -0.004367        -0.027696  ...      0.435492          -0.183561\n",
              "log_distance        -0.002713        -0.024518  ...      1.000000           0.728734\n",
              "log_trip_duration    0.003209        -0.013859  ...      0.728734           1.000000\n",
              "\n",
              "[12 rows x 12 columns]"
            ]
          },
          "metadata": {
            "tags": []
          },
          "execution_count": 73
        }
      ]
    },
    {
      "cell_type": "code",
      "metadata": {
        "id": "061d3zbnN-RK"
      },
      "source": [
        "# One-hot encoding\r\n",
        "data2=pd.get_dummies(data2,columns=['store_and_fwd_flag','pickup_day','dropoff_day','pickup_month','dropoff_month','pickup_timezone', 'dropoff_timezone'])"
      ],
      "execution_count": null,
      "outputs": []
    }
  ]
}