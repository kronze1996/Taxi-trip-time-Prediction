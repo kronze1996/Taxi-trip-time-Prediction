{
  "nbformat": 4,
  "nbformat_minor": 0,
  "metadata": {
    "kernelspec": {
      "display_name": "Python 3",
      "language": "python",
      "name": "python3"
    },
    "language_info": {
      "codemirror_mode": {
        "name": "ipython",
        "version": 3
      },
      "file_extension": ".py",
      "mimetype": "text/x-python",
      "name": "python",
      "nbconvert_exporter": "python",
      "pygments_lexer": "ipython3",
      "version": "3.6.6"
    },
    "colab": {
      "name": "Kartikey Sharma - Team 3 - Capstone Project 2.ipynb",
      "provenance": [],
      "collapsed_sections": [],
      "include_colab_link": true
    }
  },
  "cells": [
    {
      "cell_type": "markdown",
      "metadata": {
        "id": "view-in-github",
        "colab_type": "text"
      },
      "source": [
        "<a href=\"https://colab.research.google.com/github/kronze1996/Taxi-trip-time-Prediction/blob/main/Kartikey_Sharma_Team_3_Capstone_Project_2.ipynb\" target=\"_parent\"><img src=\"https://colab.research.google.com/assets/colab-badge.svg\" alt=\"Open In Colab\"/></a>"
      ]
    },
    {
      "cell_type": "markdown",
      "metadata": {
        "id": "tOGC-qoyhJeX"
      },
      "source": [
        "# <b><u> Project Title : Taxi trip time Prediction : Predicting total ride duration of taxi trips in New York City</u></b>"
      ]
    },
    {
      "cell_type": "markdown",
      "metadata": {
        "id": "Y06xIdG26kRF"
      },
      "source": [
        "## <b> Problem Description </b>\n",
        "\n",
        "### Your task is to build a model that predicts the total ride duration of taxi trips in New York City. Your primary dataset is one released by the NYC Taxi and Limousine Commission, which includes pickup time, geo-coordinates, number of passengers, and several other variables."
      ]
    },
    {
      "cell_type": "markdown",
      "metadata": {
        "id": "WWeU1f9bwqQq"
      },
      "source": [
        "## <b> Data Description </b>\r\n",
        "\r\n",
        "### The dataset is based on the 2016 NYC Yellow Cab trip record data made available in Big Query on Google Cloud Platform. The data was originally published by the NYC Taxi and Limousine Commission (TLC). The data was sampled and cleaned for the purposes of this project. Based on individual trip attributes, you should predict the duration of each trip in the test set.\r\n",
        "\r\n",
        "### <b>NYC Taxi Data.csv</b> - the training set (contains 1458644 trip records)\r\n",
        "\r\n",
        "\r\n",
        "### Data fields\r\n",
        "* #### id - a unique identifier for each trip\r\n",
        "* #### vendor_id - a code indicating the provider associated with the trip record\r\n",
        "* #### pickup_datetime - date and time when the meter was engaged\r\n",
        "* #### dropoff_datetime - date and time when the meter was disengaged\r\n",
        "* #### passenger_count - the number of passengers in the vehicle (driver entered value)\r\n",
        "* #### pickup_longitude - the longitude where the meter was engaged\r\n",
        "* #### pickup_latitude - the latitude where the meter was engaged\r\n",
        "* #### dropoff_longitude - the longitude where the meter was disengaged\r\n",
        "* #### dropoff_latitude - the latitude where the meter was disengaged\r\n",
        "* #### store_and_fwd_flag - This flag indicates whether the trip record was held in vehicle memory before sending to the vendor because the vehicle did not have a connection to the server - Y=store and forward; N=not a store and forward trip\r\n",
        "* #### trip_duration - duration of the trip in seconds"
      ]
    },
    {
      "cell_type": "code",
      "metadata": {
        "colab": {
          "base_uri": "https://localhost:8080/"
        },
        "id": "UtfKasQ7HJdR",
        "outputId": "d9e90aaf-1f79-42f7-b91c-1ff3c1ca8cd7"
      },
      "source": [
        "from google.colab import drive\n",
        "drive.mount('/content/drive')"
      ],
      "execution_count": 2,
      "outputs": [
        {
          "output_type": "stream",
          "text": [
            "Mounted at /content/drive\n"
          ],
          "name": "stdout"
        }
      ]
    },
    {
      "cell_type": "markdown",
      "metadata": {
        "id": "mKQc5MRtJEZj"
      },
      "source": [
        "#Exploratory Data Analysis"
      ]
    },
    {
      "cell_type": "markdown",
      "metadata": {
        "id": "ETccr0S4JNS-"
      },
      "source": [
        "Let's first import all the libraries we will need and fetch the data."
      ]
    },
    {
      "cell_type": "code",
      "metadata": {
        "id": "dByMsuzT8Tnw"
      },
      "source": [
        "# Importing the libraries\r\n",
        "import pandas as pd\r\n",
        "import numpy as np\r\n",
        "import matplotlib.pyplot as plt\r\n",
        "import seaborn as sns\r\n",
        "\r\n",
        "from sklearn.model_selection import train_test_split\r\n",
        "from sklearn.preprocessing import OneHotEncoder\r\n",
        "from sklearn.model_selection import GridSearchCV\r\n",
        "from sklearn.model_selection import RandomizedSearchCV\r\n",
        "from sklearn.model_selection import train_test_split\r\n",
        "from sklearn.metrics import accuracy_score, auc\r\n",
        "from sklearn.tree import DecisionTreeClassifier\r\n",
        "from sklearn import ensemble\r\n",
        "\r\n",
        "from sklearn.preprocessing import MinMaxScaler\r\n",
        "from sklearn.linear_model import LinearRegression\r\n",
        "from sklearn.metrics import r2_score\r\n",
        "from sklearn.metrics import mean_squared_error\r\n",
        "import seaborn as sns\r\n",
        "import matplotlib.pyplot as plt\r\n",
        "import warnings\r\n",
        "warnings.filterwarnings('ignore')"
      ],
      "execution_count": 3,
      "outputs": []
    },
    {
      "cell_type": "markdown",
      "metadata": {
        "id": "66zfgM9ZJdK_"
      },
      "source": [
        "Reading the dataset we have."
      ]
    },
    {
      "cell_type": "code",
      "metadata": {
        "id": "nFk_T_bVHJ0P"
      },
      "source": [
        "path = \"/content/drive/MyDrive/AlmaBetter/Cohort Aravali/Module 4/Week 1/NYC Taxi Data.csv\"\r\n",
        "df = pd.read_csv(path)"
      ],
      "execution_count": 4,
      "outputs": []
    },
    {
      "cell_type": "code",
      "metadata": {
        "colab": {
          "base_uri": "https://localhost:8080/",
          "height": 309
        },
        "id": "SaBgSjpCHxa5",
        "outputId": "64692f63-7e37-4f77-a754-218413df8fe3"
      },
      "source": [
        "df.head()"
      ],
      "execution_count": 5,
      "outputs": [
        {
          "output_type": "execute_result",
          "data": {
            "text/html": [
              "<div>\n",
              "<style scoped>\n",
              "    .dataframe tbody tr th:only-of-type {\n",
              "        vertical-align: middle;\n",
              "    }\n",
              "\n",
              "    .dataframe tbody tr th {\n",
              "        vertical-align: top;\n",
              "    }\n",
              "\n",
              "    .dataframe thead th {\n",
              "        text-align: right;\n",
              "    }\n",
              "</style>\n",
              "<table border=\"1\" class=\"dataframe\">\n",
              "  <thead>\n",
              "    <tr style=\"text-align: right;\">\n",
              "      <th></th>\n",
              "      <th>id</th>\n",
              "      <th>vendor_id</th>\n",
              "      <th>pickup_datetime</th>\n",
              "      <th>dropoff_datetime</th>\n",
              "      <th>passenger_count</th>\n",
              "      <th>pickup_longitude</th>\n",
              "      <th>pickup_latitude</th>\n",
              "      <th>dropoff_longitude</th>\n",
              "      <th>dropoff_latitude</th>\n",
              "      <th>store_and_fwd_flag</th>\n",
              "      <th>trip_duration</th>\n",
              "    </tr>\n",
              "  </thead>\n",
              "  <tbody>\n",
              "    <tr>\n",
              "      <th>0</th>\n",
              "      <td>id2875421</td>\n",
              "      <td>2</td>\n",
              "      <td>2016-03-14 17:24:55</td>\n",
              "      <td>2016-03-14 17:32:30</td>\n",
              "      <td>1</td>\n",
              "      <td>-73.982155</td>\n",
              "      <td>40.767937</td>\n",
              "      <td>-73.964630</td>\n",
              "      <td>40.765602</td>\n",
              "      <td>N</td>\n",
              "      <td>455</td>\n",
              "    </tr>\n",
              "    <tr>\n",
              "      <th>1</th>\n",
              "      <td>id2377394</td>\n",
              "      <td>1</td>\n",
              "      <td>2016-06-12 00:43:35</td>\n",
              "      <td>2016-06-12 00:54:38</td>\n",
              "      <td>1</td>\n",
              "      <td>-73.980415</td>\n",
              "      <td>40.738564</td>\n",
              "      <td>-73.999481</td>\n",
              "      <td>40.731152</td>\n",
              "      <td>N</td>\n",
              "      <td>663</td>\n",
              "    </tr>\n",
              "    <tr>\n",
              "      <th>2</th>\n",
              "      <td>id3858529</td>\n",
              "      <td>2</td>\n",
              "      <td>2016-01-19 11:35:24</td>\n",
              "      <td>2016-01-19 12:10:48</td>\n",
              "      <td>1</td>\n",
              "      <td>-73.979027</td>\n",
              "      <td>40.763939</td>\n",
              "      <td>-74.005333</td>\n",
              "      <td>40.710087</td>\n",
              "      <td>N</td>\n",
              "      <td>2124</td>\n",
              "    </tr>\n",
              "    <tr>\n",
              "      <th>3</th>\n",
              "      <td>id3504673</td>\n",
              "      <td>2</td>\n",
              "      <td>2016-04-06 19:32:31</td>\n",
              "      <td>2016-04-06 19:39:40</td>\n",
              "      <td>1</td>\n",
              "      <td>-74.010040</td>\n",
              "      <td>40.719971</td>\n",
              "      <td>-74.012268</td>\n",
              "      <td>40.706718</td>\n",
              "      <td>N</td>\n",
              "      <td>429</td>\n",
              "    </tr>\n",
              "    <tr>\n",
              "      <th>4</th>\n",
              "      <td>id2181028</td>\n",
              "      <td>2</td>\n",
              "      <td>2016-03-26 13:30:55</td>\n",
              "      <td>2016-03-26 13:38:10</td>\n",
              "      <td>1</td>\n",
              "      <td>-73.973053</td>\n",
              "      <td>40.793209</td>\n",
              "      <td>-73.972923</td>\n",
              "      <td>40.782520</td>\n",
              "      <td>N</td>\n",
              "      <td>435</td>\n",
              "    </tr>\n",
              "  </tbody>\n",
              "</table>\n",
              "</div>"
            ],
            "text/plain": [
              "          id  vendor_id  ... store_and_fwd_flag trip_duration\n",
              "0  id2875421          2  ...                  N           455\n",
              "1  id2377394          1  ...                  N           663\n",
              "2  id3858529          2  ...                  N          2124\n",
              "3  id3504673          2  ...                  N           429\n",
              "4  id2181028          2  ...                  N           435\n",
              "\n",
              "[5 rows x 11 columns]"
            ]
          },
          "metadata": {
            "tags": []
          },
          "execution_count": 5
        }
      ]
    },
    {
      "cell_type": "code",
      "metadata": {
        "colab": {
          "base_uri": "https://localhost:8080/",
          "height": 1000
        },
        "id": "tsiDKI3JQ_ck",
        "outputId": "07bf9b3f-ee2d-42ca-fb2b-72e774458d6c"
      },
      "source": [
        "df[df['passenger_count']==0]"
      ],
      "execution_count": 6,
      "outputs": [
        {
          "output_type": "execute_result",
          "data": {
            "text/html": [
              "<div>\n",
              "<style scoped>\n",
              "    .dataframe tbody tr th:only-of-type {\n",
              "        vertical-align: middle;\n",
              "    }\n",
              "\n",
              "    .dataframe tbody tr th {\n",
              "        vertical-align: top;\n",
              "    }\n",
              "\n",
              "    .dataframe thead th {\n",
              "        text-align: right;\n",
              "    }\n",
              "</style>\n",
              "<table border=\"1\" class=\"dataframe\">\n",
              "  <thead>\n",
              "    <tr style=\"text-align: right;\">\n",
              "      <th></th>\n",
              "      <th>id</th>\n",
              "      <th>vendor_id</th>\n",
              "      <th>pickup_datetime</th>\n",
              "      <th>dropoff_datetime</th>\n",
              "      <th>passenger_count</th>\n",
              "      <th>pickup_longitude</th>\n",
              "      <th>pickup_latitude</th>\n",
              "      <th>dropoff_longitude</th>\n",
              "      <th>dropoff_latitude</th>\n",
              "      <th>store_and_fwd_flag</th>\n",
              "      <th>trip_duration</th>\n",
              "    </tr>\n",
              "  </thead>\n",
              "  <tbody>\n",
              "    <tr>\n",
              "      <th>62744</th>\n",
              "      <td>id3917283</td>\n",
              "      <td>2</td>\n",
              "      <td>2016-06-06 16:39:09</td>\n",
              "      <td>2016-06-07 16:30:50</td>\n",
              "      <td>0</td>\n",
              "      <td>-73.776367</td>\n",
              "      <td>40.645248</td>\n",
              "      <td>-73.776360</td>\n",
              "      <td>40.645260</td>\n",
              "      <td>N</td>\n",
              "      <td>85901</td>\n",
              "    </tr>\n",
              "    <tr>\n",
              "      <th>136519</th>\n",
              "      <td>id3645383</td>\n",
              "      <td>2</td>\n",
              "      <td>2016-01-01 05:01:32</td>\n",
              "      <td>2016-01-01 05:01:36</td>\n",
              "      <td>0</td>\n",
              "      <td>-73.993134</td>\n",
              "      <td>40.757473</td>\n",
              "      <td>-73.993294</td>\n",
              "      <td>40.757538</td>\n",
              "      <td>N</td>\n",
              "      <td>4</td>\n",
              "    </tr>\n",
              "    <tr>\n",
              "      <th>194288</th>\n",
              "      <td>id2840829</td>\n",
              "      <td>2</td>\n",
              "      <td>2016-02-21 01:33:52</td>\n",
              "      <td>2016-02-21 01:36:27</td>\n",
              "      <td>0</td>\n",
              "      <td>-73.946243</td>\n",
              "      <td>40.772903</td>\n",
              "      <td>-73.946770</td>\n",
              "      <td>40.774841</td>\n",
              "      <td>N</td>\n",
              "      <td>155</td>\n",
              "    </tr>\n",
              "    <tr>\n",
              "      <th>217765</th>\n",
              "      <td>id3762593</td>\n",
              "      <td>1</td>\n",
              "      <td>2016-01-04 12:24:17</td>\n",
              "      <td>2016-01-04 13:01:48</td>\n",
              "      <td>0</td>\n",
              "      <td>-73.815224</td>\n",
              "      <td>40.700081</td>\n",
              "      <td>-73.950699</td>\n",
              "      <td>40.755222</td>\n",
              "      <td>N</td>\n",
              "      <td>2251</td>\n",
              "    </tr>\n",
              "    <tr>\n",
              "      <th>263809</th>\n",
              "      <td>id2154895</td>\n",
              "      <td>1</td>\n",
              "      <td>2016-05-23 23:37:37</td>\n",
              "      <td>2016-05-23 23:37:45</td>\n",
              "      <td>0</td>\n",
              "      <td>-73.861633</td>\n",
              "      <td>40.705029</td>\n",
              "      <td>-73.861633</td>\n",
              "      <td>40.705029</td>\n",
              "      <td>N</td>\n",
              "      <td>8</td>\n",
              "    </tr>\n",
              "    <tr>\n",
              "      <th>278290</th>\n",
              "      <td>id0796773</td>\n",
              "      <td>1</td>\n",
              "      <td>2016-02-07 17:23:48</td>\n",
              "      <td>2016-02-07 17:23:57</td>\n",
              "      <td>0</td>\n",
              "      <td>-73.954941</td>\n",
              "      <td>40.687866</td>\n",
              "      <td>-73.954742</td>\n",
              "      <td>40.687862</td>\n",
              "      <td>N</td>\n",
              "      <td>9</td>\n",
              "    </tr>\n",
              "    <tr>\n",
              "      <th>301600</th>\n",
              "      <td>id2091096</td>\n",
              "      <td>2</td>\n",
              "      <td>2016-01-01 23:52:46</td>\n",
              "      <td>2016-01-02 00:27:18</td>\n",
              "      <td>0</td>\n",
              "      <td>-73.993652</td>\n",
              "      <td>40.757046</td>\n",
              "      <td>-73.918869</td>\n",
              "      <td>40.757793</td>\n",
              "      <td>N</td>\n",
              "      <td>2072</td>\n",
              "    </tr>\n",
              "    <tr>\n",
              "      <th>303133</th>\n",
              "      <td>id0414625</td>\n",
              "      <td>2</td>\n",
              "      <td>2016-01-05 18:52:20</td>\n",
              "      <td>2016-01-05 18:52:35</td>\n",
              "      <td>0</td>\n",
              "      <td>-73.985291</td>\n",
              "      <td>40.738335</td>\n",
              "      <td>-73.985352</td>\n",
              "      <td>40.738361</td>\n",
              "      <td>N</td>\n",
              "      <td>15</td>\n",
              "    </tr>\n",
              "    <tr>\n",
              "      <th>337809</th>\n",
              "      <td>id0271506</td>\n",
              "      <td>2</td>\n",
              "      <td>2016-05-22 00:23:15</td>\n",
              "      <td>2016-05-22 00:23:56</td>\n",
              "      <td>0</td>\n",
              "      <td>-73.956718</td>\n",
              "      <td>40.777142</td>\n",
              "      <td>-73.956764</td>\n",
              "      <td>40.776958</td>\n",
              "      <td>N</td>\n",
              "      <td>41</td>\n",
              "    </tr>\n",
              "    <tr>\n",
              "      <th>375972</th>\n",
              "      <td>id3176865</td>\n",
              "      <td>2</td>\n",
              "      <td>2016-05-31 05:10:23</td>\n",
              "      <td>2016-05-31 05:10:38</td>\n",
              "      <td>0</td>\n",
              "      <td>-73.982468</td>\n",
              "      <td>40.727974</td>\n",
              "      <td>-73.982468</td>\n",
              "      <td>40.728001</td>\n",
              "      <td>N</td>\n",
              "      <td>15</td>\n",
              "    </tr>\n",
              "    <tr>\n",
              "      <th>383407</th>\n",
              "      <td>id3493269</td>\n",
              "      <td>2</td>\n",
              "      <td>2016-01-14 19:09:41</td>\n",
              "      <td>2016-01-14 19:09:48</td>\n",
              "      <td>0</td>\n",
              "      <td>-73.904709</td>\n",
              "      <td>40.758099</td>\n",
              "      <td>-73.904716</td>\n",
              "      <td>40.758148</td>\n",
              "      <td>N</td>\n",
              "      <td>7</td>\n",
              "    </tr>\n",
              "    <tr>\n",
              "      <th>412172</th>\n",
              "      <td>id2247129</td>\n",
              "      <td>2</td>\n",
              "      <td>2016-01-13 11:50:12</td>\n",
              "      <td>2016-01-13 12:16:08</td>\n",
              "      <td>0</td>\n",
              "      <td>-73.965027</td>\n",
              "      <td>40.775269</td>\n",
              "      <td>-73.973450</td>\n",
              "      <td>40.840618</td>\n",
              "      <td>N</td>\n",
              "      <td>1556</td>\n",
              "    </tr>\n",
              "    <tr>\n",
              "      <th>415843</th>\n",
              "      <td>id1794493</td>\n",
              "      <td>2</td>\n",
              "      <td>2016-03-20 01:25:42</td>\n",
              "      <td>2016-03-20 01:26:04</td>\n",
              "      <td>0</td>\n",
              "      <td>-73.995094</td>\n",
              "      <td>40.760296</td>\n",
              "      <td>-73.995064</td>\n",
              "      <td>40.760284</td>\n",
              "      <td>N</td>\n",
              "      <td>22</td>\n",
              "    </tr>\n",
              "    <tr>\n",
              "      <th>437735</th>\n",
              "      <td>id2891366</td>\n",
              "      <td>1</td>\n",
              "      <td>2016-02-18 21:26:15</td>\n",
              "      <td>2016-02-18 21:28:00</td>\n",
              "      <td>0</td>\n",
              "      <td>-73.983543</td>\n",
              "      <td>40.716404</td>\n",
              "      <td>-73.983543</td>\n",
              "      <td>40.716404</td>\n",
              "      <td>N</td>\n",
              "      <td>105</td>\n",
              "    </tr>\n",
              "    <tr>\n",
              "      <th>447838</th>\n",
              "      <td>id1253169</td>\n",
              "      <td>1</td>\n",
              "      <td>2016-02-28 01:08:48</td>\n",
              "      <td>2016-02-28 01:09:01</td>\n",
              "      <td>0</td>\n",
              "      <td>-74.035942</td>\n",
              "      <td>40.736488</td>\n",
              "      <td>-74.035942</td>\n",
              "      <td>40.736492</td>\n",
              "      <td>N</td>\n",
              "      <td>13</td>\n",
              "    </tr>\n",
              "    <tr>\n",
              "      <th>521316</th>\n",
              "      <td>id2571672</td>\n",
              "      <td>1</td>\n",
              "      <td>2016-03-06 05:24:55</td>\n",
              "      <td>2016-03-06 05:25:00</td>\n",
              "      <td>0</td>\n",
              "      <td>-73.979698</td>\n",
              "      <td>40.761196</td>\n",
              "      <td>-73.979698</td>\n",
              "      <td>40.761196</td>\n",
              "      <td>Y</td>\n",
              "      <td>5</td>\n",
              "    </tr>\n",
              "    <tr>\n",
              "      <th>553862</th>\n",
              "      <td>id1822284</td>\n",
              "      <td>1</td>\n",
              "      <td>2016-04-10 20:20:43</td>\n",
              "      <td>2016-04-10 20:20:47</td>\n",
              "      <td>0</td>\n",
              "      <td>-73.991020</td>\n",
              "      <td>40.733791</td>\n",
              "      <td>-73.991066</td>\n",
              "      <td>40.733501</td>\n",
              "      <td>N</td>\n",
              "      <td>4</td>\n",
              "    </tr>\n",
              "    <tr>\n",
              "      <th>582469</th>\n",
              "      <td>id0663459</td>\n",
              "      <td>2</td>\n",
              "      <td>2016-06-11 01:24:47</td>\n",
              "      <td>2016-06-11 01:25:36</td>\n",
              "      <td>0</td>\n",
              "      <td>-73.996506</td>\n",
              "      <td>40.644638</td>\n",
              "      <td>-73.996521</td>\n",
              "      <td>40.644650</td>\n",
              "      <td>N</td>\n",
              "      <td>49</td>\n",
              "    </tr>\n",
              "    <tr>\n",
              "      <th>621221</th>\n",
              "      <td>id1039576</td>\n",
              "      <td>1</td>\n",
              "      <td>2016-05-13 12:08:39</td>\n",
              "      <td>2016-05-13 12:08:45</td>\n",
              "      <td>0</td>\n",
              "      <td>-73.801979</td>\n",
              "      <td>40.664188</td>\n",
              "      <td>-73.801888</td>\n",
              "      <td>40.665359</td>\n",
              "      <td>N</td>\n",
              "      <td>6</td>\n",
              "    </tr>\n",
              "    <tr>\n",
              "      <th>649337</th>\n",
              "      <td>id3347660</td>\n",
              "      <td>2</td>\n",
              "      <td>2016-05-29 01:26:30</td>\n",
              "      <td>2016-05-29 01:26:49</td>\n",
              "      <td>0</td>\n",
              "      <td>-73.932732</td>\n",
              "      <td>40.856438</td>\n",
              "      <td>-73.932762</td>\n",
              "      <td>40.856438</td>\n",
              "      <td>N</td>\n",
              "      <td>19</td>\n",
              "    </tr>\n",
              "    <tr>\n",
              "      <th>676906</th>\n",
              "      <td>id0878599</td>\n",
              "      <td>1</td>\n",
              "      <td>2016-01-25 08:46:58</td>\n",
              "      <td>2016-01-25 09:41:01</td>\n",
              "      <td>0</td>\n",
              "      <td>-73.928078</td>\n",
              "      <td>40.736412</td>\n",
              "      <td>-73.985519</td>\n",
              "      <td>40.758972</td>\n",
              "      <td>N</td>\n",
              "      <td>3243</td>\n",
              "    </tr>\n",
              "    <tr>\n",
              "      <th>718163</th>\n",
              "      <td>id1610720</td>\n",
              "      <td>2</td>\n",
              "      <td>2016-03-13 14:08:20</td>\n",
              "      <td>2016-03-13 14:08:28</td>\n",
              "      <td>0</td>\n",
              "      <td>-73.922081</td>\n",
              "      <td>40.636040</td>\n",
              "      <td>-73.922081</td>\n",
              "      <td>40.636040</td>\n",
              "      <td>N</td>\n",
              "      <td>8</td>\n",
              "    </tr>\n",
              "    <tr>\n",
              "      <th>722399</th>\n",
              "      <td>id1593144</td>\n",
              "      <td>1</td>\n",
              "      <td>2016-01-08 21:55:27</td>\n",
              "      <td>2016-01-08 22:01:52</td>\n",
              "      <td>0</td>\n",
              "      <td>-73.980957</td>\n",
              "      <td>40.742142</td>\n",
              "      <td>-73.986122</td>\n",
              "      <td>40.729488</td>\n",
              "      <td>N</td>\n",
              "      <td>385</td>\n",
              "    </tr>\n",
              "    <tr>\n",
              "      <th>727514</th>\n",
              "      <td>id1857858</td>\n",
              "      <td>2</td>\n",
              "      <td>2016-01-09 01:53:24</td>\n",
              "      <td>2016-01-09 01:53:26</td>\n",
              "      <td>0</td>\n",
              "      <td>-73.956123</td>\n",
              "      <td>40.668156</td>\n",
              "      <td>-73.956085</td>\n",
              "      <td>40.668110</td>\n",
              "      <td>N</td>\n",
              "      <td>2</td>\n",
              "    </tr>\n",
              "    <tr>\n",
              "      <th>776276</th>\n",
              "      <td>id3066152</td>\n",
              "      <td>1</td>\n",
              "      <td>2016-02-01 00:27:13</td>\n",
              "      <td>2016-02-01 00:27:58</td>\n",
              "      <td>0</td>\n",
              "      <td>-74.014488</td>\n",
              "      <td>40.708229</td>\n",
              "      <td>-74.014488</td>\n",
              "      <td>40.708229</td>\n",
              "      <td>N</td>\n",
              "      <td>45</td>\n",
              "    </tr>\n",
              "    <tr>\n",
              "      <th>777319</th>\n",
              "      <td>id3364866</td>\n",
              "      <td>1</td>\n",
              "      <td>2016-02-13 14:04:20</td>\n",
              "      <td>2016-02-13 14:21:29</td>\n",
              "      <td>0</td>\n",
              "      <td>-73.990479</td>\n",
              "      <td>40.742004</td>\n",
              "      <td>-73.989243</td>\n",
              "      <td>40.763680</td>\n",
              "      <td>N</td>\n",
              "      <td>1029</td>\n",
              "    </tr>\n",
              "    <tr>\n",
              "      <th>796361</th>\n",
              "      <td>id3494250</td>\n",
              "      <td>1</td>\n",
              "      <td>2016-04-02 02:32:10</td>\n",
              "      <td>2016-04-02 02:50:51</td>\n",
              "      <td>0</td>\n",
              "      <td>-74.005089</td>\n",
              "      <td>40.729038</td>\n",
              "      <td>-74.032486</td>\n",
              "      <td>40.619579</td>\n",
              "      <td>N</td>\n",
              "      <td>1121</td>\n",
              "    </tr>\n",
              "    <tr>\n",
              "      <th>827485</th>\n",
              "      <td>id2029944</td>\n",
              "      <td>1</td>\n",
              "      <td>2016-03-11 09:38:54</td>\n",
              "      <td>2016-03-11 09:38:57</td>\n",
              "      <td>0</td>\n",
              "      <td>-73.790398</td>\n",
              "      <td>40.655457</td>\n",
              "      <td>-73.790398</td>\n",
              "      <td>40.655457</td>\n",
              "      <td>N</td>\n",
              "      <td>3</td>\n",
              "    </tr>\n",
              "    <tr>\n",
              "      <th>875056</th>\n",
              "      <td>id3533680</td>\n",
              "      <td>1</td>\n",
              "      <td>2016-01-10 04:17:21</td>\n",
              "      <td>2016-01-10 04:17:24</td>\n",
              "      <td>0</td>\n",
              "      <td>-73.993195</td>\n",
              "      <td>40.598701</td>\n",
              "      <td>-73.993195</td>\n",
              "      <td>40.598701</td>\n",
              "      <td>N</td>\n",
              "      <td>3</td>\n",
              "    </tr>\n",
              "    <tr>\n",
              "      <th>904688</th>\n",
              "      <td>id3563937</td>\n",
              "      <td>1</td>\n",
              "      <td>2016-02-13 16:52:38</td>\n",
              "      <td>2016-02-13 16:57:48</td>\n",
              "      <td>0</td>\n",
              "      <td>-73.962097</td>\n",
              "      <td>40.776146</td>\n",
              "      <td>-73.958160</td>\n",
              "      <td>40.767014</td>\n",
              "      <td>N</td>\n",
              "      <td>310</td>\n",
              "    </tr>\n",
              "    <tr>\n",
              "      <th>911071</th>\n",
              "      <td>id0959777</td>\n",
              "      <td>2</td>\n",
              "      <td>2016-03-01 19:11:26</td>\n",
              "      <td>2016-03-01 19:11:30</td>\n",
              "      <td>0</td>\n",
              "      <td>-74.003777</td>\n",
              "      <td>40.738186</td>\n",
              "      <td>-74.003807</td>\n",
              "      <td>40.738174</td>\n",
              "      <td>N</td>\n",
              "      <td>4</td>\n",
              "    </tr>\n",
              "    <tr>\n",
              "      <th>914211</th>\n",
              "      <td>id1656232</td>\n",
              "      <td>1</td>\n",
              "      <td>2016-04-21 06:04:56</td>\n",
              "      <td>2016-04-21 06:05:18</td>\n",
              "      <td>0</td>\n",
              "      <td>-73.978149</td>\n",
              "      <td>40.750183</td>\n",
              "      <td>-73.978104</td>\n",
              "      <td>40.750477</td>\n",
              "      <td>N</td>\n",
              "      <td>22</td>\n",
              "    </tr>\n",
              "    <tr>\n",
              "      <th>919750</th>\n",
              "      <td>id1880173</td>\n",
              "      <td>1</td>\n",
              "      <td>2016-02-17 21:17:45</td>\n",
              "      <td>2016-02-17 21:27:46</td>\n",
              "      <td>0</td>\n",
              "      <td>-73.976921</td>\n",
              "      <td>40.755753</td>\n",
              "      <td>-73.994186</td>\n",
              "      <td>40.746025</td>\n",
              "      <td>N</td>\n",
              "      <td>601</td>\n",
              "    </tr>\n",
              "    <tr>\n",
              "      <th>921640</th>\n",
              "      <td>id1325601</td>\n",
              "      <td>2</td>\n",
              "      <td>2016-05-05 02:00:31</td>\n",
              "      <td>2016-05-05 02:00:45</td>\n",
              "      <td>0</td>\n",
              "      <td>-73.995796</td>\n",
              "      <td>40.720516</td>\n",
              "      <td>-73.995667</td>\n",
              "      <td>40.720551</td>\n",
              "      <td>N</td>\n",
              "      <td>14</td>\n",
              "    </tr>\n",
              "    <tr>\n",
              "      <th>934078</th>\n",
              "      <td>id3251852</td>\n",
              "      <td>1</td>\n",
              "      <td>2016-02-01 01:26:36</td>\n",
              "      <td>2016-02-01 01:27:03</td>\n",
              "      <td>0</td>\n",
              "      <td>-73.988678</td>\n",
              "      <td>40.721344</td>\n",
              "      <td>-73.988670</td>\n",
              "      <td>40.721344</td>\n",
              "      <td>N</td>\n",
              "      <td>27</td>\n",
              "    </tr>\n",
              "    <tr>\n",
              "      <th>954696</th>\n",
              "      <td>id2613392</td>\n",
              "      <td>2</td>\n",
              "      <td>2016-03-31 22:25:35</td>\n",
              "      <td>2016-03-31 22:25:42</td>\n",
              "      <td>0</td>\n",
              "      <td>-74.010307</td>\n",
              "      <td>40.718697</td>\n",
              "      <td>-74.010330</td>\n",
              "      <td>40.718651</td>\n",
              "      <td>N</td>\n",
              "      <td>7</td>\n",
              "    </tr>\n",
              "    <tr>\n",
              "      <th>986189</th>\n",
              "      <td>id1376024</td>\n",
              "      <td>1</td>\n",
              "      <td>2016-04-01 16:10:32</td>\n",
              "      <td>2016-04-01 16:11:01</td>\n",
              "      <td>0</td>\n",
              "      <td>-73.951973</td>\n",
              "      <td>40.733479</td>\n",
              "      <td>-73.951996</td>\n",
              "      <td>40.733471</td>\n",
              "      <td>N</td>\n",
              "      <td>29</td>\n",
              "    </tr>\n",
              "    <tr>\n",
              "      <th>1025067</th>\n",
              "      <td>id2063256</td>\n",
              "      <td>1</td>\n",
              "      <td>2016-03-25 17:45:27</td>\n",
              "      <td>2016-03-25 17:46:55</td>\n",
              "      <td>0</td>\n",
              "      <td>-73.994804</td>\n",
              "      <td>40.720661</td>\n",
              "      <td>-73.995125</td>\n",
              "      <td>40.720715</td>\n",
              "      <td>N</td>\n",
              "      <td>88</td>\n",
              "    </tr>\n",
              "    <tr>\n",
              "      <th>1032513</th>\n",
              "      <td>id1992999</td>\n",
              "      <td>2</td>\n",
              "      <td>2016-01-18 23:15:34</td>\n",
              "      <td>2016-01-18 23:15:37</td>\n",
              "      <td>0</td>\n",
              "      <td>-73.987083</td>\n",
              "      <td>40.757889</td>\n",
              "      <td>-73.988220</td>\n",
              "      <td>40.759033</td>\n",
              "      <td>N</td>\n",
              "      <td>3</td>\n",
              "    </tr>\n",
              "    <tr>\n",
              "      <th>1049209</th>\n",
              "      <td>id1846091</td>\n",
              "      <td>2</td>\n",
              "      <td>2016-01-16 00:50:18</td>\n",
              "      <td>2016-01-16 00:51:36</td>\n",
              "      <td>0</td>\n",
              "      <td>-73.919167</td>\n",
              "      <td>40.686878</td>\n",
              "      <td>-73.919151</td>\n",
              "      <td>40.686874</td>\n",
              "      <td>N</td>\n",
              "      <td>78</td>\n",
              "    </tr>\n",
              "    <tr>\n",
              "      <th>1092678</th>\n",
              "      <td>id2957383</td>\n",
              "      <td>1</td>\n",
              "      <td>2016-05-20 03:22:01</td>\n",
              "      <td>2016-05-20 03:23:09</td>\n",
              "      <td>0</td>\n",
              "      <td>-74.005341</td>\n",
              "      <td>40.871922</td>\n",
              "      <td>-74.006096</td>\n",
              "      <td>40.872318</td>\n",
              "      <td>Y</td>\n",
              "      <td>68</td>\n",
              "    </tr>\n",
              "    <tr>\n",
              "      <th>1101359</th>\n",
              "      <td>id2535067</td>\n",
              "      <td>1</td>\n",
              "      <td>2016-06-13 05:59:07</td>\n",
              "      <td>2016-06-13 05:59:16</td>\n",
              "      <td>0</td>\n",
              "      <td>-73.947174</td>\n",
              "      <td>40.826153</td>\n",
              "      <td>-73.947220</td>\n",
              "      <td>40.826084</td>\n",
              "      <td>Y</td>\n",
              "      <td>9</td>\n",
              "    </tr>\n",
              "    <tr>\n",
              "      <th>1122417</th>\n",
              "      <td>id0593652</td>\n",
              "      <td>2</td>\n",
              "      <td>2016-06-08 19:34:25</td>\n",
              "      <td>2016-06-08 19:34:55</td>\n",
              "      <td>0</td>\n",
              "      <td>-73.964203</td>\n",
              "      <td>40.773273</td>\n",
              "      <td>-73.964218</td>\n",
              "      <td>40.773182</td>\n",
              "      <td>N</td>\n",
              "      <td>30</td>\n",
              "    </tr>\n",
              "    <tr>\n",
              "      <th>1131166</th>\n",
              "      <td>id1688347</td>\n",
              "      <td>2</td>\n",
              "      <td>2016-05-19 19:55:58</td>\n",
              "      <td>2016-05-19 19:56:23</td>\n",
              "      <td>0</td>\n",
              "      <td>-73.972145</td>\n",
              "      <td>40.747833</td>\n",
              "      <td>-73.972130</td>\n",
              "      <td>40.747982</td>\n",
              "      <td>N</td>\n",
              "      <td>25</td>\n",
              "    </tr>\n",
              "    <tr>\n",
              "      <th>1144278</th>\n",
              "      <td>id1220914</td>\n",
              "      <td>2</td>\n",
              "      <td>2016-01-17 20:51:55</td>\n",
              "      <td>2016-01-17 20:52:43</td>\n",
              "      <td>0</td>\n",
              "      <td>-73.959999</td>\n",
              "      <td>40.766861</td>\n",
              "      <td>-73.960106</td>\n",
              "      <td>40.766911</td>\n",
              "      <td>N</td>\n",
              "      <td>48</td>\n",
              "    </tr>\n",
              "    <tr>\n",
              "      <th>1211269</th>\n",
              "      <td>id0662963</td>\n",
              "      <td>2</td>\n",
              "      <td>2016-02-13 04:41:13</td>\n",
              "      <td>2016-02-13 04:41:22</td>\n",
              "      <td>0</td>\n",
              "      <td>-73.945633</td>\n",
              "      <td>40.803673</td>\n",
              "      <td>-73.945625</td>\n",
              "      <td>40.803661</td>\n",
              "      <td>N</td>\n",
              "      <td>9</td>\n",
              "    </tr>\n",
              "    <tr>\n",
              "      <th>1257574</th>\n",
              "      <td>id1205792</td>\n",
              "      <td>1</td>\n",
              "      <td>2016-03-11 12:33:17</td>\n",
              "      <td>2016-03-11 13:09:48</td>\n",
              "      <td>0</td>\n",
              "      <td>-73.982063</td>\n",
              "      <td>40.763798</td>\n",
              "      <td>-74.188072</td>\n",
              "      <td>40.694042</td>\n",
              "      <td>N</td>\n",
              "      <td>2191</td>\n",
              "    </tr>\n",
              "    <tr>\n",
              "      <th>1262950</th>\n",
              "      <td>id1038365</td>\n",
              "      <td>1</td>\n",
              "      <td>2016-04-02 22:03:27</td>\n",
              "      <td>2016-04-02 22:03:36</td>\n",
              "      <td>0</td>\n",
              "      <td>-73.954437</td>\n",
              "      <td>40.765739</td>\n",
              "      <td>-73.954445</td>\n",
              "      <td>40.765759</td>\n",
              "      <td>N</td>\n",
              "      <td>9</td>\n",
              "    </tr>\n",
              "    <tr>\n",
              "      <th>1265736</th>\n",
              "      <td>id0483580</td>\n",
              "      <td>2</td>\n",
              "      <td>2016-01-16 20:37:35</td>\n",
              "      <td>2016-01-16 20:37:38</td>\n",
              "      <td>0</td>\n",
              "      <td>-73.968964</td>\n",
              "      <td>40.801743</td>\n",
              "      <td>-73.968903</td>\n",
              "      <td>40.801853</td>\n",
              "      <td>N</td>\n",
              "      <td>3</td>\n",
              "    </tr>\n",
              "    <tr>\n",
              "      <th>1276436</th>\n",
              "      <td>id1392994</td>\n",
              "      <td>1</td>\n",
              "      <td>2016-04-07 23:37:19</td>\n",
              "      <td>2016-04-07 23:37:21</td>\n",
              "      <td>0</td>\n",
              "      <td>-74.042969</td>\n",
              "      <td>40.719540</td>\n",
              "      <td>-74.042961</td>\n",
              "      <td>40.719536</td>\n",
              "      <td>N</td>\n",
              "      <td>2</td>\n",
              "    </tr>\n",
              "    <tr>\n",
              "      <th>1280443</th>\n",
              "      <td>id3267095</td>\n",
              "      <td>2</td>\n",
              "      <td>2016-02-13 01:33:02</td>\n",
              "      <td>2016-02-13 01:33:06</td>\n",
              "      <td>0</td>\n",
              "      <td>-73.979118</td>\n",
              "      <td>40.760181</td>\n",
              "      <td>-73.979111</td>\n",
              "      <td>40.760159</td>\n",
              "      <td>N</td>\n",
              "      <td>4</td>\n",
              "    </tr>\n",
              "    <tr>\n",
              "      <th>1293792</th>\n",
              "      <td>id1119951</td>\n",
              "      <td>2</td>\n",
              "      <td>2016-03-24 21:50:50</td>\n",
              "      <td>2016-03-24 21:50:57</td>\n",
              "      <td>0</td>\n",
              "      <td>-73.958786</td>\n",
              "      <td>40.780354</td>\n",
              "      <td>-73.958740</td>\n",
              "      <td>40.780338</td>\n",
              "      <td>N</td>\n",
              "      <td>7</td>\n",
              "    </tr>\n",
              "    <tr>\n",
              "      <th>1296239</th>\n",
              "      <td>id0948644</td>\n",
              "      <td>2</td>\n",
              "      <td>2016-02-22 00:40:25</td>\n",
              "      <td>2016-02-22 00:40:26</td>\n",
              "      <td>0</td>\n",
              "      <td>-73.987595</td>\n",
              "      <td>40.719997</td>\n",
              "      <td>-73.987595</td>\n",
              "      <td>40.720005</td>\n",
              "      <td>N</td>\n",
              "      <td>1</td>\n",
              "    </tr>\n",
              "    <tr>\n",
              "      <th>1364548</th>\n",
              "      <td>id1699275</td>\n",
              "      <td>1</td>\n",
              "      <td>2016-04-04 19:44:41</td>\n",
              "      <td>2016-04-04 19:50:16</td>\n",
              "      <td>0</td>\n",
              "      <td>-73.981979</td>\n",
              "      <td>40.752281</td>\n",
              "      <td>-73.992676</td>\n",
              "      <td>40.737278</td>\n",
              "      <td>N</td>\n",
              "      <td>335</td>\n",
              "    </tr>\n",
              "    <tr>\n",
              "      <th>1368627</th>\n",
              "      <td>id3368191</td>\n",
              "      <td>1</td>\n",
              "      <td>2016-05-08 23:38:09</td>\n",
              "      <td>2016-05-08 23:38:21</td>\n",
              "      <td>0</td>\n",
              "      <td>-73.934937</td>\n",
              "      <td>40.740841</td>\n",
              "      <td>-73.934929</td>\n",
              "      <td>40.740837</td>\n",
              "      <td>N</td>\n",
              "      <td>12</td>\n",
              "    </tr>\n",
              "    <tr>\n",
              "      <th>1371117</th>\n",
              "      <td>id3378693</td>\n",
              "      <td>1</td>\n",
              "      <td>2016-05-15 15:31:07</td>\n",
              "      <td>2016-05-15 15:31:13</td>\n",
              "      <td>0</td>\n",
              "      <td>-73.783173</td>\n",
              "      <td>40.643848</td>\n",
              "      <td>-73.783173</td>\n",
              "      <td>40.643848</td>\n",
              "      <td>N</td>\n",
              "      <td>6</td>\n",
              "    </tr>\n",
              "    <tr>\n",
              "      <th>1414111</th>\n",
              "      <td>id2684721</td>\n",
              "      <td>2</td>\n",
              "      <td>2016-04-01 14:42:10</td>\n",
              "      <td>2016-04-01 14:42:58</td>\n",
              "      <td>0</td>\n",
              "      <td>-73.981316</td>\n",
              "      <td>40.746635</td>\n",
              "      <td>-73.981651</td>\n",
              "      <td>40.746811</td>\n",
              "      <td>N</td>\n",
              "      <td>48</td>\n",
              "    </tr>\n",
              "    <tr>\n",
              "      <th>1433427</th>\n",
              "      <td>id3485118</td>\n",
              "      <td>1</td>\n",
              "      <td>2016-05-11 19:15:57</td>\n",
              "      <td>2016-05-11 19:32:18</td>\n",
              "      <td>0</td>\n",
              "      <td>-73.987572</td>\n",
              "      <td>40.754566</td>\n",
              "      <td>-73.972031</td>\n",
              "      <td>40.762836</td>\n",
              "      <td>N</td>\n",
              "      <td>981</td>\n",
              "    </tr>\n",
              "    <tr>\n",
              "      <th>1443353</th>\n",
              "      <td>id0355830</td>\n",
              "      <td>1</td>\n",
              "      <td>2016-03-05 05:33:52</td>\n",
              "      <td>2016-03-05 05:34:27</td>\n",
              "      <td>0</td>\n",
              "      <td>-73.991791</td>\n",
              "      <td>40.731197</td>\n",
              "      <td>-73.993408</td>\n",
              "      <td>40.729328</td>\n",
              "      <td>N</td>\n",
              "      <td>35</td>\n",
              "    </tr>\n",
              "    <tr>\n",
              "      <th>1444936</th>\n",
              "      <td>id1175754</td>\n",
              "      <td>2</td>\n",
              "      <td>2016-05-14 00:25:33</td>\n",
              "      <td>2016-05-14 00:25:37</td>\n",
              "      <td>0</td>\n",
              "      <td>-73.904610</td>\n",
              "      <td>40.753483</td>\n",
              "      <td>-73.904602</td>\n",
              "      <td>40.753456</td>\n",
              "      <td>N</td>\n",
              "      <td>4</td>\n",
              "    </tr>\n",
              "  </tbody>\n",
              "</table>\n",
              "</div>"
            ],
            "text/plain": [
              "                id  vendor_id  ... store_and_fwd_flag trip_duration\n",
              "62744    id3917283          2  ...                  N         85901\n",
              "136519   id3645383          2  ...                  N             4\n",
              "194288   id2840829          2  ...                  N           155\n",
              "217765   id3762593          1  ...                  N          2251\n",
              "263809   id2154895          1  ...                  N             8\n",
              "278290   id0796773          1  ...                  N             9\n",
              "301600   id2091096          2  ...                  N          2072\n",
              "303133   id0414625          2  ...                  N            15\n",
              "337809   id0271506          2  ...                  N            41\n",
              "375972   id3176865          2  ...                  N            15\n",
              "383407   id3493269          2  ...                  N             7\n",
              "412172   id2247129          2  ...                  N          1556\n",
              "415843   id1794493          2  ...                  N            22\n",
              "437735   id2891366          1  ...                  N           105\n",
              "447838   id1253169          1  ...                  N            13\n",
              "521316   id2571672          1  ...                  Y             5\n",
              "553862   id1822284          1  ...                  N             4\n",
              "582469   id0663459          2  ...                  N            49\n",
              "621221   id1039576          1  ...                  N             6\n",
              "649337   id3347660          2  ...                  N            19\n",
              "676906   id0878599          1  ...                  N          3243\n",
              "718163   id1610720          2  ...                  N             8\n",
              "722399   id1593144          1  ...                  N           385\n",
              "727514   id1857858          2  ...                  N             2\n",
              "776276   id3066152          1  ...                  N            45\n",
              "777319   id3364866          1  ...                  N          1029\n",
              "796361   id3494250          1  ...                  N          1121\n",
              "827485   id2029944          1  ...                  N             3\n",
              "875056   id3533680          1  ...                  N             3\n",
              "904688   id3563937          1  ...                  N           310\n",
              "911071   id0959777          2  ...                  N             4\n",
              "914211   id1656232          1  ...                  N            22\n",
              "919750   id1880173          1  ...                  N           601\n",
              "921640   id1325601          2  ...                  N            14\n",
              "934078   id3251852          1  ...                  N            27\n",
              "954696   id2613392          2  ...                  N             7\n",
              "986189   id1376024          1  ...                  N            29\n",
              "1025067  id2063256          1  ...                  N            88\n",
              "1032513  id1992999          2  ...                  N             3\n",
              "1049209  id1846091          2  ...                  N            78\n",
              "1092678  id2957383          1  ...                  Y            68\n",
              "1101359  id2535067          1  ...                  Y             9\n",
              "1122417  id0593652          2  ...                  N            30\n",
              "1131166  id1688347          2  ...                  N            25\n",
              "1144278  id1220914          2  ...                  N            48\n",
              "1211269  id0662963          2  ...                  N             9\n",
              "1257574  id1205792          1  ...                  N          2191\n",
              "1262950  id1038365          1  ...                  N             9\n",
              "1265736  id0483580          2  ...                  N             3\n",
              "1276436  id1392994          1  ...                  N             2\n",
              "1280443  id3267095          2  ...                  N             4\n",
              "1293792  id1119951          2  ...                  N             7\n",
              "1296239  id0948644          2  ...                  N             1\n",
              "1364548  id1699275          1  ...                  N           335\n",
              "1368627  id3368191          1  ...                  N            12\n",
              "1371117  id3378693          1  ...                  N             6\n",
              "1414111  id2684721          2  ...                  N            48\n",
              "1433427  id3485118          1  ...                  N           981\n",
              "1443353  id0355830          1  ...                  N            35\n",
              "1444936  id1175754          2  ...                  N             4\n",
              "\n",
              "[60 rows x 11 columns]"
            ]
          },
          "metadata": {
            "tags": []
          },
          "execution_count": 6
        }
      ]
    },
    {
      "cell_type": "code",
      "metadata": {
        "id": "2SXfUwUXR_ww",
        "colab": {
          "base_uri": "https://localhost:8080/"
        },
        "outputId": "84d6d605-65fe-496c-9560-c1915e7c11c6"
      },
      "source": [
        "df['passenger_count'].value_counts()"
      ],
      "execution_count": 7,
      "outputs": [
        {
          "output_type": "execute_result",
          "data": {
            "text/plain": [
              "1    1033540\n",
              "2     210318\n",
              "5      78088\n",
              "3      59896\n",
              "6      48333\n",
              "4      28404\n",
              "0         60\n",
              "7          3\n",
              "9          1\n",
              "8          1\n",
              "Name: passenger_count, dtype: int64"
            ]
          },
          "metadata": {
            "tags": []
          },
          "execution_count": 7
        }
      ]
    },
    {
      "cell_type": "code",
      "metadata": {
        "colab": {
          "base_uri": "https://localhost:8080/"
        },
        "id": "htvOPMEPQstV",
        "outputId": "a63b683a-ce3f-4a15-fa8b-961e98bd9a4d"
      },
      "source": [
        "df['vendor_id'].value_counts()"
      ],
      "execution_count": 8,
      "outputs": [
        {
          "output_type": "execute_result",
          "data": {
            "text/plain": [
              "2    780302\n",
              "1    678342\n",
              "Name: vendor_id, dtype: int64"
            ]
          },
          "metadata": {
            "tags": []
          },
          "execution_count": 8
        }
      ]
    },
    {
      "cell_type": "code",
      "metadata": {
        "colab": {
          "base_uri": "https://localhost:8080/"
        },
        "id": "KSV16N99P2gu",
        "outputId": "ed8a1222-d13e-44da-9714-e4ac7e1e7dd0"
      },
      "source": [
        "663/60"
      ],
      "execution_count": 9,
      "outputs": [
        {
          "output_type": "execute_result",
          "data": {
            "text/plain": [
              "11.05"
            ]
          },
          "metadata": {
            "tags": []
          },
          "execution_count": 9
        }
      ]
    },
    {
      "cell_type": "code",
      "metadata": {
        "colab": {
          "base_uri": "https://localhost:8080/",
          "height": 35
        },
        "id": "GC8Ewxq5Pg0D",
        "outputId": "7085c171-60ed-401b-a1d6-133c1fd9b2e4"
      },
      "source": [
        "df[\"pickup_datetime\"][0]"
      ],
      "execution_count": 10,
      "outputs": [
        {
          "output_type": "execute_result",
          "data": {
            "application/vnd.google.colaboratory.intrinsic+json": {
              "type": "string"
            },
            "text/plain": [
              "'2016-03-14 17:24:55'"
            ]
          },
          "metadata": {
            "tags": []
          },
          "execution_count": 10
        }
      ]
    },
    {
      "cell_type": "markdown",
      "metadata": {
        "id": "5OeD-sINJmpV"
      },
      "source": [
        "*Okay, so the data looks fine for now let's explore it more and make some conclusions.*"
      ]
    },
    {
      "cell_type": "code",
      "metadata": {
        "colab": {
          "base_uri": "https://localhost:8080/"
        },
        "id": "YBS19E6-H-VL",
        "outputId": "57b03313-5934-4809-f12e-96101412211c"
      },
      "source": [
        "df.info()"
      ],
      "execution_count": 11,
      "outputs": [
        {
          "output_type": "stream",
          "text": [
            "<class 'pandas.core.frame.DataFrame'>\n",
            "RangeIndex: 1458644 entries, 0 to 1458643\n",
            "Data columns (total 11 columns):\n",
            " #   Column              Non-Null Count    Dtype  \n",
            "---  ------              --------------    -----  \n",
            " 0   id                  1458644 non-null  object \n",
            " 1   vendor_id           1458644 non-null  int64  \n",
            " 2   pickup_datetime     1458644 non-null  object \n",
            " 3   dropoff_datetime    1458644 non-null  object \n",
            " 4   passenger_count     1458644 non-null  int64  \n",
            " 5   pickup_longitude    1458644 non-null  float64\n",
            " 6   pickup_latitude     1458644 non-null  float64\n",
            " 7   dropoff_longitude   1458644 non-null  float64\n",
            " 8   dropoff_latitude    1458644 non-null  float64\n",
            " 9   store_and_fwd_flag  1458644 non-null  object \n",
            " 10  trip_duration       1458644 non-null  int64  \n",
            "dtypes: float64(4), int64(3), object(4)\n",
            "memory usage: 122.4+ MB\n"
          ],
          "name": "stdout"
        }
      ]
    },
    {
      "cell_type": "markdown",
      "metadata": {
        "id": "NItwl_HqJ2te"
      },
      "source": [
        ""
      ]
    },
    {
      "cell_type": "code",
      "metadata": {
        "colab": {
          "base_uri": "https://localhost:8080/",
          "height": 297
        },
        "id": "Io_c1dwXH8-W",
        "outputId": "828f1bf6-3cd0-4362-e982-b3cf5e860cb4"
      },
      "source": [
        "df.describe()"
      ],
      "execution_count": 12,
      "outputs": [
        {
          "output_type": "execute_result",
          "data": {
            "text/html": [
              "<div>\n",
              "<style scoped>\n",
              "    .dataframe tbody tr th:only-of-type {\n",
              "        vertical-align: middle;\n",
              "    }\n",
              "\n",
              "    .dataframe tbody tr th {\n",
              "        vertical-align: top;\n",
              "    }\n",
              "\n",
              "    .dataframe thead th {\n",
              "        text-align: right;\n",
              "    }\n",
              "</style>\n",
              "<table border=\"1\" class=\"dataframe\">\n",
              "  <thead>\n",
              "    <tr style=\"text-align: right;\">\n",
              "      <th></th>\n",
              "      <th>vendor_id</th>\n",
              "      <th>passenger_count</th>\n",
              "      <th>pickup_longitude</th>\n",
              "      <th>pickup_latitude</th>\n",
              "      <th>dropoff_longitude</th>\n",
              "      <th>dropoff_latitude</th>\n",
              "      <th>trip_duration</th>\n",
              "    </tr>\n",
              "  </thead>\n",
              "  <tbody>\n",
              "    <tr>\n",
              "      <th>count</th>\n",
              "      <td>1.458644e+06</td>\n",
              "      <td>1.458644e+06</td>\n",
              "      <td>1.458644e+06</td>\n",
              "      <td>1.458644e+06</td>\n",
              "      <td>1.458644e+06</td>\n",
              "      <td>1.458644e+06</td>\n",
              "      <td>1.458644e+06</td>\n",
              "    </tr>\n",
              "    <tr>\n",
              "      <th>mean</th>\n",
              "      <td>1.534950e+00</td>\n",
              "      <td>1.664530e+00</td>\n",
              "      <td>-7.397349e+01</td>\n",
              "      <td>4.075092e+01</td>\n",
              "      <td>-7.397342e+01</td>\n",
              "      <td>4.075180e+01</td>\n",
              "      <td>9.594923e+02</td>\n",
              "    </tr>\n",
              "    <tr>\n",
              "      <th>std</th>\n",
              "      <td>4.987772e-01</td>\n",
              "      <td>1.314242e+00</td>\n",
              "      <td>7.090186e-02</td>\n",
              "      <td>3.288119e-02</td>\n",
              "      <td>7.064327e-02</td>\n",
              "      <td>3.589056e-02</td>\n",
              "      <td>5.237432e+03</td>\n",
              "    </tr>\n",
              "    <tr>\n",
              "      <th>min</th>\n",
              "      <td>1.000000e+00</td>\n",
              "      <td>0.000000e+00</td>\n",
              "      <td>-1.219333e+02</td>\n",
              "      <td>3.435970e+01</td>\n",
              "      <td>-1.219333e+02</td>\n",
              "      <td>3.218114e+01</td>\n",
              "      <td>1.000000e+00</td>\n",
              "    </tr>\n",
              "    <tr>\n",
              "      <th>25%</th>\n",
              "      <td>1.000000e+00</td>\n",
              "      <td>1.000000e+00</td>\n",
              "      <td>-7.399187e+01</td>\n",
              "      <td>4.073735e+01</td>\n",
              "      <td>-7.399133e+01</td>\n",
              "      <td>4.073588e+01</td>\n",
              "      <td>3.970000e+02</td>\n",
              "    </tr>\n",
              "    <tr>\n",
              "      <th>50%</th>\n",
              "      <td>2.000000e+00</td>\n",
              "      <td>1.000000e+00</td>\n",
              "      <td>-7.398174e+01</td>\n",
              "      <td>4.075410e+01</td>\n",
              "      <td>-7.397975e+01</td>\n",
              "      <td>4.075452e+01</td>\n",
              "      <td>6.620000e+02</td>\n",
              "    </tr>\n",
              "    <tr>\n",
              "      <th>75%</th>\n",
              "      <td>2.000000e+00</td>\n",
              "      <td>2.000000e+00</td>\n",
              "      <td>-7.396733e+01</td>\n",
              "      <td>4.076836e+01</td>\n",
              "      <td>-7.396301e+01</td>\n",
              "      <td>4.076981e+01</td>\n",
              "      <td>1.075000e+03</td>\n",
              "    </tr>\n",
              "    <tr>\n",
              "      <th>max</th>\n",
              "      <td>2.000000e+00</td>\n",
              "      <td>9.000000e+00</td>\n",
              "      <td>-6.133553e+01</td>\n",
              "      <td>5.188108e+01</td>\n",
              "      <td>-6.133553e+01</td>\n",
              "      <td>4.392103e+01</td>\n",
              "      <td>3.526282e+06</td>\n",
              "    </tr>\n",
              "  </tbody>\n",
              "</table>\n",
              "</div>"
            ],
            "text/plain": [
              "          vendor_id  passenger_count  ...  dropoff_latitude  trip_duration\n",
              "count  1.458644e+06     1.458644e+06  ...      1.458644e+06   1.458644e+06\n",
              "mean   1.534950e+00     1.664530e+00  ...      4.075180e+01   9.594923e+02\n",
              "std    4.987772e-01     1.314242e+00  ...      3.589056e-02   5.237432e+03\n",
              "min    1.000000e+00     0.000000e+00  ...      3.218114e+01   1.000000e+00\n",
              "25%    1.000000e+00     1.000000e+00  ...      4.073588e+01   3.970000e+02\n",
              "50%    2.000000e+00     1.000000e+00  ...      4.075452e+01   6.620000e+02\n",
              "75%    2.000000e+00     2.000000e+00  ...      4.076981e+01   1.075000e+03\n",
              "max    2.000000e+00     9.000000e+00  ...      4.392103e+01   3.526282e+06\n",
              "\n",
              "[8 rows x 7 columns]"
            ]
          },
          "metadata": {
            "tags": []
          },
          "execution_count": 12
        }
      ]
    },
    {
      "cell_type": "markdown",
      "metadata": {
        "id": "smrsMUeqJ6Ht"
      },
      "source": [
        "Checking for our null values in the dependent variable"
      ]
    },
    {
      "cell_type": "code",
      "metadata": {
        "colab": {
          "base_uri": "https://localhost:8080/"
        },
        "id": "3b9JhP4NH_WW",
        "outputId": "e4ed3777-ac9a-427b-d74c-6eb8df5bf37a"
      },
      "source": [
        "df['trip_duration'].isnull().sum()"
      ],
      "execution_count": 13,
      "outputs": [
        {
          "output_type": "execute_result",
          "data": {
            "text/plain": [
              "0"
            ]
          },
          "metadata": {
            "tags": []
          },
          "execution_count": 13
        }
      ]
    },
    {
      "cell_type": "code",
      "metadata": {
        "colab": {
          "base_uri": "https://localhost:8080/"
        },
        "id": "dgZm3Mi3OhZM",
        "outputId": "a388bf64-fa1f-46a6-b738-00b39c38a648"
      },
      "source": [
        "df.shape"
      ],
      "execution_count": 14,
      "outputs": [
        {
          "output_type": "execute_result",
          "data": {
            "text/plain": [
              "(1458644, 11)"
            ]
          },
          "metadata": {
            "tags": []
          },
          "execution_count": 14
        }
      ]
    },
    {
      "cell_type": "code",
      "metadata": {
        "colab": {
          "base_uri": "https://localhost:8080/",
          "height": 266
        },
        "id": "30-CcA22MfPi",
        "outputId": "a72af9ea-a20a-4aa0-ae80-9a48aeffa9de"
      },
      "source": [
        "df.corr()"
      ],
      "execution_count": 15,
      "outputs": [
        {
          "output_type": "execute_result",
          "data": {
            "text/html": [
              "<div>\n",
              "<style scoped>\n",
              "    .dataframe tbody tr th:only-of-type {\n",
              "        vertical-align: middle;\n",
              "    }\n",
              "\n",
              "    .dataframe tbody tr th {\n",
              "        vertical-align: top;\n",
              "    }\n",
              "\n",
              "    .dataframe thead th {\n",
              "        text-align: right;\n",
              "    }\n",
              "</style>\n",
              "<table border=\"1\" class=\"dataframe\">\n",
              "  <thead>\n",
              "    <tr style=\"text-align: right;\">\n",
              "      <th></th>\n",
              "      <th>vendor_id</th>\n",
              "      <th>passenger_count</th>\n",
              "      <th>pickup_longitude</th>\n",
              "      <th>pickup_latitude</th>\n",
              "      <th>dropoff_longitude</th>\n",
              "      <th>dropoff_latitude</th>\n",
              "      <th>trip_duration</th>\n",
              "    </tr>\n",
              "  </thead>\n",
              "  <tbody>\n",
              "    <tr>\n",
              "      <th>vendor_id</th>\n",
              "      <td>1.000000</td>\n",
              "      <td>0.287415</td>\n",
              "      <td>0.007820</td>\n",
              "      <td>0.001742</td>\n",
              "      <td>0.001528</td>\n",
              "      <td>0.004496</td>\n",
              "      <td>0.020304</td>\n",
              "    </tr>\n",
              "    <tr>\n",
              "      <th>passenger_count</th>\n",
              "      <td>0.287415</td>\n",
              "      <td>1.000000</td>\n",
              "      <td>0.002169</td>\n",
              "      <td>-0.005125</td>\n",
              "      <td>-0.000343</td>\n",
              "      <td>-0.002762</td>\n",
              "      <td>0.008471</td>\n",
              "    </tr>\n",
              "    <tr>\n",
              "      <th>pickup_longitude</th>\n",
              "      <td>0.007820</td>\n",
              "      <td>0.002169</td>\n",
              "      <td>1.000000</td>\n",
              "      <td>0.022568</td>\n",
              "      <td>0.783582</td>\n",
              "      <td>0.100190</td>\n",
              "      <td>0.026542</td>\n",
              "    </tr>\n",
              "    <tr>\n",
              "      <th>pickup_latitude</th>\n",
              "      <td>0.001742</td>\n",
              "      <td>-0.005125</td>\n",
              "      <td>0.022568</td>\n",
              "      <td>1.000000</td>\n",
              "      <td>0.114884</td>\n",
              "      <td>0.494038</td>\n",
              "      <td>-0.029204</td>\n",
              "    </tr>\n",
              "    <tr>\n",
              "      <th>dropoff_longitude</th>\n",
              "      <td>0.001528</td>\n",
              "      <td>-0.000343</td>\n",
              "      <td>0.783582</td>\n",
              "      <td>0.114884</td>\n",
              "      <td>1.000000</td>\n",
              "      <td>0.124873</td>\n",
              "      <td>0.014678</td>\n",
              "    </tr>\n",
              "    <tr>\n",
              "      <th>dropoff_latitude</th>\n",
              "      <td>0.004496</td>\n",
              "      <td>-0.002762</td>\n",
              "      <td>0.100190</td>\n",
              "      <td>0.494038</td>\n",
              "      <td>0.124873</td>\n",
              "      <td>1.000000</td>\n",
              "      <td>-0.020677</td>\n",
              "    </tr>\n",
              "    <tr>\n",
              "      <th>trip_duration</th>\n",
              "      <td>0.020304</td>\n",
              "      <td>0.008471</td>\n",
              "      <td>0.026542</td>\n",
              "      <td>-0.029204</td>\n",
              "      <td>0.014678</td>\n",
              "      <td>-0.020677</td>\n",
              "      <td>1.000000</td>\n",
              "    </tr>\n",
              "  </tbody>\n",
              "</table>\n",
              "</div>"
            ],
            "text/plain": [
              "                   vendor_id  passenger_count  ...  dropoff_latitude  trip_duration\n",
              "vendor_id           1.000000         0.287415  ...          0.004496       0.020304\n",
              "passenger_count     0.287415         1.000000  ...         -0.002762       0.008471\n",
              "pickup_longitude    0.007820         0.002169  ...          0.100190       0.026542\n",
              "pickup_latitude     0.001742        -0.005125  ...          0.494038      -0.029204\n",
              "dropoff_longitude   0.001528        -0.000343  ...          0.124873       0.014678\n",
              "dropoff_latitude    0.004496        -0.002762  ...          1.000000      -0.020677\n",
              "trip_duration       0.020304         0.008471  ...         -0.020677       1.000000\n",
              "\n",
              "[7 rows x 7 columns]"
            ]
          },
          "metadata": {
            "tags": []
          },
          "execution_count": 15
        }
      ]
    },
    {
      "cell_type": "markdown",
      "metadata": {
        "id": "GO-StwAkJAds"
      },
      "source": [
        "Working on a sample from the huge amount of data"
      ]
    },
    {
      "cell_type": "code",
      "metadata": {
        "colab": {
          "base_uri": "https://localhost:8080/",
          "height": 364
        },
        "id": "8nc_hlxXMF3A",
        "outputId": "94406260-93fc-4a60-c61a-06700578eeb6"
      },
      "source": [
        "sns.heatmap(df.corr())"
      ],
      "execution_count": 16,
      "outputs": [
        {
          "output_type": "execute_result",
          "data": {
            "text/plain": [
              "<matplotlib.axes._subplots.AxesSubplot at 0x7f6324790d30>"
            ]
          },
          "metadata": {
            "tags": []
          },
          "execution_count": 16
        },
        {
          "output_type": "display_data",
          "data": {
            "image/png": "[encoded data removed]",
            "text/plain": [
              "<Figure size 432x288 with 2 Axes>"
            ]
          },
          "metadata": {
            "tags": [],
            "needs_background": "light"
          }
        }
      ]
    },
    {
      "cell_type": "code",
      "metadata": {
        "colab": {
          "base_uri": "https://localhost:8080/",
          "height": 266
        },
        "id": "r2vU9xs3NKma",
        "outputId": "24b619d5-5741-4e5c-d879-d9cd7b7e52e8"
      },
      "source": [
        "# Multicollinearity\r\n",
        "from statsmodels.stats.outliers_influence import variance_inflation_factor\r\n",
        "def calc_vif(X):\r\n",
        " \r\n",
        "   # Calculating VIF\r\n",
        "   vif = pd.DataFrame()\r\n",
        "   vif[\"variables\"] = X.columns\r\n",
        "   vif[\"VIF\"] = [variance_inflation_factor(X.values, i) for i in range(X.shape[1])]\r\n",
        " \r\n",
        "   return(vif)\r\n",
        "\r\n",
        "calc_vif(df[[i for i in df.describe().columns]])"
      ],
      "execution_count": 17,
      "outputs": [
        {
          "output_type": "execute_result",
          "data": {
            "text/html": [
              "<div>\n",
              "<style scoped>\n",
              "    .dataframe tbody tr th:only-of-type {\n",
              "        vertical-align: middle;\n",
              "    }\n",
              "\n",
              "    .dataframe tbody tr th {\n",
              "        vertical-align: top;\n",
              "    }\n",
              "\n",
              "    .dataframe thead th {\n",
              "        text-align: right;\n",
              "    }\n",
              "</style>\n",
              "<table border=\"1\" class=\"dataframe\">\n",
              "  <thead>\n",
              "    <tr style=\"text-align: right;\">\n",
              "      <th></th>\n",
              "      <th>variables</th>\n",
              "      <th>VIF</th>\n",
              "    </tr>\n",
              "  </thead>\n",
              "  <tbody>\n",
              "    <tr>\n",
              "      <th>0</th>\n",
              "      <td>vendor_id</td>\n",
              "      <td>1.141886e+01</td>\n",
              "    </tr>\n",
              "    <tr>\n",
              "      <th>1</th>\n",
              "      <td>passenger_count</td>\n",
              "      <td>2.838659e+00</td>\n",
              "    </tr>\n",
              "    <tr>\n",
              "      <th>2</th>\n",
              "      <td>pickup_longitude</td>\n",
              "      <td>2.813930e+06</td>\n",
              "    </tr>\n",
              "    <tr>\n",
              "      <th>3</th>\n",
              "      <td>pickup_latitude</td>\n",
              "      <td>1.681298e+06</td>\n",
              "    </tr>\n",
              "    <tr>\n",
              "      <th>4</th>\n",
              "      <td>dropoff_longitude</td>\n",
              "      <td>2.642257e+06</td>\n",
              "    </tr>\n",
              "    <tr>\n",
              "      <th>5</th>\n",
              "      <td>dropoff_latitude</td>\n",
              "      <td>1.474498e+06</td>\n",
              "    </tr>\n",
              "    <tr>\n",
              "      <th>6</th>\n",
              "      <td>trip_duration</td>\n",
              "      <td>1.034346e+00</td>\n",
              "    </tr>\n",
              "  </tbody>\n",
              "</table>\n",
              "</div>"
            ],
            "text/plain": [
              "           variables           VIF\n",
              "0          vendor_id  1.141886e+01\n",
              "1    passenger_count  2.838659e+00\n",
              "2   pickup_longitude  2.813930e+06\n",
              "3    pickup_latitude  1.681298e+06\n",
              "4  dropoff_longitude  2.642257e+06\n",
              "5   dropoff_latitude  1.474498e+06\n",
              "6      trip_duration  1.034346e+00"
            ]
          },
          "metadata": {
            "tags": []
          },
          "execution_count": 17
        }
      ]
    },
    {
      "cell_type": "markdown",
      "metadata": {
        "id": "ubn5HJHAK-QA"
      },
      "source": [
        "Let's plot the boxplot graph of our dependet variable"
      ]
    },
    {
      "cell_type": "code",
      "metadata": {
        "id": "1KoKWVxL93qz"
      },
      "source": [
        "features = df.columns"
      ],
      "execution_count": 18,
      "outputs": []
    },
    {
      "cell_type": "code",
      "metadata": {
        "colab": {
          "base_uri": "https://localhost:8080/",
          "height": 386
        },
        "id": "IrJWyzZH9mu-",
        "outputId": "af123478-69c4-4e1b-8472-ce73c7ed210d"
      },
      "source": [
        "# plot a boxplot for the label by each categorical feature  \r\n",
        "fig = plt.figure(figsize=(9, 6))\r\n",
        "ax = fig.gca()\r\n",
        "df.boxplot(column = 'trip_duration', ax = ax)\r\n",
        "ax.set_ylabel(\"Trip Duration\")\r\n",
        "plt.show()"
      ],
      "execution_count": 19,
      "outputs": [
        {
          "output_type": "display_data",
          "data": {
            "image/png": "[encoded data removed]",
            "text/plain": [
              "<Figure size 648x432 with 1 Axes>"
            ]
          },
          "metadata": {
            "tags": [],
            "needs_background": "light"
          }
        }
      ]
    },
    {
      "cell_type": "code",
      "metadata": {
        "colab": {
          "base_uri": "https://localhost:8080/",
          "height": 634
        },
        "id": "mA3kHnmaIlTb",
        "outputId": "d3e6ea82-4113-41a0-a1e9-f29e56dc8ca5"
      },
      "source": [
        "# Dependent variable 'Response'\r\n",
        "plt.figure(figsize=(15,10))\r\n",
        "sns.distplot(df['trip_duration'],color=\"y\")"
      ],
      "execution_count": 20,
      "outputs": [
        {
          "output_type": "execute_result",
          "data": {
            "text/plain": [
              "<matplotlib.axes._subplots.AxesSubplot at 0x7f632178e3c8>"
            ]
          },
          "metadata": {
            "tags": []
          },
          "execution_count": 20
        },
        {
          "output_type": "display_data",
          "data": {
            "image/png": "[encoded data removed]",
            "text/plain": [
              "<Figure size 1080x720 with 1 Axes>"
            ]
          },
          "metadata": {
            "tags": [],
            "needs_background": "light"
          }
        }
      ]
    },
    {
      "cell_type": "markdown",
      "metadata": {
        "id": "4nll5VzQCqy2"
      },
      "source": [
        "Plotting all the numerical features with respect to trip duration to check linear regression between our dependent and independent variables"
      ]
    },
    {
      "cell_type": "code",
      "metadata": {
        "colab": {
          "base_uri": "https://localhost:8080/"
        },
        "id": "qSimXHYgDZ1o",
        "outputId": "649a952a-b0ee-40d7-a77c-a31248055bbd"
      },
      "source": [
        "numeric_features = df.describe().columns\r\n",
        "numeric_features"
      ],
      "execution_count": 21,
      "outputs": [
        {
          "output_type": "execute_result",
          "data": {
            "text/plain": [
              "Index(['vendor_id', 'passenger_count', 'pickup_longitude', 'pickup_latitude',\n",
              "       'dropoff_longitude', 'dropoff_latitude', 'trip_duration'],\n",
              "      dtype='object')"
            ]
          },
          "metadata": {
            "tags": []
          },
          "execution_count": 21
        }
      ]
    },
    {
      "cell_type": "code",
      "metadata": {
        "colab": {
          "base_uri": "https://localhost:8080/",
          "height": 1000
        },
        "id": "FvrplkFCEbBr",
        "outputId": "486470ea-e677-4724-dc04-bd631d1fd53d"
      },
      "source": [
        "for col in numeric_features[1:-1]:\r\n",
        "    fig = plt.figure(figsize=(9, 6))\r\n",
        "    ax = fig.gca()\r\n",
        "    feature = np.log(df[col])\r\n",
        "    ax.axvline(feature.mean(), color='magenta', linestyle='dashed', linewidth=2)\r\n",
        "    ax.axvline(feature.median(), color='cyan', linestyle='dashed', linewidth=2)    \r\n",
        "    ax.set_title(col)\r\n",
        "plt.show()\r\n"
      ],
      "execution_count": 28,
      "outputs": [
        {
          "output_type": "display_data",
          "data": {
            "image/png": "[encoded data removed]",
            "text/plain": [
              "<Figure size 648x432 with 1 Axes>"
            ]
          },
          "metadata": {
            "tags": [],
            "needs_background": "light"
          }
        },
        {
          "output_type": "display_data",
          "data": {
            "image/png": "[encoded data removed]",
            "text/plain": [
              "<Figure size 648x432 with 1 Axes>"
            ]
          },
          "metadata": {
            "tags": [],
            "needs_background": "light"
          }
        },
        {
          "output_type": "display_data",
          "data": {
            "image/png": "[encoded data removed]",
            "text/plain": [
              "<Figure size 648x432 with 1 Axes>"
            ]
          },
          "metadata": {
            "tags": [],
            "needs_background": "light"
          }
        },
        {
          "output_type": "display_data",
          "data": {
            "image/png": "[encoded data removed]",
            "text/plain": [
              "<Figure size 648x432 with 1 Axes>"
            ]
          },
          "metadata": {
            "tags": [],
            "needs_background": "light"
          }
        },
        {
          "output_type": "display_data",
          "data": {
            "image/png": "[encoded data removed]",
            "text/plain": [
              "<Figure size 648x432 with 1 Axes>"
            ]
          },
          "metadata": {
            "tags": [],
            "needs_background": "light"
          }
        }
      ]
    },
    {
      "cell_type": "code",
      "metadata": {
        "id": "7VMibxrhI23-",
        "colab": {
          "base_uri": "https://localhost:8080/",
          "height": 1000
        },
        "outputId": "7e0f507f-1236-4c31-9dda-2997562fffb0"
      },
      "source": [
        "for col in numeric_features[1:-1]:\r\n",
        "    fig = plt.figure(figsize=(9, 6))\r\n",
        "    ax = fig.gca()\r\n",
        "    feature = df[col]\r\n",
        "    label = df['trip_duration']\r\n",
        "    correlation = feature.corr(label)\r\n",
        "    plt.scatter(x=feature, y=label)\r\n",
        "    plt.xlabel(col)\r\n",
        "    plt.ylabel('Trip duration')\r\n",
        "    ax.set_title('Trip duration vs ' + col + '- correlation: ' + str(correlation))\r\n",
        "    z = np.polyfit(df[col], df['trip_duration'], 1)\r\n",
        "    y_hat = np.poly1d(z)(df[col])\r\n",
        "\r\n",
        "    plt.plot(df[col], y_hat, \"r--\", lw=1)\r\n",
        "\r\n",
        "plt.show()"
      ],
      "execution_count": 22,
      "outputs": [
        {
          "output_type": "display_data",
          "data": {
            "image/png": "[encoded data removed]",
            "text/plain": [
              "<Figure size 648x432 with 1 Axes>"
            ]
          },
          "metadata": {
            "tags": [],
            "needs_background": "light"
          }
        },
        {
          "output_type": "display_data",
          "data": {
            "image/png": "[encoded data removed]",
            "text/plain": [
              "<Figure size 648x432 with 1 Axes>"
            ]
          },
          "metadata": {
            "tags": [],
            "needs_background": "light"
          }
        },
        {
          "output_type": "display_data",
          "data": {
            "image/png": "[encoded data removed]",
            "text/plain": [
              "<Figure size 648x432 with 1 Axes>"
            ]
          },
          "metadata": {
            "tags": [],
            "needs_background": "light"
          }
        },
        {
          "output_type": "display_data",
          "data": {
            "image/png": "[encoded data removed]",
            "text/plain": [
              "<Figure size 648x432 with 1 Axes>"
            ]
          },
          "metadata": {
            "tags": [],
            "needs_background": "light"
          }
        },
        {
          "output_type": "display_data",
          "data": {
            "image/png": "[encoded data removed]",
            "text/plain": [
              "<Figure size 648x432 with 1 Axes>"
            ]
          },
          "metadata": {
            "tags": [],
            "needs_background": "light"
          }
        }
      ]
    },
    {
      "cell_type": "code",
      "metadata": {
        "id": "6vy7iagiClz9"
      },
      "source": [
        ""
      ],
      "execution_count": null,
      "outputs": []
    }
  ]
}